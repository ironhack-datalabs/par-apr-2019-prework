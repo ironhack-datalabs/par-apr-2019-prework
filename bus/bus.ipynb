{
 "cells": [
  {
   "cell_type": "markdown",
   "metadata": {},
   "source": [
    "# Bus\n",
    "\n",
    "This bus has a passenger entry and exit control system to monitor the number of occupants it carries and thus detect when there is too high a capacity.\n",
    "\n",
    "At each stop the entry and exit of passengers is represented by a tuple consisting of two integer numbers.\n",
    "```\n",
    "bus_stop = (in, out)\n",
    "```\n",
    "The succession of stops is represented by a list of these tuples.\n",
    "```\n",
    "stops = [(in1, out1), (in2, out2), (in3, out3), (in4, out4)]\n",
    "```\n",
    "\n",
    "## Goals:\n",
    "* lists, tuples\n",
    "* while/for loops\n",
    "* minimum, maximum, length\n",
    "* average, standard deviation\n",
    "\n",
    "## Tasks\n",
    "1. Calculate the number of stops.\n",
    "2. Assign to a variable a list whose elements are the number of passengers at each stop (in-out),\n",
    "3. Find the maximum occupation of the bus.\n",
    "4. Calculate the average occupation. And the standard deviation.\n"
   ]
  },
  {
   "cell_type": "code",
   "execution_count": 1,
   "metadata": {},
   "outputs": [],
   "source": [
    "# variables\n",
    "in1=10\n",
    "out1=11\n",
    "in2=12\n",
    "out2=10\n",
    "in3=13\n",
    "out3=8\n",
    "in4=7\n",
    "out4=12\n",
    "stops = [(in1, out1), (in2, out2), (in3, out3), (in4, out4)]\n",
    "count_stops=0\n"
   ]
  },
  {
   "cell_type": "code",
   "execution_count": 3,
   "metadata": {},
   "outputs": [
    {
     "name": "stdout",
     "output_type": "stream",
     "text": [
      "the number of stops is:  4\n"
     ]
    }
   ],
   "source": [
    "# variables\n",
    "in1=10\n",
    "out1=11\n",
    "in2=12\n",
    "out2=10\n",
    "in3=13\n",
    "out3=8\n",
    "in4=7\n",
    "out4=12\n",
    "stops = [(in1, out1), (in2, out2), (in3, out3), (in4, out4)]\n",
    "count_stops=0\n",
    "\n",
    "# 1. Calculate the number of stops.\n",
    "for stop in stops:\n",
    "    count_stops+=1\n",
    "    \n",
    "print(\"the number of stops is: \",count_stops)"
   ]
  },
  {
   "cell_type": "code",
   "execution_count": 2,
   "metadata": {},
   "outputs": [
    {
     "name": "stdout",
     "output_type": "stream",
     "text": [
      "The list whose elements are the number of passengers in each stop is:  [9, 12, 15, 5]\n"
     ]
    }
   ],
   "source": [
    "# variables\n",
    "in1=10\n",
    "out1=11\n",
    "in2=12\n",
    "out2=10\n",
    "in3=13\n",
    "out3=8\n",
    "in4=7\n",
    "out4=12\n",
    "stops = [(in1, out1), (in2, out2), (in3, out3), (in4, out4)]\n",
    "count_stops=0\n",
    "\n",
    "# 2. Assign a variable a list whose elements are the number of passengers in each stop: \n",
    "# Each item depends on the previous item in the list + in - out.\n",
    "quantity_passengers=[]\n",
    "ini_passengers=10 #initial quantity of passengers\n",
    "\n",
    "for stop in stops:\n",
    "    list_stop=list(stop)#assin list value to the tuple \"stop\"\n",
    "    calc_in_out=(int(stop[0]))-(int(stop[1]))#assin int values to [in,out] and calculate in - out\n",
    "    current_passengers=ini_passengers+calc_in_out# calculate current quantity of passengers\n",
    "    quantity_passengers.append(current_passengers)#append current quantity of passengers to the new list\n",
    "    \n",
    "\n",
    "print(\"The list whose elements are the number of passengers in each stop is: \",quantity_passengers)\n"
   ]
  },
  {
   "cell_type": "code",
   "execution_count": 4,
   "metadata": {},
   "outputs": [
    {
     "name": "stdout",
     "output_type": "stream",
     "text": [
      "The maximum occupation is:  15\n"
     ]
    }
   ],
   "source": [
    "in1=10\n",
    "out1=11\n",
    "in2=12\n",
    "out2=10\n",
    "in3=13\n",
    "out3=8\n",
    "in4=7\n",
    "out4=12\n",
    "stops = [(in1, out1), (in2, out2), (in3, out3), (in4, out4)]\n",
    "count_stops=0\n",
    "quantity_passengers=[]\n",
    "ini_passengers=10 #initial quantity of passengers\n",
    "\n",
    "for stop in stops:\n",
    "    list_stop=list(stop)#assin list value to the tuple \"stop\"\n",
    "    calc_in_out=(int(stop[0]))-(int(stop[1]))#assin int values to [in,out] and calculate in - out\n",
    "    current_passengers=ini_passengers+calc_in_out# calculate current quantity of passengers\n",
    "    quantity_passengers.append(current_passengers)#append current quantity of passengers to the new list\n",
    "\n",
    "# 3. Find the maximum occupation of the bus.\n",
    "maximum_occupation=max(quantity_passengers)\n",
    "\n",
    "print(\"The maximum occupation is: \",maximum_occupation)"
   ]
  },
  {
   "cell_type": "code",
   "execution_count": 5,
   "metadata": {},
   "outputs": [
    {
     "name": "stdout",
     "output_type": "stream",
     "text": [
      "The average occupation is:  10.25\n",
      "The standard deviation is:  6.84375\n"
     ]
    }
   ],
   "source": [
    "in1=10\n",
    "out1=11\n",
    "in2=12\n",
    "out2=10\n",
    "in3=13\n",
    "out3=8\n",
    "in4=7\n",
    "out4=12\n",
    "stops = [(in1, out1), (in2, out2), (in3, out3), (in4, out4)]\n",
    "count_stops=0\n",
    "quantity_passengers=[]\n",
    "ini_passengers=10 #initial quantity of passengers\n",
    "\n",
    "for stop in stops:\n",
    "    list_stop=list(stop)#assin list value to the tuple \"stop\"\n",
    "    calc_in_out=(int(stop[0]))-(int(stop[1]))#assin int values to [in,out] and calculate in - out\n",
    "    current_passengers=ini_passengers+calc_in_out# calculate current quantity of passengers\n",
    "    quantity_passengers.append(current_passengers)#append current quantity of passengers to the new list\n",
    "    \n",
    "# 4. Calculate the average occupation. And the standard deviation.\n",
    "average_occupation=sum(quantity_passengers)/len(quantity_passengers)\n",
    "\n",
    "#this function calculates standard deviation of an entire population, represented in a list\n",
    "def standard_deviation(inserted_list):\n",
    "    mean=sum(inserted_list)/len(inserted_list)\n",
    "    numerator=0\n",
    "    denominator=len(inserted_list) #st dev for an entire population(not a sample)\n",
    "    for number in inserted_list:\n",
    "        numerator+=((number-mean)**2) # It sums up every (number-mean)**2 in each iteration\n",
    "    result=(numerator/denominator)**1/2 #calculates squared root of the (numerator/denominator), wich is equal to the standart deviation formula for an entire population\n",
    "    return result\n",
    "\n",
    "print(\"The average occupation is: \",average_occupation)\n",
    "print(\"The standard deviation is: \",standard_deviation(quantity_passengers))\n"
   ]
  },
  {
   "cell_type": "code",
   "execution_count": null,
   "metadata": {},
   "outputs": [],
   "source": []
  }
 ],
 "metadata": {
  "kernelspec": {
   "display_name": "Python 3",
   "language": "python",
   "name": "python3"
  },
  "language_info": {
   "codemirror_mode": {
    "name": "ipython",
    "version": 3
   },
   "file_extension": ".py",
   "mimetype": "text/x-python",
   "name": "python",
   "nbconvert_exporter": "python",
   "pygments_lexer": "ipython3",
   "version": "3.7.3"
  }
 },
 "nbformat": 4,
 "nbformat_minor": 2
}
