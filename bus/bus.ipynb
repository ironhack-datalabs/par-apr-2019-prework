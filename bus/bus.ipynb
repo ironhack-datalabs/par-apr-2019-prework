{
 "cells": [
  {
   "cell_type": "markdown",
   "metadata": {},
   "source": [
    "# Bus\n",
    "\n",
    "This bus has a passenger entry and exit control system to monitor the number of occupants it carries and thus detect when there is too high a capacity.\n",
    "\n",
    "At each stop the entry and exit of passengers is represented by a tuple consisting of two integer numbers.\n",
    "```\n",
    "bus_stop = (in, out)\n",
    "```\n",
    "The succession of stops is represented by a list of these tuples.\n",
    "```\n",
    "stops = [(in1, out1), (in2, out2), (in3, out3), (in4, out4)]\n",
    "```\n",
    "\n",
    "## Goals:\n",
    "* lists, tuples\n",
    "* while/for loops\n",
    "* minimum, maximum, length\n",
    "* average, standard deviation\n",
    "\n",
    "## Tasks\n",
    "1. Calculate the number of stops.\n",
    "2. Assign to a variable a list whose elements are the number of passengers at each stop (in-out),\n",
    "3. Find the maximum occupation of the bus.\n",
    "4. Calculate the average occupation. And the standard deviation.\n"
   ]
  },
  {
   "cell_type": "code",
   "execution_count": 7,
   "metadata": {},
   "outputs": [
    {
     "name": "stdout",
     "output_type": "stream",
     "text": [
      "stops = [(20, 8), (8, 10), (2, 17), (20, 17)]\n"
     ]
    }
   ],
   "source": [
    "# variables\n",
    "import random\n",
    "x = 0\n",
    "stops = [] #liste vide où on va mettre des chiffres au hasard dans les tuples \n",
    "while x < 4:\n",
    "    bus_stop = ((random.randint(1, 20)),(random.randint(1, 20)))\n",
    "    #print('Bus in,out =',bus_stop)\n",
    "    stops.append(bus_stop)\n",
    "    x+=1\n",
    "print('stops =',stops)\n",
    "\n",
    "#stops = len(stop)\n",
    "#print('Nb of stops =',stops)"
   ]
  },
  {
   "cell_type": "code",
   "execution_count": 8,
   "metadata": {},
   "outputs": [
    {
     "name": "stdout",
     "output_type": "stream",
     "text": [
      "Nb of stops = 4\n"
     ]
    }
   ],
   "source": [
    "# 1. Calculate the number of stops.\n",
    "Nb_stop = print('Nb of stops =',len(stops))"
   ]
  },
  {
   "cell_type": "code",
   "execution_count": 5,
   "metadata": {},
   "outputs": [
    {
     "name": "stdout",
     "output_type": "stream",
     "text": [
      "nb passagers in= 4\n",
      "nb passagers out = 18\n",
      "somme dans liste =  -14\n",
      "nb passagers in= 11\n",
      "nb passagers out = 13\n",
      "somme dans liste =  -2\n",
      "nb passagers in= 1\n",
      "nb passagers out = 8\n",
      "somme dans liste =  -7\n",
      "nb passagers in= 8\n",
      "nb passagers out = 15\n",
      "somme dans liste =  -7\n"
     ]
    }
   ],
   "source": [
    "# 2. Assign a variable a list whose elements are the number of passengers in each stop: \n",
    "#Each item depends on the previous item in the list + in - out.\n",
    "    #print(d[1],d[-1])\n",
    "    #nb_pass = d[1][0]\n",
    "    #print(nb_pass)\n",
    "nb_pass_in = 0 #nombre de passagers par arrets\n",
    "nb_pass_out = 0\n",
    "#y=0\n",
    "#while y < 4:\n",
    "for d in stops:\n",
    "    nb_pass_in = d[0]\n",
    "    print('nb passagers in=',nb_pass_in)\n",
    "\n",
    "    nb_pass_out = d[-1]\n",
    "    print('nb passagers out =',nb_pass_out)\n",
    "    \n",
    "    print('somme dans liste = ',nb_pass_in-nb_pass_out)\n"
   ]
  },
  {
   "cell_type": "code",
   "execution_count": 75,
   "metadata": {},
   "outputs": [
    {
     "name": "stdout",
     "output_type": "stream",
     "text": [
      "Bus capacity = 30\n"
     ]
    }
   ],
   "source": [
    "# 3. Find the maximum occupation of the bus.\n",
    "\n",
    "bus_capacity = random.randint(1, 50)\n",
    "print('Bus capacity =',bus_capacity)"
   ]
  },
  {
   "cell_type": "code",
   "execution_count": 76,
   "metadata": {},
   "outputs": [],
   "source": [
    "# 4. Calculate the average occupation. And the standard deviation."
   ]
  },
  {
   "cell_type": "code",
   "execution_count": null,
   "metadata": {},
   "outputs": [],
   "source": []
  },
  {
   "cell_type": "code",
   "execution_count": null,
   "metadata": {},
   "outputs": [],
   "source": []
  }
 ],
 "metadata": {
  "kernelspec": {
   "display_name": "Python 3",
   "language": "python",
   "name": "python3"
  },
  "language_info": {
   "codemirror_mode": {
    "name": "ipython",
    "version": 3
   },
   "file_extension": ".py",
   "mimetype": "text/x-python",
   "name": "python",
   "nbconvert_exporter": "python",
   "pygments_lexer": "ipython3",
   "version": "3.7.3"
  }
 },
 "nbformat": 4,
 "nbformat_minor": 2
}
