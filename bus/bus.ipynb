{
 "cells": [
  {
   "cell_type": "markdown",
   "metadata": {},
   "source": [
    "# Bus\n",
    "\n",
    "This bus has a passenger entry and exit control system to monitor the number of occupants it carries and thus detect when there is too high a capacity.\n",
    "\n",
    "At each stop the entry and exit of passengers is represented by a tuple consisting of two integer numbers.\n",
    "```\n",
    "bus_stop = (in, out)\n",
    "```\n",
    "The succession of stops is represented by a list of these tuples.\n",
    "```\n",
    "stops = [(in1, out1), (in2, out2), (in3, out3), (in4, out4)]\n",
    "```\n",
    "\n",
    "## Goals:\n",
    "* lists, tuples\n",
    "* while/for loops\n",
    "* minimum, maximum, length\n",
    "* average, standard deviation\n",
    "\n",
    "## Tasks\n",
    "1. Calculate the number of stops.\n",
    "2. Assign to a variable a list whose elements are the number of passengers at each stop (in-out),\n",
    "3. Find the maximum occupation of the bus.\n",
    "4. Calculate the average occupation. And the standard deviation.\n"
   ]
  },
  {
   "cell_type": "code",
   "execution_count": 1,
   "metadata": {},
   "outputs": [],
   "source": [
    "# variables\n",
    "\n"
   ]
  },
  {
   "cell_type": "code",
   "execution_count": 4,
   "metadata": {},
   "outputs": [
    {
     "name": "stdout",
     "output_type": "stream",
     "text": [
      "Number of stops on the bus route is: \n",
      "4\n"
     ]
    }
   ],
   "source": [
    "# 1. Calculate the number of stops.\n",
    "stops = [(\"in1\", \"out1\"), (\"in2\", \"out2\"), (\"in3\", \"out3\"), (\"in4\", \"out4\")]\n",
    "num_stops =len(stops)\n",
    "print(\"Number of stops on the bus route is: \")\n",
    "print(num_stops)\n"
   ]
  },
  {
   "cell_type": "code",
   "execution_count": 28,
   "metadata": {},
   "outputs": [
    {
     "name": "stdout",
     "output_type": "stream",
     "text": [
      "Number of passangers on the the bus starting his route is: \n",
      "12\n",
      "The bus stops in stop nummber is 1:\n",
      "Number of passangers who ennter the bus:\n",
      "13\n",
      "Number of passangers who left the bus:\n",
      "10\n",
      "Number of passangers on currently on the bus:\n",
      "15\n",
      "The bus stops in stop nummber is 2:\n",
      "Number of passangers who ennter the bus:\n",
      "4\n",
      "Number of passangers who left the bus:\n",
      "5\n",
      "Number of passangers on currently on the bus:\n",
      "14\n",
      "The bus stops in stop nummber is 3:\n",
      "Number of passangers who ennter the bus:\n",
      "3\n",
      "Number of passangers who left the bus:\n",
      "6\n",
      "Number of passangers on currently on the bus:\n",
      "11\n",
      "The bus stops in stop nummber is 4:\n",
      "Number of passangers who ennter the bus:\n",
      "5\n",
      "Number of passangers who left the bus:\n",
      "6\n",
      "Number of passangers on currently on the bus:\n",
      "10\n",
      "[12, 15, 14, 11, 10]\n"
     ]
    }
   ],
   "source": [
    "# 2. Assign a variable a list whose elements are the number of passengers in each stop: \n",
    "# Each item depends on the previous item in the list + in - out.\n",
    "# numer can be negative using the random method I used. can make it never be negative but that will take more time so I just left it like this on this exercise \n",
    "import random\n",
    "stops = [(random.randint(0, 15), random.randint(0, 15)), (random.randint(0, 15), random.randint(0, 15)), (random.randint(0, 15), random.randint(0, 15)), (random.randint(0, 15), random.randint(0, 15))]\n",
    "num_of_current_pass_start = random.randint(0, 15)\n",
    "num_of_pass_in_each_stop = [num_of_current_pass_start]\n",
    "num_of_current_pass = num_of_current_pass_start\n",
    "num_of_current_stop = 0\n",
    "print(\"Number of passangers on the the bus starting his route is: \")\n",
    "print(num_of_current_pass)\n",
    "for i in range (len(stops)):\n",
    "    num_of_current_stop += 1\n",
    "    num_of_current_pass = num_of_current_pass + stops[i][0] - stops[i][1]\n",
    "    num_of_pass_in_each_stop.append(num_of_current_pass)\n",
    "    print(f\"The bus stops in stop nummber is {num_of_current_stop}:\".format(num_of_current_stop))\n",
    "    print(\"Number of passangers who ennter the bus:\")\n",
    "    print(stops[i][0])\n",
    "    print(\"Number of passangers who left the bus:\")\n",
    "    print(stops[i][1])\n",
    "    print(\"Number of passangers on currently on the bus:\")\n",
    "    print(num_of_current_pass)\n",
    "print(num_of_pass_in_each_stop) "
   ]
  },
  {
   "cell_type": "code",
   "execution_count": 29,
   "metadata": {},
   "outputs": [
    {
     "name": "stdout",
     "output_type": "stream",
     "text": [
      "15\n"
     ]
    }
   ],
   "source": [
    "# 3. Find the maximum occupation of the bus.\n",
    "num_of_pass_in_each_stop = [12, 15, 14, 11, 10]\n",
    "max_pass = max(num_of_pass_in_each_stop)\n",
    "print(max_pass)"
   ]
  },
  {
   "cell_type": "code",
   "execution_count": 33,
   "metadata": {},
   "outputs": [
    {
     "name": "stdout",
     "output_type": "stream",
     "text": [
      "12.4\n",
      "1.85\n"
     ]
    }
   ],
   "source": [
    "# 4. Calculate the average occupation. And the standard deviation.\n",
    "num_of_pass_in_each_stop = [12, 15, 14, 11, 10]\n",
    "def avg_pass(lst):\n",
    "    return sum(lst)/len(lst)\n",
    "\n",
    "def sd_pass(lst):\n",
    "    mean = avg_pass(lst)\n",
    "    lst_diss_p2 = []\n",
    "    for i in lst:\n",
    "        n = (i - mean) ** 2\n",
    "        lst_diss_p2.append(n)\n",
    "    sigma = sum(lst_diss_p2)\n",
    "    return round((sigma/len(lst)) ** 0.5 , 2)\n",
    "print (avg_pass(num_of_pass_in_each_stop))\n",
    "print (sd_pass(num_of_pass_in_each_stop))\n",
    "\n",
    "    "
   ]
  },
  {
   "cell_type": "code",
   "execution_count": null,
   "metadata": {},
   "outputs": [],
   "source": []
  }
 ],
 "metadata": {
  "kernelspec": {
   "display_name": "Python 3",
   "language": "python",
   "name": "python3"
  },
  "language_info": {
   "codemirror_mode": {
    "name": "ipython",
    "version": 3
   },
   "file_extension": ".py",
   "mimetype": "text/x-python",
   "name": "python",
   "nbconvert_exporter": "python",
   "pygments_lexer": "ipython3",
   "version": "3.7.3"
  }
 },
 "nbformat": 4,
 "nbformat_minor": 2
}
