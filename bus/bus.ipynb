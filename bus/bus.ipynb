{
 "cells": [
  {
   "cell_type": "markdown",
   "metadata": {},
   "source": [
    "# Bus\n",
    "\n",
    "This bus has a passenger entry and exit control system to monitor the number of occupants it carries and thus detect when there is too high a capacity.\n",
    "\n",
    "At each stop the entry and exit of passengers is represented by a tuple consisting of two integer numbers.\n",
    "```\n",
    "bus_stop = (in, out)\n",
    "```\n",
    "The succession of stops is represented by a list of these tuples.\n",
    "```\n",
    "stops = [(in1, out1), (in2, out2), (in3, out3), (in4, out4)]\n",
    "```\n",
    "\n",
    "## Goals:\n",
    "* lists, tuples\n",
    "* while/for loops\n",
    "* minimum, maximum, length\n",
    "* average, standard deviation\n",
    "\n",
    "## Tasks\n",
    "1. Calculate the number of stops.\n",
    "2. Assign to a variable a list whose elements are the number of passengers at each stop (in-out),\n",
    "3. Find the maximum occupation of the bus.\n",
    "4. Calculate the average occupation. And the standard deviation.\n"
   ]
  },
  {
   "cell_type": "code",
   "execution_count": 5,
   "metadata": {},
   "outputs": [
    {
     "name": "stdout",
     "output_type": "stream",
     "text": [
      "At how many stops does the bus stop today? 3\n"
     ]
    },
    {
     "data": {
      "text/plain": [
       "[(1, 0), (21, 0), (32, 3)]"
      ]
     },
     "execution_count": 5,
     "metadata": {},
     "output_type": "execute_result"
    }
   ],
   "source": [
    "# variables\n",
    "\n",
    "import random\n",
    "\n",
    "stops = []\n",
    "n = 0\n",
    "occupation = 0\n",
    "\n",
    "for i in range(0, int(input('At how many stops does the bus stop today? ')) ):\n",
    "    if n == 0:\n",
    "        bus_in = random.randrange(0,50)\n",
    "        bus_out = random.randrange(0,bus_in)\n",
    "        stops.append((bus_in,bus_out))\n",
    "        n += 1\n",
    "        occupation += bus_in - bus_out        \n",
    "    else:\n",
    "        bus_in = random.randrange(0,50)\n",
    "        bus_out = random.randrange(0,occupation)\n",
    "        stops.append((bus_in , bus_out))\n",
    "        n += 1\n",
    "        occupation += bus_in - bus_out  \n",
    "stops"
   ]
  },
  {
   "cell_type": "code",
   "execution_count": 6,
   "metadata": {},
   "outputs": [
    {
     "name": "stdout",
     "output_type": "stream",
     "text": [
      "The number of stops is: 3\n"
     ]
    }
   ],
   "source": [
    "# 1. Calculate the number of stops.\n",
    "\n",
    "n_stops = len(stops)\n",
    "print('The number of stops is:' , n_stops)"
   ]
  },
  {
   "cell_type": "code",
   "execution_count": 7,
   "metadata": {},
   "outputs": [
    {
     "name": "stdout",
     "output_type": "stream",
     "text": [
      "Number of passengers in each stop is: [1, 22, 51]\n"
     ]
    }
   ],
   "source": [
    "# 2. Assign a variable a list whose elements are the number of passengers in each stop: \n",
    "# Each item depends on the previous item in the list + in - out.\n",
    "\n",
    "passengers = [0]\n",
    "for stop in stops:\n",
    "    passengers.append(passengers[-1] + stop[0] - stop[1])\n",
    "print('Number of passengers in each stop is:' , passengers[1:])"
   ]
  },
  {
   "cell_type": "code",
   "execution_count": 8,
   "metadata": {},
   "outputs": [
    {
     "name": "stdout",
     "output_type": "stream",
     "text": [
      "The maximum occupation of the bus is: 51\n"
     ]
    }
   ],
   "source": [
    "# 3. Find the maximum occupation of the bus.\n",
    "\n",
    "max_occupation = max(passengers)\n",
    "print( 'The maximum occupation of the bus is:' , max_occupation)"
   ]
  },
  {
   "cell_type": "code",
   "execution_count": 15,
   "metadata": {},
   "outputs": [
    {
     "name": "stdout",
     "output_type": "stream",
     "text": [
      "The average occupation of the bus is: 18.5 \n",
      "The standard deviation is: 20.72\n"
     ]
    }
   ],
   "source": [
    "# 4. Calculate the average occupation. And the standard deviation.\n",
    "\n",
    "import numpy as np\n",
    "\n",
    "average_occupation = round(np.mean(passengers), 2)\n",
    "sd_occupation = round(np.std(passengers), 2)\n",
    "\n",
    "print('The average occupation of the bus is:', average_occupation, '\\n'\\\n",
    " 'The standard deviation is:', sd_occupation)\n",
    "\n",
    "#sd_occupation = math.sqrt(sum((i - average_occupation)**2 for i in passengers) / len(passengers))"
   ]
  },
  {
   "cell_type": "code",
   "execution_count": null,
   "metadata": {},
   "outputs": [],
   "source": []
  }
 ],
 "metadata": {
  "kernelspec": {
   "display_name": "Python 3",
   "language": "python",
   "name": "python3"
  },
  "language_info": {
   "codemirror_mode": {
    "name": "ipython",
    "version": 3
   },
   "file_extension": ".py",
   "mimetype": "text/x-python",
   "name": "python",
   "nbconvert_exporter": "python",
   "pygments_lexer": "ipython3",
   "version": "3.7.3"
  }
 },
 "nbformat": 4,
 "nbformat_minor": 2
}
