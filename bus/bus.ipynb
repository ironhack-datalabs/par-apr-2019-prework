{
 "cells": [
  {
   "cell_type": "markdown",
   "metadata": {},
   "source": [
    "# Bus\n",
    "\n",
    "This bus has a passenger entry and exit control system to monitor the number of occupants it carries and thus detect when there is too high a capacity.\n",
    "\n",
    "At each stop the entry and exit of passengers is represented by a tuple consisting of two integer numbers.\n",
    "```\n",
    "bus_stop = (in, out)\n",
    "```\n",
    "The succession of stops is represented by a list of these tuples.\n",
    "```\n",
    "stops = [(in1, out1), (in2, out2), (in3, out3), (in4, out4)]\n",
    "```\n",
    "\n",
    "## Goals:\n",
    "* lists, tuples\n",
    "* while/for loops\n",
    "* minimum, maximum, length\n",
    "* average, standard deviation\n",
    "\n",
    "## Tasks\n",
    "1. Calculate the number of stops.\n",
    "2. Assign to a variable a list whose elements are the number of passengers at each stop (in-out),\n",
    "3. Find the maximum occupation of the bus.\n",
    "4. Calculate the average occupation. And the standard deviation.\n"
   ]
  },
  {
   "cell_type": "code",
   "execution_count": 8,
   "metadata": {},
   "outputs": [],
   "source": [
    "# variables\n",
    "bus_stop = (0, 0)\n",
    "stops = [(10, 0), (20, 10), (30, 15), (0, 35)]"
   ]
  },
  {
   "cell_type": "code",
   "execution_count": 6,
   "metadata": {},
   "outputs": [
    {
     "data": {
      "text/plain": [
       "4"
      ]
     },
     "execution_count": 6,
     "metadata": {},
     "output_type": "execute_result"
    }
   ],
   "source": [
    "# 1. Calculate the number of stops.\n",
    "len(stops)\n"
   ]
  },
  {
   "cell_type": "code",
   "execution_count": 37,
   "metadata": {},
   "outputs": [
    {
     "name": "stdout",
     "output_type": "stream",
     "text": [
      "[10, 20, 35, 0]\n"
     ]
    }
   ],
   "source": [
    "# 2. Assign a variable a list whose elements are the number of passengers in each stop: \n",
    "# Each item depends on the previous item in the list + in - out.\n",
    "number_passengers = []\n",
    "for stop in stops:\n",
    "    entree = stop[0]\n",
    "    out = stop[1]\n",
    "    passengers += entree - out\n",
    "    number_passengers.append(passengers)\n",
    "print(number_passengers)\n",
    "    \n",
    "\n",
    "    \n",
    "    #passengers_1 = stop_0 + in \n",
    "    #passengers_2 = stop_1 + in - out\n",
    "    #passengers_3 = stop_2 + in - out\n",
    "    #passengers_4 = stop_3 + in - out\n",
    "\n",
    "\n",
    "#passengers_1 = bus_stop1[0]\n",
    "#print(passengers_1)\n",
    "\n",
    "#passengers_2 = passengers_1 + bus_stop2\n",
    "\n",
    "    \n",
    "\n",
    "\n"
   ]
  },
  {
   "cell_type": "code",
   "execution_count": 26,
   "metadata": {},
   "outputs": [
    {
     "name": "stdout",
     "output_type": "stream",
     "text": [
      "35\n"
     ]
    }
   ],
   "source": [
    "# 3. Find the maximum occupation of the bus.\n",
    "print(max(number_passengers))\n"
   ]
  },
  {
   "cell_type": "code",
   "execution_count": 40,
   "metadata": {},
   "outputs": [
    {
     "name": "stdout",
     "output_type": "stream",
     "text": [
      "16.25\n",
      "The standard deviation is 1.6957508906210819\n"
     ]
    }
   ],
   "source": [
    "# 4. Calculate the average occupation. And the standard deviation.\n",
    "mean_occupation = sum(number_passengers)/len(number_passengers)\n",
    "print(mean_occupation)\n",
    "\n",
    "#for passengers in number_passengers:\n",
    "    #passengers - mean_occupation\n",
    "    #(passengers - mean_occupation)**2\n",
    "    #print(passengers)\n",
    "\n",
    "from math import sqrt\n",
    "\n",
    "standard_deviation = sqrt((number_passengers[0] - mean_occupation)**2 + (number_passengers[1] - mean_occupation)**2 + (number_passengers[2] - mean_occupation)**2 + (number_passengers[3] - mean_occupation)**2) / (mean_occupation - 1)\n",
    "print(\"The standard deviation is\", standard_deviation)"
   ]
  },
  {
   "cell_type": "code",
   "execution_count": null,
   "metadata": {},
   "outputs": [],
   "source": []
  }
 ],
 "metadata": {
  "kernelspec": {
   "display_name": "Python 3",
   "language": "python",
   "name": "python3"
  },
  "language_info": {
   "codemirror_mode": {
    "name": "ipython",
    "version": 3
   },
   "file_extension": ".py",
   "mimetype": "text/x-python",
   "name": "python",
   "nbconvert_exporter": "python",
   "pygments_lexer": "ipython3",
   "version": "3.7.3"
  }
 },
 "nbformat": 4,
 "nbformat_minor": 2
}
