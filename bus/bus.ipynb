{
 "cells": [
  {
   "cell_type": "markdown",
   "metadata": {},
   "source": [
    "# Bus\n",
    "\n",
    "This bus has a passenger entry and exit control system to monitor the number of occupants it carries and thus detect when there is too high a capacity.\n",
    "\n",
    "At each stop the entry and exit of passengers is represented by a tuple consisting of two integer numbers.\n",
    "```\n",
    "bus_stop = (in, out)\n",
    "```\n",
    "The succession of stops is represented by a list of these tuples.\n",
    "```\n",
    "stops = [(in1, out1), (in2, out2), (in3, out3), (in4, out4)]\n",
    "```\n",
    "\n",
    "## Goals:\n",
    "* lists, tuples\n",
    "* while/for loops\n",
    "* minimum, maximum, length\n",
    "* average, standard deviation\n",
    "\n",
    "## Tasks\n",
    "1. Calculate the number of stops.\n",
    "2. Assign to a variable a list whose elements are the number of passengers at each stop (in-out),\n",
    "3. Find the maximum occupation of the bus.\n",
    "4. Calculate the average occupation. And the standard deviation.\n"
   ]
  },
  {
   "cell_type": "code",
   "execution_count": 4,
   "metadata": {},
   "outputs": [],
   "source": [
    "# variables\n",
    "\n",
    "stops = [(10, 2), (4, 2), (8, 7), (6, 4)]\n"
   ]
  },
  {
   "cell_type": "code",
   "execution_count": 11,
   "metadata": {},
   "outputs": [
    {
     "name": "stdout",
     "output_type": "stream",
     "text": [
      "4\n"
     ]
    }
   ],
   "source": [
    "# 1. Calculate the number of stops.\n",
    "\n",
    "number_stops = len(stops)\n",
    "print(number_stops)\n",
    "\n"
   ]
  },
  {
   "cell_type": "code",
   "execution_count": 14,
   "metadata": {},
   "outputs": [
    {
     "name": "stdout",
     "output_type": "stream",
     "text": [
      "[8, 10, 11, 13]\n"
     ]
    }
   ],
   "source": [
    "# 2. Assign a variable a list whose elements are the number of passengers in each stop: \n",
    "# Each item depends on the previous item in the list + in - out.\n",
    "\n",
    "passengers_each_stop = 0\n",
    "new_passengers_per_stop = []\n",
    "list_passenger_each_stop = []\n",
    "\n",
    "\n",
    "for i in stops:\n",
    "    new_passengers_per_stop.append(i[0] - i[1])\n",
    "    #print(new_passengers_per_stop)\n",
    "    \n",
    "for i in new_passengers_per_stop:\n",
    "    passengers_each_stop += i\n",
    "    list_passenger_each_stop.append(passengers_each_stop)\n",
    "    \n",
    "print(list_passenger_each_stop)\n",
    "\n"
   ]
  },
  {
   "cell_type": "code",
   "execution_count": 15,
   "metadata": {},
   "outputs": [
    {
     "name": "stdout",
     "output_type": "stream",
     "text": [
      "The maximum occupation of the bus: 13\n"
     ]
    }
   ],
   "source": [
    "# 3. Find the maximum occupation of the bus.\n",
    "\n",
    "print('The maximum occupation of the bus:',max(list_passenger_each_stop))"
   ]
  },
  {
   "cell_type": "code",
   "execution_count": 29,
   "metadata": {},
   "outputs": [
    {
     "name": "stdout",
     "output_type": "stream",
     "text": [
      "The average occupation of the bus: 10.5\n",
      "The standard deviation is: 0.9013878188659973\n"
     ]
    }
   ],
   "source": [
    "# 4. Calculate the average occupation. And the standard deviation.\n",
    "\n",
    "# Average occupation\n",
    "average_occupation = sum(list_passenger_each_stop)/len(list_passenger_each_stop)\n",
    "print('The average occupation of the bus:',average_occupation)\n",
    "\n",
    "#Standard deviation\n",
    "\n",
    "square_to_mean = 0\n",
    "sum_square_to_mean = 0\n",
    "\n",
    "for i in list_passenger_each_stop:\n",
    "    square_to_mean = (i-average_occupation)**2\n",
    "    sum_square_to_mean += square_to_mean\n",
    "    #print(square_to_mean)\n",
    "\n",
    "#print (sum_square_to_mean)\n",
    "\n",
    "import math\n",
    "\n",
    "standard_deviation = (math.sqrt(sum_square_to_mean)/len(list_passenger_each_stop))\n",
    "print('The standard deviation is:',standard_deviation)\n",
    "    "
   ]
  },
  {
   "cell_type": "code",
   "execution_count": null,
   "metadata": {},
   "outputs": [],
   "source": []
  }
 ],
 "metadata": {
  "kernelspec": {
   "display_name": "Python 3",
   "language": "python",
   "name": "python3"
  },
  "language_info": {
   "codemirror_mode": {
    "name": "ipython",
    "version": 3
   },
   "file_extension": ".py",
   "mimetype": "text/x-python",
   "name": "python",
   "nbconvert_exporter": "python",
   "pygments_lexer": "ipython3",
   "version": "3.7.3"
  }
 },
 "nbformat": 4,
 "nbformat_minor": 2
}
