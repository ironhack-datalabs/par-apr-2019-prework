{
 "cells": [
  {
   "cell_type": "markdown",
   "metadata": {},
   "source": [
    "# Duel of sorcerers\n",
    "You are witnessing an epic battle between two powerful sorcerers: Gandalf and Saruman. Each sorcerer has 10 spells of variable power in their mind and they are going to throw them one after the other. The winner of the duel will be the one who wins more of those clashes between spells. Spells are represented as a list of 10 integers whose value equals the power of the spell.\n",
    "```\n",
    "gandalf = [10, 11, 13, 30, 22, 11, 10, 33, 22, 22]\n",
    "saruman = [23, 66, 12, 43, 12, 10, 44, 23, 12, 17]\n",
    "```\n",
    "For example:\n",
    "1. The first clash is won by Saruman: 10 against 23, wins 23\n",
    "2. The second clash wins Saruman: 11 against 66, wins 66\n",
    "3. etc.\n",
    "\n",
    "\n",
    "You will create two variables, one for each sorcerer, where the sum of clashes won will be stored. Depending on which variable is greater at the end of the duel, you will show one of the following three results on the screen:\n",
    "* Gandalf wins\n",
    "* Saruman wins\n",
    "* Tie\n",
    "\n",
    "<img src=\"images/content_lightning_bolt_big.jpg\" width=\"400\">"
   ]
  },
  {
   "cell_type": "markdown",
   "metadata": {},
   "source": [
    "## Solution"
   ]
  },
  {
   "cell_type": "code",
   "execution_count": 1,
   "metadata": {},
   "outputs": [],
   "source": [
    "# Assign spell power lists to variables\n",
    "\n",
    "gandalf = [10, 11, 13, 30, 22, 11, 10, 33, 22, 22]\n",
    "saruman = [23, 66, 12, 43, 12, 10, 44, 23, 12, 17]"
   ]
  },
  {
   "cell_type": "code",
   "execution_count": 2,
   "metadata": {},
   "outputs": [],
   "source": [
    "# Assign 0 to each variable that stores the victories\n",
    "gandalf_victories = 0\n",
    "saruman_victories = 0"
   ]
  },
  {
   "cell_type": "code",
   "execution_count": 3,
   "metadata": {},
   "outputs": [
    {
     "name": "stdout",
     "output_type": "stream",
     "text": [
      "Gandalf wins!\n"
     ]
    }
   ],
   "source": [
    "# Execution of spell clashes\n",
    "gandalf_victories = 0\n",
    "saruman_victories = 0\n",
    "\n",
    "for i, j in (zip(gandalf,saruman)):\n",
    "    if j > i:\n",
    "            saruman_victories += 1\n",
    "    elif i > j:\n",
    "            gandalf_victories += 1\n",
    "\n",
    "if saruman_victories > gandalf_victories:\n",
    "    print('Saruman wins !')\n",
    "elif gandalf_victories > saruman_victories:\n",
    "     print('Gandalf wins!')\n",
    "else: \n",
    "     print(Tie)\n"
   ]
  },
  {
   "cell_type": "code",
   "execution_count": 4,
   "metadata": {},
   "outputs": [],
   "source": [
    "# We check who has won, do not forget the possibility of a draw.\n",
    "# Print the result based on the winner.\n",
    "\n"
   ]
  },
  {
   "cell_type": "markdown",
   "metadata": {},
   "source": [
    "## Goals\n",
    "\n",
    "1. Treatment of lists\n",
    "2. Use of **for loop**\n",
    "3. Use of conditional **if-elif-else**\n",
    "4. Use of the functions **range(), len()**\n",
    "5. Print"
   ]
  },
  {
   "cell_type": "markdown",
   "metadata": {},
   "source": [
    "## Bonus\n",
    "\n",
    "1. Spells now have a name and there is a dictionary that relates that name to a power.\n",
    "2. A sorcerer wins if he succeeds in winning 3 spell clashes in a row.\n",
    "3. Average of each of the spell lists.\n",
    "4. Standard deviation of each of the spell lists.\n",
    "\n",
    "```\n",
    "POWER = {\n",
    "    'Fireball': 50, \n",
    "    'Lightning bolt': 40, \n",
    "    'Magic arrow': 10, \n",
    "    'Black Tentacles': 25, \n",
    "    'Contagion': 45\n",
    "}\n",
    "\n",
    "gandalf = ['Fireball', 'Lightning bolt', 'Lightning bolt', 'Magic arrow', 'Fireball', \n",
    "           'Magic arrow', 'Lightning bolt', 'Fireball', 'Fireball', 'Fireball']\n",
    "saruman = ['Contagion', 'Contagion', 'Black Tentacles', 'Fireball', 'Black Tentacles', \n",
    "           'Lightning bolt', 'Magic arrow', 'Contagion', 'Magic arrow', 'Magic arrow']\n",
    "```\n",
    "\n",
    "Good luck!"
   ]
  },
  {
   "cell_type": "code",
   "execution_count": 5,
   "metadata": {},
   "outputs": [],
   "source": [
    "# 1. Spells now have a name and there is a dictionary that relates that name to a power.\n",
    "# variables\n",
    "\n",
    "POWER = {\n",
    "    'Fireball': 50, \n",
    "    'Lightning bolt': 40, \n",
    "    'Magic arrow': 10, \n",
    "    'Black Tentacles': 25, \n",
    "    'Contagion': 45\n",
    "}\n",
    "\n",
    "gandalf = ['Fireball', 'Lightning bolt', 'Lightning bolt', 'Magic arrow', 'Fireball', \n",
    "           'Magic arrow', 'Lightning bolt', 'Fireball', 'Magic arrow', 'Fireball']\n",
    "saruman = ['Contagion', 'Contagion', 'Black Tentacles', 'Fireball', 'Black Tentacles', \n",
    "           'Lightning bolt', 'Magic arrow', 'Contagion', 'Magic arrow', 'Magic arrow']"
   ]
  },
  {
   "cell_type": "code",
   "execution_count": 6,
   "metadata": {},
   "outputs": [
    {
     "name": "stdout",
     "output_type": "stream",
     "text": [
      "[50, 40, 40, 10, 50, 10, 40, 50, 10, 50]\n",
      "[45, 45, 25, 50, 25, 40, 10, 45, 10, 10]\n"
     ]
    }
   ],
   "source": [
    "# Assign spell power lists to variables\n",
    "\n",
    "gandalf_power = []\n",
    "        \n",
    "for gandalf_p in gandalf:\n",
    "    for spell, power in POWER.items():\n",
    "        if gandalf_p == spell:\n",
    "            gandalf_power.append(power)\n",
    "           \n",
    "print(gandalf_power) \n",
    "\n",
    "saruman_power = []\n",
    "        \n",
    "for saruman_p in saruman:\n",
    "    for spell, power in POWER.items():\n",
    "        if saruman_p == spell:\n",
    "            saruman_power.append(power)\n",
    "           \n",
    "print(saruman_power)\n"
   ]
  },
  {
   "cell_type": "code",
   "execution_count": 46,
   "metadata": {},
   "outputs": [
    {
     "name": "stdout",
     "output_type": "stream",
     "text": [
      "Saruman: [0, 1, 0, 1, 0, 1, 0, 0, 0]\n",
      "Gandalf [1, 0, 1, 0, 1, 0, 1, 1, 1]\n",
      "Gandalf wins!\n"
     ]
    }
   ],
   "source": [
    "# 2. A sorcerer wins if he succeeds in winning 3 spell clashes in a row.\n",
    "# Execution of spell clashes\n",
    "gandalf_power = [50, 40, 40, 10, 50, 10, 40, 50, 10, 50]\n",
    "saruman_power =[45, 45, 25, 50, 25, 40, 10, 45, 10, 10]\n",
    "\n",
    "gandalf_victories = []\n",
    "saruman_victories = []\n",
    "\n",
    "for i, j in (zip(gandalf_power,saruman_power)):\n",
    "    if j > i:\n",
    "            saruman_victories.append(1)\n",
    "            gandalf_victories.append(0)\n",
    "    elif i > j:\n",
    "            gandalf_victories.append(1)\n",
    "            saruman_victories.append(0)    \n",
    "print('Saruman:',saruman_victories)\n",
    "print('Gandalf',gandalf_victories)\n",
    "\n",
    "# check for 3 wins in a row\n",
    "# How can I check 3 wins in a row?\n",
    "\n",
    "# Hint\n",
    "# Create a counter variable set to zero\n",
    "# Inside the loop, check if win and if that's the case, increment counter. Else set it to zero.\n",
    "# Inside the loop, check if counter >= 3, if that's the case, break out of the loop to tell that the current has won\n",
    "\n",
    "counter_gandalf = 0\n",
    "counter_saruman = 0\n",
    "\n",
    "for c in gandalf_victories:\n",
    "    if c == 1:\n",
    "        counter_gandalf = counter_gandalf + 1\n",
    "        if counter_gandalf >= 3:\n",
    "            print('Gandalf wins!')\n",
    "            break   \n",
    "    else:\n",
    "        counter_gandalf = 0\n",
    "\n",
    "for c in saruman_victories:\n",
    "    if c == 1:\n",
    "        counter_saruman += 1\n",
    "        if counter_saruman >= 3:\n",
    "            print('Saruman wins!')\n",
    "            break   \n",
    "    else:\n",
    "        counter_saruman = 0\n",
    "       \n",
    "        \n",
    "# check the winner\n"
   ]
  },
  {
   "cell_type": "code",
   "execution_count": 39,
   "metadata": {},
   "outputs": [
    {
     "name": "stdout",
     "output_type": "stream",
     "text": [
      "The average of the power of Saruman is: 30.5 .\n",
      "The average of the power of Gandalf is: 35.0 .\n"
     ]
    }
   ],
   "source": [
    "# 3. Average of each of the spell lists.\n",
    "Average_saruman = sum(saruman_power)/len(saruman_power)\n",
    "print('The average of the power of Saruman is:', Average_saruman, '.')\n",
    "\n",
    "Average_gandalf = sum(gandalf_power)/len(gandalf_power)\n",
    "print('The average of the power of Gandalf is:', Average_gandalf, '.')\n"
   ]
  },
  {
   "cell_type": "code",
   "execution_count": 148,
   "metadata": {},
   "outputs": [
    {
     "name": "stdout",
     "output_type": "stream",
     "text": [
      "Standard deviation of Gandalf: 16.881943016134134\n",
      "Standard deviation of Saruman: 15.56438241627338\n"
     ]
    }
   ],
   "source": [
    "# 4. Standard deviation of each of the spell lists.\n",
    "import numpy as np\n",
    "print('Standard deviation of Gandalf:', np.std(gandalf_power))\n",
    "import numpy as np\n",
    "print('Standard deviation of Saruman:', np.std(saruman_power))\n"
   ]
  },
  {
   "cell_type": "code",
   "execution_count": null,
   "metadata": {},
   "outputs": [],
   "source": []
  }
 ],
 "metadata": {
  "kernelspec": {
   "display_name": "Python 3",
   "language": "python",
   "name": "python3"
  },
  "language_info": {
   "codemirror_mode": {
    "name": "ipython",
    "version": 3
   },
   "file_extension": ".py",
   "mimetype": "text/x-python",
   "name": "python",
   "nbconvert_exporter": "python",
   "pygments_lexer": "ipython3",
   "version": "3.7.3"
  }
 },
 "nbformat": 4,
 "nbformat_minor": 2
}
