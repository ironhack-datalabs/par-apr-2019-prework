{
 "cells": [
  {
   "cell_type": "markdown",
   "metadata": {},
   "source": [
    "# Duel of sorcerers\n",
    "You are witnessing an epic battle between two powerful sorcerers: Gandalf and Saruman. Each sorcerer has 10 spells of variable power in their mind and they are going to throw them one after the other. The winner of the duel will be the one who wins more of those clashes between spells. Spells are represented as a list of 10 integers whose value equals the power of the spell.\n",
    "```\n",
    "gandalf = [10, 11, 13, 30, 22, 11, 10, 33, 22, 22]\n",
    "saruman = [23, 66, 12, 43, 12, 10, 44, 23, 12, 17]\n",
    "```\n",
    "For example:\n",
    "1. The first clash is won by Saruman: 10 against 23, wins 23\n",
    "2. The second clash wins Saruman: 11 against 66, wins 66\n",
    "3. etc.\n",
    "\n",
    "\n",
    "You will create two variables, one for each sorcerer, where the sum of clashes won will be stored. Depending on which variable is greater at the end of the duel, you will show one of the following three results on the screen:\n",
    "* Gandalf wins\n",
    "* Saruman wins\n",
    "* Tie\n",
    "\n",
    "<img src=\"images/content_lightning_bolt_big.jpg\" width=\"400\">"
   ]
  },
  {
   "cell_type": "markdown",
   "metadata": {},
   "source": [
    "## Solution"
   ]
  },
  {
   "cell_type": "code",
   "execution_count": 1,
   "metadata": {},
   "outputs": [],
   "source": [
    "# Assign spell power lists to variables\n",
    "\n",
    "gandalf = [10, 11, 13, 30, 22, 11, 10, 33, 22, 22]\n",
    "saruman = [23, 66, 12, 43, 12, 10, 44, 23, 12, 17]"
   ]
  },
  {
   "cell_type": "code",
   "execution_count": 2,
   "metadata": {},
   "outputs": [],
   "source": [
    "# Assign 0 to each variable that stores the victories\n",
    "gand_victories = 0\n",
    "saru_victories = 0"
   ]
  },
  {
   "cell_type": "code",
   "execution_count": 8,
   "metadata": {},
   "outputs": [],
   "source": [
    "# Execution of spell clashes\n",
    "gandalf = [10, 11, 13, 30, 22, 11, 10, 33, 22, 22]\n",
    "saruman = [23, 66, 12, 43, 12, 10, 44, 23, 12, 17]\n",
    "gand_victories = 0\n",
    "saru_victories = 0\n",
    "\n",
    "for i in range(len(gandalf)):\n",
    "    if gandalf[i] > saruman[i]:\n",
    "        gand_victories += 1\n",
    "    elif gandalf[i] < saruman[i]:\n",
    "        saru_victories += 1\n",
    "    else:\n",
    "        break\n"
   ]
  },
  {
   "cell_type": "code",
   "execution_count": 16,
   "metadata": {},
   "outputs": [
    {
     "name": "stdout",
     "output_type": "stream",
     "text": [
      "Result: Gandalf wins\n"
     ]
    }
   ],
   "source": [
    "# We check who has won, do not forget the possibility of a draw.\n",
    "        \n",
    "if gand_victories > saru_victories :\n",
    "    result = \"Gandalf wins\"\n",
    "elif gand_victories < saru_victories :\n",
    "    result = \"Saruman wins\"\n",
    "else :\n",
    "    result = \"Tie\"\n",
    "    \n",
    "# Print the result based on the winner.\n",
    "print(\"Result: %s\" % result)\n",
    "\n"
   ]
  },
  {
   "cell_type": "markdown",
   "metadata": {},
   "source": [
    "## Goals\n",
    "\n",
    "1. Treatment of lists\n",
    "2. Use of **for loop**\n",
    "3. Use of conditional **if-elif-else**\n",
    "4. Use of the functions **range(), len()**\n",
    "5. Print"
   ]
  },
  {
   "cell_type": "markdown",
   "metadata": {},
   "source": [
    "## Bonus\n",
    "\n",
    "1. Spells now have a name and there is a dictionary that relates that name to a power.\n",
    "2. A sorcerer wins if he succeeds in winning 3 spell clashes in a row.\n",
    "3. Average of each of the spell lists.\n",
    "4. Standard deviation of each of the spell lists.\n",
    "\n",
    "```\n",
    "POWER = {\n",
    "    'Fireball': 50, \n",
    "    'Lightning bolt': 40, \n",
    "    'Magic arrow': 10, \n",
    "    'Black Tentacles': 25, \n",
    "    'Contagion': 45\n",
    "}\n",
    "\n",
    "gandalf = ['Fireball', 'Lightning bolt', 'Lightning bolt', 'Magic arrow', 'Fireball', \n",
    "           'Magic arrow', 'Lightning bolt', 'Fireball', 'Fireball', 'Fireball']\n",
    "saruman = ['Contagion', 'Contagion', 'Black Tentacles', 'Fireball', 'Black Tentacles', \n",
    "           'Lightning bolt', 'Magic arrow', 'Contagion', 'Magic arrow', 'Magic arrow']\n",
    "```\n",
    "\n",
    "Good luck!"
   ]
  },
  {
   "cell_type": "code",
   "execution_count": 61,
   "metadata": {},
   "outputs": [],
   "source": [
    "# 1. Spells now have a name and there is a dictionary that relates that name to a power.\n",
    "# variables\n",
    "\n",
    "POWER = {\n",
    "    'Fireball': 50, \n",
    "    'Lightning bolt': 40, \n",
    "    'Magic arrow': 10, \n",
    "    'Black Tentacles': 25, \n",
    "    'Contagion': 45\n",
    "}\n",
    "\n",
    "gandalf = ['Fireball', 'Lightning bolt', 'Lightning bolt', 'Magic arrow', 'Fireball', \n",
    "           'Magic arrow', 'Lightning bolt', 'Fireball', 'Magic arrow', 'Fireball']\n",
    "saruman = ['Contagion', 'Contagion', 'Black Tentacles', 'Fireball', 'Black Tentacles', \n",
    "           'Lightning bolt', 'Magic arrow', 'Contagion', 'Magic arrow', 'Magic arrow']\n",
    "\n",
    "\n"
   ]
  },
  {
   "cell_type": "code",
   "execution_count": 62,
   "metadata": {},
   "outputs": [
    {
     "name": "stdout",
     "output_type": "stream",
     "text": [
      "[50, 40, 40, 10, 50, 10, 40, 50, 10, 50]\n",
      "[45, 45, 25, 50, 25, 40, 10, 45, 10, 10]\n"
     ]
    }
   ],
   "source": [
    "# Assign spell power lists to variables\n",
    "\n",
    "Gand=[]\n",
    "Saru=[]\n",
    "for i in range(len(gandalf)):\n",
    "    Gand.append(POWER[gandalf[i]])\n",
    "    Saru.append(POWER[saruman[i]])\n",
    "    #print(gandalf[i])\n",
    "    #print(POWER[gandalf[i]])\n",
    "print(Gand)\n",
    "print(Saru)"
   ]
  },
  {
   "cell_type": "code",
   "execution_count": 64,
   "metadata": {},
   "outputs": [
    {
     "name": "stdout",
     "output_type": "stream",
     "text": [
      "Gandalf victories(1)/losses(0)/draw(6): [1, 0, 1, 0, 1, 0, 1, 1, 6, 1]\n",
      "Saruman victories(1)/losses(0)/draw(6): [0, 1, 0, 1, 0, 1, 0, 0, 6, 0]\n",
      "Result : Tie\n"
     ]
    }
   ],
   "source": [
    "# 2. A sorcerer wins if he succeeds in winning 3 spell clashes in a row.\n",
    "\n",
    "\n",
    "# Execution of spell clashes\n",
    "\n",
    "gand_victories = []\n",
    "saru_victories = []\n",
    "\n",
    "for i in range(len(Gand)):\n",
    "    if Gand[i] > Saru[i]:\n",
    "        gand_victories.append(1)\n",
    "        saru_victories.append(0)\n",
    "    elif Gand[i] < Saru[i]:\n",
    "        gand_victories.append(0)\n",
    "        saru_victories.append(1)\n",
    "    else:\n",
    "        gand_victories.append(6)\n",
    "        saru_victories.append(6)\n",
    "print(\"Gandalf victories(1)/losses(0)/draw(6):\", gand_victories)\n",
    "print(\"Saruman victories(1)/losses(0)/draw(6):\", saru_victories)\n",
    "\n",
    "\n",
    "# check for 3 wins in a row\n",
    "\n",
    "for i in range(len(gand_victories)-2):\n",
    "    #print(gand_victories[i], gand_victories[i+1], gand_victories[i+2])\n",
    "    #print(saru_victories[i], saru_victories[i+1], saru_victories[i+2])\n",
    "    if gand_victories[i] ==1 & gand_victories[i+1] ==1 & gand_victories[i+2] ==1:\n",
    "        result = \"Gandalf wins\"\n",
    "    elif saru_victories[i] ==1 & saru_victories[i+1] ==1 & saru_victories[i+2] ==1:\n",
    "        result = \"Saruman wins\"\n",
    "    else :\n",
    "        result = \"Tie\"\n",
    "\n",
    "# check the winner\n",
    "\n",
    "print(\"Result :\", result)\n"
   ]
  },
  {
   "cell_type": "code",
   "execution_count": 51,
   "metadata": {},
   "outputs": [
    {
     "name": "stdout",
     "output_type": "stream",
     "text": [
      "Average Gandalf: 35.0\n",
      "Average Saruman: 30.5\n"
     ]
    }
   ],
   "source": [
    "# 3. Average of each of the spell lists.\n",
    "\n",
    "print(\"Average Gandalf:\", sum(Gand)/len(Gand))\n",
    "print(\"Average Saruman:\", sum(Saru)/len(Saru))\n"
   ]
  },
  {
   "cell_type": "code",
   "execution_count": 65,
   "metadata": {},
   "outputs": [
    {
     "name": "stdout",
     "output_type": "stream",
     "text": [
      "Standard deviation of Gandalf = 17.795\n",
      "Standard deviation of Saruman = 16.406\n"
     ]
    }
   ],
   "source": [
    "# 4. Standard deviation of each of the spell lists.\n",
    "\n",
    "meanG = sum(Gand)/len(Gand)\n",
    "meanS = sum(Saru)/len(Saru)\n",
    "\n",
    "sum_sq_G = 0\n",
    "for i in Gand:\n",
    "    sum_sq_G += (i-meanG)**2\n",
    "\n",
    "sum_sq_S = 0\n",
    "for i in Saru:\n",
    "    sum_sq_S += (i-meanS)**2\n",
    "\n",
    "stdG = (sum_sq_G/(len(Gand)-1))**(0.5)\n",
    "stdS = (sum_sq_S/(len(Saru)-1))**(0.5)\n",
    "\n",
    "print(\"Standard deviation of Gandalf =\", '{:06.3f}'.format(stdG))\n",
    "print(\"Standard deviation of Saruman =\", '{:06.3f}'.format(stdS))"
   ]
  },
  {
   "cell_type": "code",
   "execution_count": null,
   "metadata": {},
   "outputs": [],
   "source": []
  }
 ],
 "metadata": {
  "kernelspec": {
   "display_name": "Python 3",
   "language": "python",
   "name": "python3"
  },
  "language_info": {
   "codemirror_mode": {
    "name": "ipython",
    "version": 3
   },
   "file_extension": ".py",
   "mimetype": "text/x-python",
   "name": "python",
   "nbconvert_exporter": "python",
   "pygments_lexer": "ipython3",
   "version": "3.7.3"
  }
 },
 "nbformat": 4,
 "nbformat_minor": 2
}
