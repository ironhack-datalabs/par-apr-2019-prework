{
 "cells": [
  {
   "cell_type": "markdown",
   "metadata": {},
   "source": [
    "# Snail and well\n",
    "\n",
    "A snail falls at the bottom of a 125 cm well. Each day the snail rises 30 cm. But at night, while sleeping, slides 20 cm because the walls are wet. How many days does it take to escape from the well?\n",
    "\n",
    "TIP: http://puzzles.nigelcoldwell.co.uk/sixtytwo.htm"
   ]
  },
  {
   "cell_type": "markdown",
   "metadata": {},
   "source": [
    "## Solución"
   ]
  },
  {
   "cell_type": "code",
   "execution_count": 1,
   "metadata": {},
   "outputs": [
    {
     "name": "stdout",
     "output_type": "stream",
     "text": [
      "Days = 11\n"
     ]
    }
   ],
   "source": [
    "# Assign problem data to variables with representative names\n",
    "# well height, daily advance, night retreat, accumulated distance\n",
    "well_height = 125\n",
    "daily_advance = 30\n",
    "night_retreat = 20\n",
    "accumulated_distance = 0\n",
    "\n",
    "# Assign 0 to the variable that represents the solution\n",
    "days = 0\n",
    "\n",
    "# Write the code that solves the problem\n",
    "while well_height >=0:\n",
    "    accumulated_distance += daily_advance\n",
    "    days += 1\n",
    "    if accumulated_distance >= well_height:\n",
    "        break\n",
    "    else:\n",
    "        accumulated_distance -= night_retreat\n",
    "\n",
    "# Print the result with print('Days =', days)\n",
    "print('Days =', days)"
   ]
  },
  {
   "cell_type": "markdown",
   "metadata": {},
   "source": [
    "## Goals\n",
    "\n",
    "1. Treatment of variables\n",
    "2. Use of loop **while**\n",
    "3. Use of conditional **if-else**\n",
    "4. Print in console"
   ]
  },
  {
   "cell_type": "markdown",
   "metadata": {},
   "source": [
    "## Bonus\n",
    "The distance traveled by the snail is now defined by a list.\n",
    "```\n",
    "advance_cm = [30, 21, 33, 77, 44, 45, 23, 45, 12, 34, 55]\n",
    "```\n",
    "How long does it take to raise the well?\n",
    "\n",
    "What is its maximum displacement in one day? And its minimum?\n",
    "\n",
    "What is its average speed during the day?\n",
    "\n",
    "What is the standard deviation of its displacement during the day?"
   ]
  },
  {
   "cell_type": "code",
   "execution_count": 2,
   "metadata": {},
   "outputs": [
    {
     "name": "stdout",
     "output_type": "stream",
     "text": [
      "Days = 5\n",
      "Maximum displacement per day is 77 cm.\n",
      "Minimum displacement per day is 12 cm.\n",
      "Average speed per day is 1.5871212121212122 cm/hour.\n",
      "38.09090909090909\n",
      "16.384559626054788\n"
     ]
    }
   ],
   "source": [
    "# Assign problem data to variables with representative names\n",
    "# well height, daily advance, night retreat, accumulated distance\n",
    "well_height = 125\n",
    "daily_advance = [30, 21, 33, 77, 44, 45, 23, 45, 12, 34, 55]\n",
    "night_retreat = 20\n",
    "accumulated_distance = 0\n",
    "\n",
    "# Assign 0 to the variable that represents the solution\n",
    "days = 0\n",
    "\n",
    "# Write the code that solves the problem\n",
    "while well_height >=0:\n",
    "    accumulated_distance += daily_advance[days]\n",
    "    days += 1\n",
    "    if accumulated_distance >= well_height:\n",
    "        break\n",
    "    else:\n",
    "        accumulated_distance -= night_retreat\n",
    "\n",
    "# Print the result with print('Days =', days)\n",
    "print('Days =', days)\n",
    "\n",
    "# What is its maximum displacement in a day? And its minimum?\n",
    "Max_displacement = max(daily_advance)\n",
    "print(\"Maximum displacement per day is\", Max_displacement, \"cm.\")\n",
    "\n",
    "Min_displacement = min(daily_advance)\n",
    "print(\"Minimum displacement per day is\", Min_displacement, \"cm.\")\n",
    "\n",
    "# What is its average progress?\n",
    "avg_speed = (sum(daily_advance)/len(daily_advance))/24\n",
    "print(\"Average speed per day is\", avg_speed, \"cm/hour.\")\n",
    "\n",
    "# What is the standard deviation of your displacement during the day?\n",
    "avg_displacement=sum(daily_advance)/len(daily_advance)\n",
    "print(avg_displacement)\n",
    "\n",
    "from math import *\n",
    "\n",
    "std=0\n",
    "for i in range(0, len(daily_advance)-1):\n",
    "    std += (daily_advance[i]-avg_displacement)**2\n",
    "std=std/len(daily_advance)\n",
    "std=sqrt(std)\n",
    "print(std)"
   ]
  },
  {
   "cell_type": "code",
   "execution_count": null,
   "metadata": {},
   "outputs": [],
   "source": []
  }
 ],
 "metadata": {
  "kernelspec": {
   "display_name": "Python 3",
   "language": "python",
   "name": "python3"
  },
  "language_info": {
   "codemirror_mode": {
    "name": "ipython",
    "version": 3
   },
   "file_extension": ".py",
   "mimetype": "text/x-python",
   "name": "python",
   "nbconvert_exporter": "python",
   "pygments_lexer": "ipython3",
   "version": "3.7.3"
  }
 },
 "nbformat": 4,
 "nbformat_minor": 2
}
