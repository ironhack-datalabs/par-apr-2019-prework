{
 "cells": [
  {
   "cell_type": "markdown",
   "metadata": {},
   "source": [
    "# Snail and well\n",
    "\n",
    "A snail falls at the bottom of a 125 cm well. Each day the snail rises 30 cm. But at night, while sleeping, slides 20 cm because the walls are wet. How many days does it take to escape from the well?\n",
    "\n",
    "TIP: http://puzzles.nigelcoldwell.co.uk/sixtytwo.htm"
   ]
  },
  {
   "cell_type": "markdown",
   "metadata": {},
   "source": [
    "## Solución"
   ]
  },
  {
   "cell_type": "code",
   "execution_count": 4,
   "metadata": {},
   "outputs": [
    {
     "name": "stdout",
     "output_type": "stream",
     "text": [
      "snail is coming up\n",
      "snail is not up yet\n",
      "snail is not up yet\n",
      "snail is not up yet\n",
      "snail is not up yet\n",
      "snail is not up yet\n",
      "snail is not up yet\n",
      "snail is not up yet\n",
      "snail is not up yet\n",
      "snail is not up yet\n",
      "snail is not up yet\n",
      "snail is not up yet\n",
      "snail is not up yet\n",
      "snail has taken 13 days to come up\n"
     ]
    }
   ],
   "source": [
    "# Assign problem data to variables with representative names\n",
    "# well height, daily advance, night retreat, accumulated distance\n",
    "well_height = 125\n",
    "daily_advance = 30\n",
    "night_retreat = 20\n",
    "tot_daily_advance = daily_advance - night_retreat\n",
    "\n",
    "# Assign 0 to the variable that represents the solution\n",
    "accumulated_distance = 0\n",
    "days = 0\n",
    "\n",
    "# Write the code that solves the problem\n",
    "print(\"snail is coming up\")\n",
    "accumulated_distance += tot_daily_advance\n",
    "days += 1\n",
    "\n",
    "while accumulated_distance < well_height:\n",
    "    print(\"snail is not up yet\")\n",
    "    days += 1\n",
    "    accumulated_distance += tot_daily_advance\n",
    "\n",
    "# Print the result with print('Days =', days)\n",
    "print(\"snail has taken\", days, \"days to come up\")\n"
   ]
  },
  {
   "cell_type": "markdown",
   "metadata": {},
   "source": [
    "## Goals\n",
    "\n",
    "1. Treatment of variables\n",
    "2. Use of loop **while**\n",
    "3. Use of conditional **if-else**\n",
    "4. Print in console"
   ]
  },
  {
   "cell_type": "markdown",
   "metadata": {},
   "source": [
    "## Bonus\n",
    "The distance traveled by the snail is now defined by a list.\n",
    "```\n",
    "advance_cm = [30, 21, 33, 77, 44, 45, 23, 45, 12, 34, 55]\n",
    "```\n",
    "How long does it take to raise the well?\n",
    "\n",
    "What is its maximum displacement in one day? And its minimum?\n",
    "\n",
    "What is its average speed during the day?\n",
    "\n",
    "What is the standard deviation of its displacement during the day?"
   ]
  },
  {
   "cell_type": "code",
   "execution_count": 1,
   "metadata": {},
   "outputs": [
    {
     "name": "stdout",
     "output_type": "stream",
     "text": [
      "snail is coming up\n",
      "snail is not up yet\n",
      "snail is not up yet\n",
      "snail is not up yet\n",
      "snail is not up yet\n",
      "snail is not up yet\n",
      "snail is not up yet\n",
      "snail is not up yet\n",
      "snail is not up yet\n",
      "snail is not up yet\n",
      "snail is not up yet\n",
      "snail is not up yet\n",
      "snail is not up yet\n",
      "snail has taken 13 days to come up\n"
     ]
    }
   ],
   "source": [
    "# Assign problem data to variables with representative names\n",
    "# well height, daily advance, night retreat, accumulated distance\n",
    "\n",
    "\n",
    "# Assign 0 to the variable that represents the solution\n",
    "\n",
    "\n",
    "# Write the code that solves the problem\n",
    "\n",
    "\n",
    "# Print the result with print('Days =', days)\n",
    "\n",
    "\n",
    "# What is its maximum displacement in a day? And its minimum?\n",
    "\n",
    "\n",
    "\n",
    "# What is its average progress?\n",
    "\n",
    "\n",
    "# What is the standard deviation of your displacement during the day?\n",
    "\n"
   ]
  },
  {
   "cell_type": "code",
   "execution_count": null,
   "metadata": {},
   "outputs": [],
   "source": []
  }
 ],
 "metadata": {
  "kernelspec": {
   "display_name": "Python 3",
   "language": "python",
   "name": "python3"
  },
  "language_info": {
   "codemirror_mode": {
    "name": "ipython",
    "version": 3
   },
   "file_extension": ".py",
   "mimetype": "text/x-python",
   "name": "python",
   "nbconvert_exporter": "python",
   "pygments_lexer": "ipython3",
   "version": "3.7.3"
  }
 },
 "nbformat": 4,
 "nbformat_minor": 2
}
