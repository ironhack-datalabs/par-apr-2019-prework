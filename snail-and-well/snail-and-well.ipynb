{
 "cells": [
  {
   "cell_type": "markdown",
   "metadata": {},
   "source": [
    "# Snail and well\n",
    "\n",
    "A snail falls at the bottom of a 125 cm well. Each day the snail rises 30 cm. But at night, while sleeping, slides 20 cm because the walls are wet. How many days does it take to escape from the well?\n",
    "\n",
    "TIP: http://puzzles.nigelcoldwell.co.uk/sixtytwo.htm"
   ]
  },
  {
   "cell_type": "markdown",
   "metadata": {},
   "source": [
    "## Solución"
   ]
  },
  {
   "cell_type": "code",
   "execution_count": 1,
   "metadata": {},
   "outputs": [
    {
     "name": "stdout",
     "output_type": "stream",
     "text": [
      "Days = 11\n"
     ]
    }
   ],
   "source": [
    "# Assign problem data to variables with representative names\n",
    "# well height, daily advance, night retreat, accumulated distance\n",
    "\n",
    "# Assign 0 to the variable that represents the solution\n",
    "WellHeight = 125\n",
    "DailyAdvance = 30\n",
    "NightRetreat = 20\n",
    "AccumulatedDistance = 0\n",
    "DaysNeeded = 0\n",
    "\n",
    "# Write the code that solves the problem\n",
    "while AccumulatedDistance < WellHeight:\n",
    "    AccumulatedDistance += DailyAdvance\n",
    "    DaysNeeded += 1\n",
    "    if AccumulatedDistance < WellHeight:\n",
    "        AccumulatedDistance -= NightRetreat\n",
    "        \n",
    "print(\"Days =\", DaysNeeded)\n",
    "\n",
    "# Print the result with print('Days =', days)\n"
   ]
  },
  {
   "cell_type": "markdown",
   "metadata": {},
   "source": [
    "## Goals\n",
    "\n",
    "1. Treatment of variables\n",
    "2. Use of loop **while**\n",
    "3. Use of conditional **if-else**\n",
    "4. Print in console"
   ]
  },
  {
   "cell_type": "markdown",
   "metadata": {},
   "source": [
    "## Bonus\n",
    "The distance traveled by the snail is now defined by a list.\n",
    "```\n",
    "advance_cm = [30, 21, 33, 77, 44, 45, 23, 45, 12, 34, 55]\n",
    "```\n",
    "How long does it take to raise the well?\n",
    "\n",
    "What is its maximum displacement in one day? And its minimum?\n",
    "\n",
    "What is its average speed during the day?\n",
    "\n",
    "What is the standard deviation of its displacement during the day?"
   ]
  },
  {
   "cell_type": "code",
   "execution_count": 2,
   "metadata": {},
   "outputs": [
    {
     "name": "stdout",
     "output_type": "stream",
     "text": [
      "Days = 5\n",
      "Maximum displacement is  77  minimum is  12\n",
      "Average progress for un entire day is  18.09\n",
      "The standard deviation of the snail displacement during the day is 18.0\n"
     ]
    }
   ],
   "source": [
    "# Assign problem data to variables with representative names\n",
    "# well height, daily advance, night retreat, accumulated distance\n",
    "WellHeight = 125\n",
    "AdvanceCm = [30, 21, 33, 77, 44, 45, 23, 45, 12, 34, 55]\n",
    "NightRetreat = 20\n",
    "AccumulatedDistance = 0\n",
    "DaysNeeded = 0\n",
    "Day = 0\n",
    "\n",
    "# Assign 0 to the variable that represents the solution\n",
    "# Write the code that solves the problem\n",
    "\n",
    "while AccumulatedDistance < WellHeight:\n",
    "    AccumulatedDistance += AdvanceCm [Day]\n",
    "    DaysNeeded += 1\n",
    "    Day += 1\n",
    "    if AccumulatedDistance < WellHeight:\n",
    "        AccumulatedDistance -= NightRetreat\n",
    "        \n",
    "print(\"Days =\", DaysNeeded)\n",
    "\n",
    "\n",
    "# Print the result with print('Days =', days)\n",
    "\n",
    "\n",
    "# What is its maximum displacement in a day? And its minimum?\n",
    "print(\"Maximum displacement is \", max(AdvanceCm),\" minimum is \", min(AdvanceCm))\n",
    "\n",
    "\n",
    "# What is its average progress?\n",
    "print(\"Average progress for un entire day is \",round((sum(AdvanceCm)-NightRetreat*len(AdvanceCm))/len(AdvanceCm),2))\n",
    "\n",
    "# What is the standard deviation of your displacement during the day?\n",
    "import statistics\n",
    "print(\"The standard deviation of the snail displacement during the day is\",round(statistics.stdev(AdvanceCm),2))\n"
   ]
  },
  {
   "cell_type": "code",
   "execution_count": null,
   "metadata": {},
   "outputs": [],
   "source": []
  }
 ],
 "metadata": {
  "kernelspec": {
   "display_name": "Python 3",
   "language": "python",
   "name": "python3"
  },
  "language_info": {
   "codemirror_mode": {
    "name": "ipython",
    "version": 3
   },
   "file_extension": ".py",
   "mimetype": "text/x-python",
   "name": "python",
   "nbconvert_exporter": "python",
   "pygments_lexer": "ipython3",
   "version": "3.7.3"
  }
 },
 "nbformat": 4,
 "nbformat_minor": 2
}
