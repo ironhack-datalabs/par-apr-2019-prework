{
 "cells": [
  {
   "cell_type": "markdown",
   "metadata": {},
   "source": [
    "# Snail and well\n",
    "\n",
    "A snail falls at the bottom of a 125 cm well. Each day the snail rises 30 cm. But at night, while sleeping, slides 20 cm because the walls are wet. How many days does it take to escape from the well?\n",
    "\n",
    "TIP: http://puzzles.nigelcoldwell.co.uk/sixtytwo.htm"
   ]
  },
  {
   "cell_type": "markdown",
   "metadata": {},
   "source": [
    "## Solución"
   ]
  },
  {
   "cell_type": "code",
   "execution_count": 1,
   "metadata": {},
   "outputs": [
    {
     "name": "stdout",
     "output_type": "stream",
     "text": [
      "The snail is at the bottom of the well.\n",
      "Day 1.0 : It climbed by 10 cm\n",
      "Day 2.0 : It climbed by 20 cm\n",
      "Day 3.0 : It climbed by 30 cm\n",
      "Day 4.0 : It climbed by 40 cm\n",
      "Day 5.0 : It climbed by 50 cm\n",
      "Day 6.0 : It climbed by 60 cm\n",
      "Day 7.0 : It climbed by 70 cm\n",
      "Day 8.0 : It climbed by 80 cm\n",
      "Day 9.0 : It climbed by 90 cm\n",
      "Day 10.0 : It did it! It climbed by 25 cm this day! It took 10.0 days to the snail for reaching the top of the well.\n"
     ]
    }
   ],
   "source": [
    "# Assign problem data to variables with representative names\n",
    "# well height, daily advance, night retreat, accumulated distance\n",
    "\n",
    "\n",
    "# Assign 0 to the variable that represents the solution\n",
    "\n",
    "\n",
    "# Write the code that solves the problem\n",
    "\n",
    "\n",
    "# Print the result with print('Days =', days)\n",
    "\n",
    "well_height=125\n",
    "daily_advance=30\n",
    "night_retreat=20\n",
    "accumulated_distance=0\n",
    "days=0.1\n",
    "\n",
    "print(\"The snail is at the bottom of the well.\")\n",
    "accumulated_distance += daily_advance - night_retreat\n",
    "\n",
    "while accumulated_distance + daily_advance < well_height:\n",
    "    print(\"Day\", accumulated_distance*days, \": It climbed by\", accumulated_distance, \"cm\")\n",
    "    accumulated_distance += daily_advance - night_retreat\n",
    "    if accumulated_distance + daily_advance > well_height:\n",
    "        print(\"Day\", accumulated_distance*days, \": It did it! It climbed by\", well_height-accumulated_distance,\"cm this day! It took\", accumulated_distance*days, \"days to the snail for reaching the top of the well.\")"
   ]
  },
  {
   "cell_type": "markdown",
   "metadata": {},
   "source": [
    "## Goals\n",
    "\n",
    "1. Treatment of variables\n",
    "2. Use of loop **while**\n",
    "3. Use of conditional **if-else**\n",
    "4. Print in console"
   ]
  },
  {
   "cell_type": "markdown",
   "metadata": {},
   "source": [
    "## Bonus\n",
    "The distance traveled by the snail is now defined by a list.\n",
    "```\n",
    "advance_cm = [30, 21, 33, 77, 44, 45, 23, 45, 12, 34, 55]\n",
    "```\n",
    "How long does it take to raise the well?\n",
    "\n",
    "What is its maximum displacement in one day? And its minimum?\n",
    "\n",
    "What is its average speed during the day?\n",
    "\n",
    "What is the standard deviation of its displacement during the day?"
   ]
  },
  {
   "cell_type": "code",
   "execution_count": 2,
   "metadata": {},
   "outputs": [
    {
     "name": "stdout",
     "output_type": "stream",
     "text": [
      "Accumulated distance is currently 30\n",
      "Accumulated distance is currently 51\n",
      "Accumulated distance is currently 84\n",
      "Accumulated distance is currently 161\n",
      "Accumulated distance is currently 205\n",
      "Accumulated distance is currently 250\n",
      "Accumulated distance is currently 273\n",
      "Accumulated distance is currently 318\n",
      "Accumulated distance is currently 330\n",
      "Accumulated distance is currently 364\n",
      "Accumulated distance is currently 419\n"
     ]
    }
   ],
   "source": [
    "# Assign problem data to variables with representative names\n",
    "# well height, daily advance, night retreat, accumulated distance\n",
    "\n",
    "\n",
    "# Assign 0 to the variable that represents the solution\n",
    "\n",
    "\n",
    "# Write the code that solves the problem\n",
    "\n",
    "\n",
    "\n",
    "# Print the result with print('Days =', days)\n",
    "\n",
    "\n",
    "# What is its maximum displacement in a day? And its minimum?\n",
    "\n",
    "\n",
    "\n",
    "# What is its average progress?\n",
    "\n",
    "\n",
    "# What is the standard deviation of your displacement during the day?\n",
    "\n",
    "well_height = 125\n",
    "advance_cm = [30, 21, 33, 77, 44, 45, 23, 45, 12, 34, 55]\n",
    "accumulated_distance = 0\n",
    "days = 0.1\n",
    "\n",
    "for i in advance_cm:\n",
    "    accumulated_distance += i\n",
    "    print(\"Accumulated distance is currently\", accumulated_distance)"
   ]
  },
  {
   "cell_type": "code",
   "execution_count": null,
   "metadata": {},
   "outputs": [],
   "source": []
  }
 ],
 "metadata": {
  "kernelspec": {
   "display_name": "Python 3",
   "language": "python",
   "name": "python3"
  },
  "language_info": {
   "codemirror_mode": {
    "name": "ipython",
    "version": 3
   },
   "file_extension": ".py",
   "mimetype": "text/x-python",
   "name": "python",
   "nbconvert_exporter": "python",
   "pygments_lexer": "ipython3",
   "version": "3.7.3"
  }
 },
 "nbformat": 4,
 "nbformat_minor": 2
}
