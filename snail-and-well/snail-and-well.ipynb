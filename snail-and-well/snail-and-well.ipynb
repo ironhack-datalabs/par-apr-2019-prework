{
 "cells": [
  {
   "cell_type": "markdown",
   "metadata": {},
   "source": [
    "# Snail and well\n",
    "\n",
    "A snail falls at the bottom of a 125 cm well. Each day the snail rises 30 cm. But at night, while sleeping, slides 20 cm because the walls are wet. How many days does it take to escape from the well?\n",
    "\n",
    "TIP: http://puzzles.nigelcoldwell.co.uk/sixtytwo.htm"
   ]
  },
  {
   "cell_type": "markdown",
   "metadata": {},
   "source": [
    "## Solución"
   ]
  },
  {
   "cell_type": "code",
   "execution_count": 4,
   "metadata": {},
   "outputs": [
    {
     "name": "stdout",
     "output_type": "stream",
     "text": [
      "Days =  11\n"
     ]
    }
   ],
   "source": [
    "# Assign problem data to variables with representative names\n",
    "# well height, daily advance, night retreat, accumulated distance\n",
    "\n",
    "well_height = 125\n",
    "daily_advance = 30\n",
    "night_retreat = 20\n",
    "position = 0\n",
    "daily_accumulated_distance = daily_advance - night_retreat\n",
    "\n",
    "# Assign 0 to the variable that represents the solution\n",
    "\n",
    "days = 0\n",
    "\n",
    "# Write the code that solves the problem\n",
    "\n",
    "while position < well_height:\n",
    "    days += 1\n",
    "    position = position + daily_advance\n",
    "    if position < well_height:\n",
    "        position = position - night_retreat\n",
    "\n",
    "# Print the result with print('Days =', days)\n",
    "\n",
    "print(\"Days = \", days)\n"
   ]
  },
  {
   "cell_type": "markdown",
   "metadata": {},
   "source": [
    "## Goals\n",
    "\n",
    "1. Treatment of variables\n",
    "2. Use of loop **while**\n",
    "3. Use of conditional **if-else**\n",
    "4. Print in console"
   ]
  },
  {
   "cell_type": "markdown",
   "metadata": {},
   "source": [
    "## Bonus\n",
    "The distance traveled by the snail is now defined by a list.\n",
    "```\n",
    "advance_cm = [30, 21, 33, 77, 44, 45, 23, 45, 12, 34, 55]\n",
    "```\n",
    "How long does it take to raise the well?\n",
    "\n",
    "What is its maximum displacement in one day? And its minimum?\n",
    "\n",
    "What is its average speed during the day?\n",
    "\n",
    "What is the standard deviation of its displacement during the day?"
   ]
  },
  {
   "cell_type": "code",
   "execution_count": 2,
   "metadata": {},
   "outputs": [
    {
     "name": "stdout",
     "output_type": "stream",
     "text": [
      "On day 1, the snail moved 30 cm. It moved back 20 cm at night. Its net move for the day is 10 cm.\n",
      "Total progress is 10 cm.\n",
      "On day 2, the snail moved 21 cm. It moved back 20 cm at night. Its net move for the day is 1 cm.\n",
      "Total progress is 11 cm.\n",
      "On day 3, the snail moved 33 cm. It moved back 20 cm at night. Its net move for the day is 13 cm.\n",
      "Total progress is 24 cm.\n",
      "On day 4, the snail moved 77 cm. It moved back 20 cm at night. Its net move for the day is 57 cm.\n",
      "Total progress is 81 cm.\n",
      "On day 5, the snail moved 44 cm. It moved back 20 cm at night. Its net move for the day is 24 cm.\n",
      "Total progress is 105 cm.\n",
      "On day 6, the snail moved 45 cm. It moved back 20 cm at night. Its net move for the day is 25 cm.\n",
      "Total progress is 130 cm.\n",
      "It took 6 days for the snail to come out of the well.\n"
     ]
    }
   ],
   "source": [
    "# Assign problem data to variables with representative names\n",
    "# well height, daily advance, night retreat, accumulated distance\n",
    "# Assign 0 to the variable that represents the solution\n",
    "# Write the code that solves the problem\n",
    "# Print the result with print('Days =', days)\n",
    "# What is its maximum displacement in a day? And its minimum?\n",
    "# What is its average progress?\n",
    "# What is the standard deviation of your displacement during the day?\n",
    "\n",
    "well_height = 125\n",
    "daily_advance = 30\n",
    "retreat = 20\n",
    "\n",
    "advance_cm = [30, 21, 33, 77, 44, 45, 23, 45, 12, 34, 55]\n",
    "\n",
    "i = 0\n",
    "daily_accumulated_distance = 0\n",
    "\n",
    "while i < len(advance_cm):\n",
    "    net_move = advance_cm[i] - retreat\n",
    "    daily_accumulated_distance += net_move\n",
    "    print(\"On day \" + str(i + 1) + \", the snail moved \" + str(advance_cm[i]) +\n",
    "          \" cm. It moved back \" + str(retreat) + \" cm at night. Its net move for the day is \" + str(net_move) + \" cm.\")\n",
    "    print(\"Total progress is \" + str(daily_accumulated_distance) + \" cm.\")\n",
    "\n",
    "    if daily_accumulated_distance >= well_height:\n",
    "        print(\"It took \" + str(i + 1) + \" days for the snail to come out of the well.\")\n",
    "        break\n",
    "    i += 1\n"
   ]
  },
  {
   "cell_type": "code",
   "execution_count": 3,
   "metadata": {},
   "outputs": [
    {
     "name": "stdout",
     "output_type": "stream",
     "text": [
      "Min displacement = 12\n",
      "Max displacement = 77\n",
      "Average progress = 38.09\n",
      "Standard deviation = 17.16\n"
     ]
    }
   ],
   "source": [
    "import statistics\n",
    "advance_cm = [30, 21, 33, 77, 44, 45, 23, 45, 12, 34, 55]\n",
    "\n",
    "print(\"Min displacement =\", min(advance_cm))\n",
    "\n",
    "print(\"Max displacement =\", max(advance_cm))\n",
    "\n",
    "print(\"Average progress =% .2f\" % (statistics.mean(advance_cm)))\n",
    "\n",
    "print(\"Standard deviation =% .2f\" % (statistics.pstdev(advance_cm)))"
   ]
  },
  {
   "cell_type": "code",
   "execution_count": null,
   "metadata": {},
   "outputs": [],
   "source": []
  }
 ],
 "metadata": {
  "kernelspec": {
   "display_name": "Python 3",
   "language": "python",
   "name": "python3"
  },
  "language_info": {
   "codemirror_mode": {
    "name": "ipython",
    "version": 3
   },
   "file_extension": ".py",
   "mimetype": "text/x-python",
   "name": "python",
   "nbconvert_exporter": "python",
   "pygments_lexer": "ipython3",
   "version": "3.6.5"
  }
 },
 "nbformat": 4,
 "nbformat_minor": 2
}
