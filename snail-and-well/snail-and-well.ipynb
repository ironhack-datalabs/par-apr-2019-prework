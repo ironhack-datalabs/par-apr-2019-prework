{
 "cells": [
  {
   "cell_type": "markdown",
   "metadata": {},
   "source": [
    "# Snail and well\n",
    "\n",
    "A snail falls at the bottom of a 125 cm well. Each day the snail rises 30 cm. But at night, while sleeping, slides 20 cm because the walls are wet. How many days does it take to escape from the well?\n",
    "\n",
    "TIP: http://puzzles.nigelcoldwell.co.uk/sixtytwo.htm"
   ]
  },
  {
   "cell_type": "markdown",
   "metadata": {},
   "source": [
    "## Solución"
   ]
  },
  {
   "cell_type": "code",
   "execution_count": 1,
   "metadata": {},
   "outputs": [
    {
     "name": "stdout",
     "output_type": "stream",
     "text": [
      "Days= 13\n"
     ]
    }
   ],
   "source": [
    "# Assign problem data to variables with representative names\n",
    "# well height, daily advance, night retreat, accumulated distance\n",
    "\n",
    "well_height = 125\n",
    "dayly_rise = 30\n",
    "dayly_slide = 20\n",
    "daily_distance = dayly_rise - dayly_slide\n",
    "accumulated_distance = 0\n",
    "\n",
    "# Assign 0 to the variable that represents the solution\n",
    "\n",
    "days = 0\n",
    "\n",
    "# Write the code that solves the problem\n",
    "# Print the result with print('Days =', days)\n",
    "\n",
    "while accumulated_distance < well_height :\n",
    "    accumulated_distance += daily_distance\n",
    "    days += 1\n",
    "    \n",
    "if accumulated_distance < well_height:\n",
    "    print(\"Work in progress\")\n",
    "else:\n",
    "    print('Days=',days)\n",
    "\n",
    "\n"
   ]
  },
  {
   "cell_type": "markdown",
   "metadata": {},
   "source": [
    "## Goals\n",
    "\n",
    "1. Treatment of variables\n",
    "2. Use of loop **while**\n",
    "3. Use of conditional **if-else**\n",
    "4. Print in console"
   ]
  },
  {
   "cell_type": "markdown",
   "metadata": {},
   "source": [
    "## Bonus\n",
    "The distance traveled by the snail is now defined by a list.\n",
    "```\n",
    "advance_cm = [30, 21, 33, 77, 44, 45, 23, 45, 12, 34, 55]\n",
    "```\n",
    "How long does it take to raise the well?\n",
    "\n",
    "What is its maximum displacement in one day? And its minimum?\n",
    "\n",
    "What is its average speed during the day?\n",
    "\n",
    "What is the standard deviation of its displacement during the day?"
   ]
  },
  {
   "cell_type": "code",
   "execution_count": 8,
   "metadata": {},
   "outputs": [
    {
     "name": "stdout",
     "output_type": "stream",
     "text": [
      "Days = 4\n",
      "The maximum displacement: 77\n",
      "The minimu displacement: 12\n",
      "The average progress: 38.09090909090909\n",
      "The standard deviation is: 5.173764946972505\n"
     ]
    }
   ],
   "source": [
    "# Assign problem data to variables with representative names\n",
    "# well height, daily advance, night retreat, accumulated distance\n",
    "\n",
    "advance_cm = [30, 21, 33, 77, 44, 45, 23, 45, 12, 34, 55]\n",
    "well_height = 125\n",
    "accumulated_distance = 0\n",
    "\n",
    "\n",
    "# Assign 0 to the variable that represents the solution\n",
    "\n",
    "days= 0\n",
    "\n",
    "# Write the code that solves the problem\n",
    "\n",
    "for i in advance_cm:\n",
    "        accumulated_distance += i\n",
    "        days += 1\n",
    "        if accumulated_distance > well_height:\n",
    "            #print(accumulated_distance)\n",
    "            #print(days)\n",
    "            break\n",
    "\n",
    "# Print the result with print('Days =', days)\n",
    "\n",
    "print('Days =',days)\n",
    "\n",
    "\n",
    "# What is its maximum displacement in a day? And its minimum?\n",
    "\n",
    "print ('The maximum displacement:',max(advance_cm))\n",
    "print ('The minimu displacement:',min(advance_cm))\n",
    "\n",
    "# What is its average progress?\n",
    "\n",
    "average_progress = sum(advance_cm)/len(advance_cm)\n",
    "print (\"The average progress:\",average_progress)\n",
    "\n",
    "# What is the standard deviation of your displacement during the day?\n",
    "\n",
    "square_to_mean = 0\n",
    "sum_square_to_mean = 0\n",
    "\n",
    "for i in advance_cm:\n",
    "    square_to_mean = (i-average_progress)**2\n",
    "    sum_square_to_mean += square_to_mean\n",
    "    #print(square_to_mean)\n",
    "\n",
    "#print (sum_square_to_mean)\n",
    "\n",
    "import math\n",
    "\n",
    "standard_deviation = (math.sqrt(sum_square_to_mean)/len(advance_cm))\n",
    "print('The standard deviation is:',standard_deviation)\n"
   ]
  },
  {
   "cell_type": "code",
   "execution_count": null,
   "metadata": {},
   "outputs": [],
   "source": []
  }
 ],
 "metadata": {
  "kernelspec": {
   "display_name": "Python 3",
   "language": "python",
   "name": "python3"
  },
  "language_info": {
   "codemirror_mode": {
    "name": "ipython",
    "version": 3
   },
   "file_extension": ".py",
   "mimetype": "text/x-python",
   "name": "python",
   "nbconvert_exporter": "python",
   "pygments_lexer": "ipython3",
   "version": "3.7.3"
  }
 },
 "nbformat": 4,
 "nbformat_minor": 2
}
