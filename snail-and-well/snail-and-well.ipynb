{
 "cells": [
  {
   "cell_type": "markdown",
   "metadata": {},
   "source": [
    "# Snail and well\n",
    "\n",
    "A snail falls at the bottom of a 125 cm well. Each day the snail rises 30 cm. But at night, while sleeping, slides 20 cm because the walls are wet. How many days does it take to escape from the well?\n",
    "\n",
    "TIP: http://puzzles.nigelcoldwell.co.uk/sixtytwo.htm"
   ]
  },
  {
   "cell_type": "markdown",
   "metadata": {},
   "source": [
    "## Solución"
   ]
  },
  {
   "cell_type": "code",
   "execution_count": 1,
   "metadata": {},
   "outputs": [
    {
     "name": "stdout",
     "output_type": "stream",
     "text": [
      "Days = 11\n"
     ]
    }
   ],
   "source": [
    "# Assign problem data to variables with representative names\n",
    "# well height, daily advance, night retreat, accumulated distance\n",
    "well_height = 125\n",
    "daily_advance = 30\n",
    "night_retreat = 20 \n",
    "accumulated_distance = 0\n",
    "\n",
    "# Assign 0 to the variable that represents the solution\n",
    "days = 0\n",
    "\n",
    "# Write the code that solves the problem\n",
    "# Print the result with print('Days =', days)\n",
    "while accumulated_distance < well_height: \n",
    "    days +=1\n",
    "    accumulated_distance += daily_advance    \n",
    "    if accumulated_distance < well_height:\n",
    "        accumulated_distance = accumulated_distance - night_retreat\n",
    "    else:\n",
    "        print('Days =', days)  "
   ]
  },
  {
   "cell_type": "markdown",
   "metadata": {},
   "source": [
    "## Goals\n",
    "\n",
    "1. Treatment of variables\n",
    "2. Use of loop **while**\n",
    "3. Use of conditional **if-else**\n",
    "4. Print in console"
   ]
  },
  {
   "cell_type": "markdown",
   "metadata": {},
   "source": [
    "## Bonus\n",
    "The distance traveled by the snail is now defined by a list.\n",
    "```\n",
    "advance_cm = [30, 21, 33, 77, 44, 45, 23, 45, 12, 34, 55]\n",
    "```\n",
    "How long does it take to raise the well?\n",
    "\n",
    "What is its maximum displacement in one day? And its minimum?\n",
    "\n",
    "What is its average speed during the day?\n",
    "\n",
    "What is the standard deviation of its displacement during the day?"
   ]
  },
  {
   "cell_type": "code",
   "execution_count": 2,
   "metadata": {},
   "outputs": [
    {
     "name": "stdout",
     "output_type": "stream",
     "text": [
      "Days = 5\n",
      "Maximum daily displacement in 5 days is 77\n",
      "Minimum daily displacement in 5 days is 21\n",
      "Average progress for 5 days is 41.0 cm\n",
      "Daily standard deviation for 5 days is 21.737065119284157\n"
     ]
    }
   ],
   "source": [
    "# Assign problem data to variables with representative names\n",
    "# well height, daily advance, night retreat, accumulated distance\n",
    "well_height2 = 125\n",
    "advance_cm2 = [30, 21, 33, 77, 44, 45, 23, 45, 12, 34, 55]\n",
    "night_retreat2 = 20 \n",
    "accumulated_distance2 = 0\n",
    "\n",
    "# Assign 0 to the variable that represents the solution\n",
    "days2 = 0\n",
    "\n",
    "# Write the code that solves the problem\n",
    "# Print the result with print('Days =', days)\n",
    "for i in range(len(advance_cm2)):\n",
    "    days2 +=1\n",
    "    accumulated_distance2 += advance_cm2 [i] \n",
    "    if accumulated_distance2 < well_height2:\n",
    "        accumulated_distance2 = accumulated_distance2 - night_retreat2\n",
    "    else:\n",
    "        print('Days =', days2)  \n",
    "        break\n",
    "\n",
    "# What is its maximum displacement in a day? And its minimum?    \n",
    "print(\"Maximum daily displacement in 5 days is\", max(advance_cm2[i] for i in range(0, days2)))\n",
    "print(\"Minimum daily displacement in 5 days is\", min(advance_cm2[i] for i in range(0, days2)))\n",
    "\n",
    "# What is its average progress?\n",
    "total = 0\n",
    "\n",
    "for i in range(days2):\n",
    "    total = total + advance_cm2[i]     \n",
    "print(\"Average progress for 5 days is\", total/days2, \"cm\")\n",
    "\n",
    "# What is the standard deviation of your displacement during the day?\n",
    "import statistics\n",
    "print(\"Daily standard deviation for 5 days is\", statistics.stdev(advance_cm2[i] for i in range(0, days2)))  "
   ]
  },
  {
   "cell_type": "code",
   "execution_count": null,
   "metadata": {},
   "outputs": [],
   "source": []
  }
 ],
 "metadata": {
  "kernelspec": {
   "display_name": "Python 3",
   "language": "python",
   "name": "python3"
  },
  "language_info": {
   "codemirror_mode": {
    "name": "ipython",
    "version": 3
   },
   "file_extension": ".py",
   "mimetype": "text/x-python",
   "name": "python",
   "nbconvert_exporter": "python",
   "pygments_lexer": "ipython3",
   "version": "3.7.3"
  }
 },
 "nbformat": 4,
 "nbformat_minor": 2
}
