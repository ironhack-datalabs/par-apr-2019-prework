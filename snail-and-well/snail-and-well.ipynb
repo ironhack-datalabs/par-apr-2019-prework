{
 "cells": [
  {
   "cell_type": "markdown",
   "metadata": {},
   "source": [
    "# Snail and well\n",
    "\n",
    "A snail falls at the bottom of a 125 cm well. Each day the snail rises 30 cm. But at night, while sleeping, slides 20 cm because the walls are wet. How many days does it take to escape from the well?\n",
    "\n",
    "TIP: http://puzzles.nigelcoldwell.co.uk/sixtytwo.htm"
   ]
  },
  {
   "cell_type": "markdown",
   "metadata": {},
   "source": [
    "## Solución"
   ]
  },
  {
   "cell_type": "code",
   "execution_count": 1,
   "metadata": {},
   "outputs": [
    {
     "name": "stdout",
     "output_type": "stream",
     "text": [
      "Days = 19\n"
     ]
    }
   ],
   "source": [
    "# Assign problem data to variables with representative names\n",
    "# well height, daily advance, night retreat, accumulated distance\n",
    "well_height = 125\n",
    "daily_advance = 30\n",
    "night_retreat = 25\n",
    "acc_dist = 0\n",
    "\n",
    "\n",
    "# Assign 0 to the variable that represents the solution\n",
    "days = 0\n",
    "\n",
    "# Write the code that solves the problem\n",
    "# Print the result with print('Days =', days)\n",
    "while acc_dist < well_height :\n",
    "\n",
    "    acc_dist = acc_dist + daily_advance\n",
    "        \n",
    "    if acc_dist >= well_height :\n",
    "        print('Days =', days)\n",
    "    else :\n",
    "        acc_dist = acc_dist - night_retreat\n",
    "        days += 1\n"
   ]
  },
  {
   "cell_type": "markdown",
   "metadata": {},
   "source": [
    "## Goals\n",
    "\n",
    "1. Treatment of variables\n",
    "2. Use of loop **while**\n",
    "3. Use of conditional **if-else**\n",
    "4. Print in console"
   ]
  },
  {
   "cell_type": "markdown",
   "metadata": {},
   "source": [
    "## Bonus\n",
    "The distance traveled by the snail is now defined by a list.\n",
    "```\n",
    "advance_cm = [30, 21, 33, 77, 44, 45, 23, 45, 12, 34, 55]\n",
    "```\n",
    "How long does it take to raise the well?\n",
    "\n",
    "What is its maximum displacement in one day? And its minimum?\n",
    "\n",
    "What is its average speed during the day?\n",
    "\n",
    "What is the standard deviation of its displacement during the day?"
   ]
  },
  {
   "cell_type": "code",
   "execution_count": 16,
   "metadata": {},
   "outputs": [
    {
     "name": "stdout",
     "output_type": "stream",
     "text": [
      "Days = 5\n",
      "38.09090909090909\n",
      "The snail's average speed is : 2.38 cm per hour.\n"
     ]
    }
   ],
   "source": [
    "# Assign problem data to variables with representative names\n",
    "# well height, daily advance, night retreat, accumulated distance\n",
    "\n",
    "well_height = 125\n",
    "advance_cm = [30, 21, 33, 77, 44, 45, 23, 45, 12, 34, 55]\n",
    "night_retreat = 25\n",
    "acc_dist = 0\n",
    "# Assign 0 to the variable that represents the solution\n",
    "days = 0\n",
    "\n",
    "# Write the code that solves the problem\n",
    "# Print the result with print('Days =', days)\n",
    "\n",
    "while acc_dist < well_height :\n",
    "\n",
    "    acc_dist = acc_dist + advance_cm[days]\n",
    "        \n",
    "    if acc_dist >= well_height :\n",
    "        print('Days =', days)\n",
    "    else :\n",
    "        acc_dist = acc_dist - night_retreat\n",
    "        days += 1\n",
    "\n",
    "\n",
    "# What is its maximum displacement in a day? And its minimum?\n",
    "maxdis = max(advance_cm)\n",
    "mindis = min(advance_cm)\n",
    "\n",
    "\n",
    "# What is its average progress?\n",
    "import statistics as stat\n",
    "\n",
    "average = stat.mean(advance_cm)\n",
    "print(average)\n",
    "# What is the standard deviation of your displacement during the day?\n",
    "standev = stat.pstdev(advance_cm)\n",
    "\n",
    "# What is its average speed during the day?\n",
    "\n",
    "#The snail's average speed = its average progress / 16, \n",
    "#imagining the snail gets 8 full hours of sleep every night, only advancing 16 hours a day.\n",
    "\n",
    "print(\"The snail's average speed is :\", round(averagespeed, 2), \"cm per hour.\")"
   ]
  },
  {
   "cell_type": "code",
   "execution_count": null,
   "metadata": {},
   "outputs": [],
   "source": []
  }
 ],
 "metadata": {
  "kernelspec": {
   "display_name": "Python 3",
   "language": "python",
   "name": "python3"
  },
  "language_info": {
   "codemirror_mode": {
    "name": "ipython",
    "version": 3
   },
   "file_extension": ".py",
   "mimetype": "text/x-python",
   "name": "python",
   "nbconvert_exporter": "python",
   "pygments_lexer": "ipython3",
   "version": "3.7.3"
  }
 },
 "nbformat": 4,
 "nbformat_minor": 2
}
