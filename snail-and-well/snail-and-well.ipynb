{
 "cells": [
  {
   "cell_type": "markdown",
   "metadata": {},
   "source": [
    "# Snail and well\n",
    "\n",
    "A snail falls at the bottom of a 125 cm well. Each day the snail rises 30 cm. But at night, while sleeping, slides 20 cm because the walls are wet. How many days does it take to escape from the well?\n",
    "\n",
    "TIP: http://puzzles.nigelcoldwell.co.uk/sixtytwo.htm"
   ]
  },
  {
   "cell_type": "markdown",
   "metadata": {},
   "source": [
    "## Solución"
   ]
  },
  {
   "cell_type": "code",
   "execution_count": 16,
   "metadata": {},
   "outputs": [
    {
     "name": "stdout",
     "output_type": "stream",
     "text": [
      "Accumulated distance minus night retreat = 20\n",
      "Accumulated distance minus night retreat = 30\n",
      "Accumulated distance minus night retreat = 40\n",
      "Accumulated distance minus night retreat = 50\n",
      "Accumulated distance minus night retreat = 60\n",
      "Accumulated distance minus night retreat = 70\n",
      "Accumulated distance minus night retreat = 80\n",
      "Accumulated distance minus night retreat = 90\n",
      "Accumulated distance minus night retreat = 100\n",
      "Accumulated distance with no need of night retreat = 130\n",
      "Days = 11\n"
     ]
    }
   ],
   "source": [
    "# Assign problem data to variables with representative names\n",
    "# well height, daily advance, night retreat, accumulated distance\n",
    "well_height = 125\n",
    "daily_advance = 30\n",
    "night_retreat = 20\n",
    "accumulated_distance = 0\n",
    "\n",
    "\n",
    "# Assign 0 to the variable that represents the solution\n",
    "days = 0\n",
    "\n",
    "\n",
    "# Write the code that solves the problem\n",
    "#print(\"Snail is in the well.\")\n",
    "accumulated_distance += (daily_advance-night_retreat)\n",
    "days += 1\n",
    "#print(accumulated_distance)\n",
    "#print(days)\n",
    "while accumulated_distance < well_height:\n",
    "    #print(\"Snail is still in the well.\")\n",
    "    if well_height - accumulated_distance > daily_advance:\n",
    "        accumulated_distance += (daily_advance-night_retreat)\n",
    "        days += 1\n",
    "        print(\"Accumulated distance minus night retreat =\", accumulated_distance)\n",
    "        #print(days)\n",
    "    else:\n",
    "        accumulated_distance += (daily_advance)\n",
    "        days += 1\n",
    "        print(\"Accumulated distance with no need of night retreat =\", accumulated_distance)\n",
    "        #print(days)\n",
    "    \n",
    "\n",
    "#print(\"The snail escaped !\")\n",
    "\n",
    "# Print the result with print('Days =', days)\n",
    "print('Days =', days)\n"
   ]
  },
  {
   "cell_type": "markdown",
   "metadata": {},
   "source": [
    "## Goals\n",
    "\n",
    "1. Treatment of variables\n",
    "2. Use of loop **while**\n",
    "3. Use of conditional **if-else**\n",
    "4. Print in console"
   ]
  },
  {
   "cell_type": "markdown",
   "metadata": {},
   "source": [
    "## Bonus\n",
    "The distance traveled by the snail is now defined by a list.\n",
    "```\n",
    "advance_cm = [30, 21, 33, 77, 44, 45, 23, 45, 12, 34, 55]\n",
    "```\n",
    "How long does it take to raise the well?\n",
    "\n",
    "What is its maximum displacement in one day? And its minimum?\n",
    "\n",
    "What is its average speed during the day?\n",
    "\n",
    "What is the standard deviation of its displacement during the day?"
   ]
  },
  {
   "cell_type": "code",
   "execution_count": 18,
   "metadata": {},
   "outputs": [
    {
     "name": "stdout",
     "output_type": "stream",
     "text": [
      "Accumulated distance minus night retreat = 10\n",
      "Accumulated distance minus night retreat = 11\n",
      "Accumulated distance minus night retreat = 24\n",
      "Accumulated distance minus night retreat = 81\n",
      "Accumulated distance minus night retreat = 105\n",
      "Accumulated distance minus night retreat = 130\n",
      "Days = 6\n",
      "Maximum displacement in a day = 77\n",
      "Minimum displacement in a day = 12\n",
      "Average progress = 38.09\n",
      "Standard deviation of its displacement = 17.997\n"
     ]
    }
   ],
   "source": [
    "# Assign problem data to variables with representative names\n",
    "advance_cm = [30, 21, 33, 77, 44, 45, 23, 45, 12, 34, 55]\n",
    "\n",
    "# well height, daily advance, night retreat, accumulated distance\n",
    "well_height = 125\n",
    "night_retreat = 20\n",
    "daily_advance = 0\n",
    "accumulated_distance = 0\n",
    "\n",
    "# Assign 0 to the variable that represents the solution\n",
    "days = 0\n",
    "\n",
    "# Write the code that solves the problem\n",
    "# Here night retreat is not considered as included in the distance travelled list. It is therefore substracted from daily advances.\n",
    "\n",
    "for i in advance_cm:\n",
    "    if accumulated_distance <= well_height :\n",
    "        accumulated_distance += i\n",
    "        accumulated_distance -= night_retreat\n",
    "        print(\"Accumulated distance minus night retreat =\", accumulated_distance)\n",
    "        days += 1\n",
    "    else:\n",
    "        break\n",
    "\n",
    "# Print the result with print('Days =', days)  \n",
    "print('Days =', days)\n",
    "    \n",
    "# What is its maximum displacement in a day? And its minimum?\n",
    "print(\"Maximum displacement in a day =\", max(advance_cm))\n",
    "print(\"Minimum displacement in a day =\", min(advance_cm))\n",
    "\n",
    "# What is its average progress?\n",
    "print(\"Average progress =\", '{:05.2f}'.format(sum(advance_cm)/len(advance_cm)))\n",
    "\n",
    "# What is the standard deviation of its displacement during the day?\n",
    "mean = sum(advance_cm)/len(advance_cm)\n",
    "\n",
    "sum_sq = 0\n",
    "for i in advance_cm:\n",
    "    sum_sq += (i-mean)**2\n",
    "\n",
    "std = (sum_sq/(len(advance_cm)-1))**(0.5)\n",
    "    \n",
    "print(\"Standard deviation of its displacement =\", '{:06.3f}'.format(std))\n",
    "\n",
    "    \n",
    "    \n",
    "    \n"
   ]
  },
  {
   "cell_type": "code",
   "execution_count": null,
   "metadata": {},
   "outputs": [],
   "source": []
  }
 ],
 "metadata": {
  "kernelspec": {
   "display_name": "Python 3",
   "language": "python",
   "name": "python3"
  },
  "language_info": {
   "codemirror_mode": {
    "name": "ipython",
    "version": 3
   },
   "file_extension": ".py",
   "mimetype": "text/x-python",
   "name": "python",
   "nbconvert_exporter": "python",
   "pygments_lexer": "ipython3",
   "version": "3.7.3"
  }
 },
 "nbformat": 4,
 "nbformat_minor": 2
}
