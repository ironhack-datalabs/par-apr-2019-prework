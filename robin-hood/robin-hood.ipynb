{
 "cells": [
  {
   "cell_type": "markdown",
   "metadata": {},
   "source": [
    "# Robin Hood:\n",
    "We are in a competition to win the archery contest in Sherwood. With our bow and arrows we shoot on a target and try to hit as close as possible to the center.\n",
    "\n",
    "The center of the target is represented by the values (0, 0) on the coordinate axes.\n",
    "\n",
    "![](images/arrows.jpg)\n",
    "\n",
    "## Goals:\n",
    "* data structures: lists, sets, tuples\n",
    "* logical operators: if-elif-else\n",
    "* loop: while/for\n",
    "* minimum (optional sorting)\n",
    "\n",
    "## Description:\n",
    "In the 2-dimensional space, a point can be defined by a pair of values that correspond to the horizontal coordinate (x) and the vertical coordinate (y). The space can be divided into 4 zones (quadrants): Q1, Q2, Q3, Q4. Whose single point of union is the point (0, 0).\n",
    "\n",
    "If a point is in Q1 both its x coordinate and the y are positive. I leave a link to wikipedia to familiarize yourself with these quadrants.\n",
    "\n",
    "https://en.wikipedia.org/wiki/Cartesian_coordinate_system\n",
    "\n",
    "https://en.wikipedia.org/wiki/Euclidean_distance\n",
    "\n",
    "## Shots\n",
    "```\n",
    "points = [(4, 5), (-0, 2), (4, 7), (1, -3), (3, -2), (4, 5),\n",
    "          (3, 2), (5, 7), (-5, 7), (2, 2), (-4, 5), (0, -2),\n",
    "          (-4, 7), (-1, 3), (-3, 2), (-4, -5), (-3, 2),\n",
    "          (5, 7), (5, 7), (2, 2), (9, 9), (-8, -9)]\n",
    "```\n",
    "\n",
    "## Tasks\n",
    "1. Robin Hood is famous for hitting an arrow with another arrow. Did you get it?\n",
    "2. Calculate how many arrows have fallen in each quadrant.\n",
    "3. Find the point closest to the center. Calculate its distance to the center. \n",
    "4. If the target has a radius of 9, calculate the number of arrows that must be picked up in the forest."
   ]
  },
  {
   "cell_type": "code",
   "execution_count": 2,
   "metadata": {},
   "outputs": [],
   "source": [
    "# Variables\n",
    "\n",
    "points = [(4, 5), (-0, 2), (4, 7), (1, -3), (3, -2), (4, 5),\n",
    "          (3, 2), (5, 7), (-5, 7), (2, 2), (-4, 5), (0, -2),\n",
    "          (-4, 7), (-1, 3), (-3, 2), (-4, -5), (-3, 2),\n",
    "          (5, 7), (5, 7), (2, 2), (9, 9), (-8, -9)]"
   ]
  },
  {
   "cell_type": "code",
   "execution_count": 3,
   "metadata": {},
   "outputs": [
    {
     "name": "stdout",
     "output_type": "stream",
     "text": [
      "Congrats, you hit an arrow with another arrow.\n"
     ]
    }
   ],
   "source": [
    "# 1. Robin Hood is famous for hitting an arrow with another arrow. Did you get it?\n",
    "\n",
    "#### METHOD ONE : if the set of the point list is shorter than the point list\n",
    "# this means one or more values in the point list were present several times\n",
    "# and thus that the coordinates were hit more than once.\n",
    "\n",
    "set_points = set(points)\n",
    "\n",
    "if len(points) > len(set_points):\n",
    "    print(\"Congrats, you hit an arrow with another arrow.\")\n",
    "else :\n",
    "    print(\"you're no robin hood yet.\")"
   ]
  },
  {
   "cell_type": "code",
   "execution_count": 5,
   "metadata": {},
   "outputs": [
    {
     "name": "stdout",
     "output_type": "stream",
     "text": [
      "{(4, 5): 2, (0, 2): 1, (4, 7): 1, (1, -3): 1, (3, -2): 1, (3, 2): 1, (5, 7): 3, (-5, 7): 1, (2, 2): 2, (-4, 5): 1, (0, -2): 1, (-4, 7): 1, (-1, 3): 1, (-3, 2): 2, (-4, -5): 1, (9, 9): 1, (-8, -9): 1}\n",
      "(4, 5) was hit 2 times.\n",
      "(5, 7) was hit 3 times.\n",
      "(2, 2) was hit 2 times.\n",
      "(-3, 2) was hit 2 times.\n"
     ]
    }
   ],
   "source": [
    "#### METHOD 2 :\n",
    "# Creating a dictionnary to visualize how many times each coordinate was hit.\n",
    "\n",
    "points_dict={}\n",
    "for i in points:\n",
    "    points_dict[i]=points.count(i)\n",
    "print(points_dict)\n",
    "\n",
    "for hit, nb in points_dict.items():    \n",
    "    if nb >= 2:\n",
    "        print(f\"{hit} was hit {nb} times.\")"
   ]
  },
  {
   "cell_type": "code",
   "execution_count": 6,
   "metadata": {},
   "outputs": [],
   "source": [
    "# 2. Calculate how many arrows have fallen in each quadrant.\n",
    "nb_q1 = 0\n",
    "nb_q2 = 0\n",
    "nb_q3 = 0\n",
    "nb_q4 = 0\n",
    "bullseye = 0\n",
    "\n",
    "for x in range(len(points)):\n",
    "    if (points[x][0] <= 0) and (points[x][1] >= 0):\n",
    "        nb_q1 += 1\n",
    "    elif (points[x][0] >= 0) and (points[x][1] >= 0):\n",
    "        nb_q2 += 1\n",
    "    elif (points[x][0] >= 0) and (points[x][1] <= 0):\n",
    "        nb_q3 += 1\n",
    "    elif (points[x][0] >= 0) and (points[x][1] <= 0):\n",
    "        nb_q4 += 1\n",
    "    else :\n",
    "        bullseye +=1\n"
   ]
  },
  {
   "cell_type": "code",
   "execution_count": 12,
   "metadata": {},
   "outputs": [
    {
     "name": "stdout",
     "output_type": "stream",
     "text": [
      "The closest arrow is shot number 1, coordinates are: (0, 2).\n"
     ]
    }
   ],
   "source": [
    "# 3. Find the point closest to the center. Calculate its distance to the center\n",
    "# Defining a function that calculates the distance to the center can help.\n",
    "points_dist = []\n",
    "closest_to_center = 0\n",
    "\n",
    "def dist(a,b):\n",
    "    distab = (a**2+b**2)**0.5\n",
    "    return distab\n",
    "\n",
    "for y in range(len(points)) :\n",
    "    points_dist.append(dist(points[y][0], points[y][1]))\n",
    "    \n",
    "closest_to_center = points_dist.index(min(points_dist))\n",
    "\n",
    "print(f\"The closest arrow is shot number {closest_to_center}, coordinates are: {points[closest_to_center]}.\")\n"
   ]
  },
  {
   "cell_type": "code",
   "execution_count": 10,
   "metadata": {},
   "outputs": [
    {
     "name": "stdout",
     "output_type": "stream",
     "text": [
      "Go get 2 arrows from the forest.\n"
     ]
    }
   ],
   "source": [
    "# 4. If the target has a radius of 9, calculate the number of arrows that \n",
    "# must be picked up in the forest.\n",
    "nb_out = 0\n",
    "\n",
    "for z in range(len(points)) :\n",
    "    if points_dist[z] > 9 :\n",
    "        nb_out += 1\n",
    "print(\"Go get\",nb_out, \"arrows from the forest.\")\n"
   ]
  },
  {
   "cell_type": "code",
   "execution_count": null,
   "metadata": {},
   "outputs": [],
   "source": []
  }
 ],
 "metadata": {
  "kernelspec": {
   "display_name": "Python 3",
   "language": "python",
   "name": "python3"
  },
  "language_info": {
   "codemirror_mode": {
    "name": "ipython",
    "version": 3
   },
   "file_extension": ".py",
   "mimetype": "text/x-python",
   "name": "python",
   "nbconvert_exporter": "python",
   "pygments_lexer": "ipython3",
   "version": "3.7.3"
  }
 },
 "nbformat": 4,
 "nbformat_minor": 2
}
