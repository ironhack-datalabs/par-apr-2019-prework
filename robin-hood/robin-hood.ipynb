{
 "cells": [
  {
   "cell_type": "markdown",
   "metadata": {},
   "source": [
    "# Robin Hood:\n",
    "We are in a competition to win the archery contest in Sherwood. With our bow and arrows we shoot on a target and try to hit as close as possible to the center.\n",
    "\n",
    "The center of the target is represented by the values (0, 0) on the coordinate axes.\n",
    "\n",
    "![](images/arrows.jpg)\n",
    "\n",
    "## Goals:\n",
    "* data structures: lists, sets, tuples\n",
    "* logical operators: if-elif-else\n",
    "* loop: while/for\n",
    "* minimum (optional sorting)\n",
    "\n",
    "## Description:\n",
    "In the 2-dimensional space, a point can be defined by a pair of values that correspond to the horizontal coordinate (x) and the vertical coordinate (y). The space can be divided into 4 zones (quadrants): Q1, Q2, Q3, Q4. Whose single point of union is the point (0, 0).\n",
    "\n",
    "If a point is in Q1 both its x coordinate and the y are positive. I leave a link to wikipedia to familiarize yourself with these quadrants.\n",
    "\n",
    "https://en.wikipedia.org/wiki/Cartesian_coordinate_system\n",
    "\n",
    "https://en.wikipedia.org/wiki/Euclidean_distance\n",
    "\n",
    "## Shots\n",
    "```\n",
    "points = [(4, 5), (-0, 2), (4, 7), (1, -3), (3, -2), (4, 5),\n",
    "          (3, 2), (5, 7), (-5, 7), (2, 2), (-4, 5), (0, -2),\n",
    "          (-4, 7), (-1, 3), (-3, 2), (-4, -5), (-3, 2),\n",
    "          (5, 7), (5, 7), (2, 2), (9, 9), (-8, -9)]\n",
    "```\n",
    "\n",
    "## Tasks\n",
    "1. Robin Hood is famous for hitting an arrow with another arrow. Did you get it?\n",
    "2. Calculate how many arrows have fallen in each quadrant.\n",
    "3. Find the point closest to the center. Calculate its distance to the center. \n",
    "4. If the target has a radius of 9, calculate the number of arrows that must be picked up in the forest."
   ]
  },
  {
   "cell_type": "code",
   "execution_count": 17,
   "metadata": {},
   "outputs": [],
   "source": [
    "# Variables\n",
    "points = [(4, 5), (-0, 2), (4, 7), (1, -3), (3, -2), (4, 5),\n",
    "          (3, 2), (5, 7), (-5, 7), (2, 2), (-4, 5), (0, -2),\n",
    "          (-4, 7), (-1, 3), (-3, 2), (-4, -5), (-3, 2),\n",
    "          (5, 7), (5, 7), (2, 2), (9, 9), (-8, -9)]"
   ]
  },
  {
   "cell_type": "code",
   "execution_count": 18,
   "metadata": {},
   "outputs": [
    {
     "name": "stdout",
     "output_type": "stream",
     "text": [
      "Robin Hood has hit an arrow with another arrow 3 times!\n"
     ]
    }
   ],
   "source": [
    "# 1. Robin Hood is famous for hitting an arrow with another arrow. Did you get it?\n",
    "another_arrow = 0\n",
    "for i in range (len(points)):\n",
    "    for j in range (i + 1, len(points)):\n",
    "        if points[i] == points [j]:\n",
    "            another_arrow += 1\n",
    "        else:\n",
    "            another_arrow += 0\n",
    "print(\"Robin Hood has hit an arrow with another arrow\",int(another_arrow/2),\"times!\")"
   ]
  },
  {
   "cell_type": "code",
   "execution_count": 19,
   "metadata": {},
   "outputs": [
    {
     "name": "stdout",
     "output_type": "stream",
     "text": [
      "Q1 has 10 arrows, Q2 has 6 arrows, Q3 has 2 arrows and Q4 has 2 arrows\n",
      "2 arrows are on X axis\n"
     ]
    }
   ],
   "source": [
    "# 2. Calculate how many arrows have fallen in each quadrant.\n",
    "# Which quadrant does a value go to if x or y is 0 ????\n",
    "Q1_sum = 0\n",
    "Q2_sum = 0\n",
    "Q3_sum = 0\n",
    "Q4_sum = 0\n",
    "x_axis = 0\n",
    "y_axis = 0\n",
    "\n",
    "for i in range(len(points)):\n",
    "    if points[i][0] == 0:\n",
    "        x_axis += 1\n",
    "    elif points[i][1] == 0:\n",
    "        y_axis += 1       \n",
    "    elif points[i][0] > 0 and points[i][1] > 0:\n",
    "        Q1_sum += 1\n",
    "    elif points[i][0] < 0 and points[i][1] > 0:\n",
    "        Q2_sum += 1\n",
    "    elif points[i][0] < 0 and points[i][1] < 0:\n",
    "        Q3_sum += 1\n",
    "    else:\n",
    "        Q4_sum += 1\n",
    "        \n",
    "print(\"Q1 has\", Q1_sum, \"arrows, Q2 has\", Q2_sum, \"arrows, Q3 has\", Q3_sum, \"arrows and Q4 has\", Q4_sum, \"arrows\")\n",
    "\n",
    "if x_axis > 0:\n",
    "    if x_axis == 1:\n",
    "        print(x_axis, \"arrow is on X axis\")\n",
    "    if x_axis > 1:\n",
    "        print(x_axis, \"arrows are on X axis\")\n",
    "if y_axis > 0:\n",
    "    if y_axis == 1:\n",
    "        print(y_axis, \"arrow is on Y axis\")\n",
    "    if y_axis > 1:\n",
    "        print(y_axis, \"arrows are on Y axis\") "
   ]
  },
  {
   "cell_type": "code",
   "execution_count": 20,
   "metadata": {},
   "outputs": [
    {
     "name": "stdout",
     "output_type": "stream",
     "text": [
      "The points closest to the center are:\n",
      "(0, 2)\n",
      "(0, -2)\n"
     ]
    }
   ],
   "source": [
    "# 3. Find the point closest to the center. Calculate its distance to the center\n",
    "# Defining a function that calculates the distance to the center can help.\n",
    "import math\n",
    "distance_list=[]\n",
    "\n",
    "for i in range(len(points)):\n",
    "    distance = math.sqrt(points[i][0]**2 + points[i][1]**2)\n",
    "    distance_list.append(distance)\n",
    "\n",
    "indexes = [i for i, x in enumerate(distance_list) if x == (min(distance_list))]\n",
    "if len(indexes) == 1:\n",
    "    print(\"The point closest to the center is:\")\n",
    "else:\n",
    "    print(\"The points closest to the center are:\")\n",
    "    \n",
    "for i in range(len(indexes)):\n",
    "    print(points[indexes[i]])"
   ]
  },
  {
   "cell_type": "code",
   "execution_count": 21,
   "metadata": {},
   "outputs": [
    {
     "name": "stdout",
     "output_type": "stream",
     "text": [
      "2 arrows must be picked up in the forest!\n"
     ]
    }
   ],
   "source": [
    "# 4. If the target has a radius of 9, calculate the number of arrows that \n",
    "# must be picked up in the forest.\n",
    "forest = 0\n",
    "\n",
    "for i in range(len(distance_list)): \n",
    "    if distance_list[i] > 9 or distance_list[i] < -9:\n",
    "        forest +=1\n",
    "        \n",
    "print(forest, \"arrows must be picked up in the forest!\")"
   ]
  },
  {
   "cell_type": "code",
   "execution_count": null,
   "metadata": {},
   "outputs": [],
   "source": []
  }
 ],
 "metadata": {
  "kernelspec": {
   "display_name": "Python 3",
   "language": "python",
   "name": "python3"
  },
  "language_info": {
   "codemirror_mode": {
    "name": "ipython",
    "version": 3
   },
   "file_extension": ".py",
   "mimetype": "text/x-python",
   "name": "python",
   "nbconvert_exporter": "python",
   "pygments_lexer": "ipython3",
   "version": "3.7.3"
  }
 },
 "nbformat": 4,
 "nbformat_minor": 2
}
