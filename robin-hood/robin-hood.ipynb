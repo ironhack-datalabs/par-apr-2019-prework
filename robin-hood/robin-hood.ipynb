{
 "cells": [
  {
   "cell_type": "markdown",
   "metadata": {},
   "source": [
    "# Robin Hood:\n",
    "We are in a competition to win the archery contest in Sherwood. With our bow and arrows we shoot on a target and try to hit as close as possible to the center.\n",
    "\n",
    "The center of the target is represented by the values (0, 0) on the coordinate axes.\n",
    "\n",
    "![](images/arrows.jpg)\n",
    "\n",
    "## Goals:\n",
    "* data structures: lists, sets, tuples\n",
    "* logical operators: if-elif-else\n",
    "* loop: while/for\n",
    "* minimum (optional sorting)\n",
    "\n",
    "## Description:\n",
    "In the 2-dimensional space, a point can be defined by a pair of values that correspond to the horizontal coordinate (x) and the vertical coordinate (y). The space can be divided into 4 zones (quadrants): Q1, Q2, Q3, Q4. Whose single point of union is the point (0, 0).\n",
    "\n",
    "If a point is in Q1 both its x coordinate and the y are positive. I leave a link to wikipedia to familiarize yourself with these quadrants.\n",
    "\n",
    "https://en.wikipedia.org/wiki/Cartesian_coordinate_system\n",
    "\n",
    "https://en.wikipedia.org/wiki/Euclidean_distance\n",
    "\n",
    "## Shots\n",
    "```\n",
    "points = [(4, 5), (-0, 2), (4, 7), (1, -3), (3, -2), (4, 5),\n",
    "          (3, 2), (5, 7), (-5, 7), (2, 2), (-4, 5), (0, -2),\n",
    "          (-4, 7), (-1, 3), (-3, 2), (-4, -5), (-3, 2),\n",
    "          (5, 7), (5, 7), (2, 2), (9, 9), (-8, -9)]\n",
    "```\n",
    "\n",
    "## Tasks\n",
    "1. Robin Hood is famous for hitting an arrow with another arrow. Did you get it?\n",
    "2. Calculate how many arrows have fallen in each quadrant.\n",
    "3. Find the point closest to the center. Calculate its distance to the center. \n",
    "4. If the target has a radius of 9, calculate the number of arrows that must be picked up in the forest."
   ]
  },
  {
   "cell_type": "code",
   "execution_count": 27,
   "metadata": {},
   "outputs": [
    {
     "name": "stdout",
     "output_type": "stream",
     "text": [
      "(4, 0, 4, 1, 3, 4, 3, 5, -5, 2, -4, 0, -4, -1, -3, -4, -3, 5, 5, 2, 9, -8)\n",
      "(5, 2, 7, -3, -2, 5, 2, 7, 7, 2, 5, -2, 7, 3, 2, -5, 2, 7, 7, 2, 9, -9)\n"
     ]
    }
   ],
   "source": [
    "# Variables\n",
    "\n",
    "points = [(4, 5), (-0, 2), (4, 7), (1, -3), (3, -2), (4, 5),\n",
    "          (3, 2), (5, 7), (-5, 7), (2, 2), (-4, 5), (0, -2),\n",
    "          (-4, 7), (-1, 3), (-3, 2), (-4, -5), (-3, 2),\n",
    "          (5, 7), (5, 7), (2, 2), (9, 9), (-8, -9)]\n",
    "\n",
    "\n",
    "points_x, points_y = zip(*points)\n",
    "\n",
    "print(points_x)\n",
    "print(points_y) \n",
    "\n",
    "\n",
    "\n"
   ]
  },
  {
   "cell_type": "code",
   "execution_count": 112,
   "metadata": {},
   "outputs": [
    {
     "name": "stdout",
     "output_type": "stream",
     "text": [
      "Le nombre de points est 22\n",
      "{(-4, 5), (4, 7), (3, 2), (4, 5), (-1, 3), (5, 7), (9, 9), (3, -2), (-5, 7), (-3, 2), (0, -2), (-4, -5), (2, 2), (-8, -9), (1, -3), (-4, 7), (0, 2)}\n",
      "Hood is here\n"
     ]
    }
   ],
   "source": [
    "# 1. Robin Hood is famous for hitting an arrow with another arrow. Did you get it?\n",
    "\n",
    "#print(\"Robin Hood hit\" + str([len(points)-len(set(points))]) + \"arrows with another arrow\")\n",
    "\n",
    "print(\"Le nombre de flèches est\",len(points))\n",
    "print(set(points))\n",
    "\n",
    "if len(set(points)) != len(points): \n",
    "    print(\"Hood is here\")\n",
    "\n",
    "else:\n",
    "    print(\"Hood is not here\")"
   ]
  },
  {
   "cell_type": "code",
   "execution_count": 115,
   "metadata": {},
   "outputs": [
    {
     "name": "stdout",
     "output_type": "stream",
     "text": [
      "Le nombre de flèches dans Q1 est de 11\n",
      "Q2 : 3\n",
      "Q3: 2\n",
      "Q4: 6\n"
     ]
    }
   ],
   "source": [
    "# 2. Calculate how many arrows have fallen in each quadrant.\n",
    "\n",
    "#Q1 = points_x > 0; points_y > 0 (all positive)\n",
    "#Q2 = points_x > 0; points_y < 0 (y nég)\n",
    "#Q3 = points_x < 0; points_y < 0 (deux nég)\n",
    "#Q4 = points_x < 0; points_y > 0\n",
    "\n",
    "#if points_x[pos] != 0:\n",
    "    #if points_y[pos]\n",
    "   #print (points_x[pos])\n",
    "    #print(\"x non nuls\")\n",
    "    \n",
    "    \n",
    "Q1, Q2, Q3, Q4 = 0, 0, 0, 0\n",
    "\n",
    "for pos in range(len(points_x)):\n",
    "    if points_x[pos] >= 0:\n",
    "        if points_y[pos] >= 0:\n",
    "            Q1 += 1\n",
    "        else:\n",
    "            Q2 += 1\n",
    "    else: \n",
    "        if points_y[pos] >= 0:\n",
    "            Q4 += 1\n",
    "        else: \n",
    "            Q3 += 1\n",
    "\n",
    "print(\"Le nombre de flèches dans Q1 est de\",Q1)\n",
    "print(\"Q2 :\",Q2)\n",
    "print(\"Q3:\",Q3)\n",
    "print(\"Q4:\",Q4)\n",
    "    \n"
   ]
  },
  {
   "cell_type": "code",
   "execution_count": 87,
   "metadata": {},
   "outputs": [
    {
     "name": "stdout",
     "output_type": "stream",
     "text": [
      "[41, 4, 65, 10, 13, 41, 13, 74, 74, 8, 41, 4, 65, 10, 13, 41, 13, 74, 74, 8, 162, 145]\n"
     ]
    },
    {
     "data": {
      "text/plain": [
       "(0, 2)"
      ]
     },
     "execution_count": 87,
     "metadata": {},
     "output_type": "execute_result"
    }
   ],
   "source": [
    "# 3. Find the point closest to the center. Calculate its distance to the center\n",
    "# Defining a function that calculates the distance to the center can help.\n",
    "\n",
    "    #distance_du_centre\n",
    "\n",
    "distance_list = []\n",
    "#toutes les distances\n",
    "\n",
    "for pos in range(len(points_x)):\n",
    "    if points_x[pos] == 0 and points_y[pos] == 0:\n",
    "        print(pos)\n",
    "\n",
    "    distance = (points_x[pos]**2) + (points_y[pos]**2)\n",
    "    distance_list.append(distance)\n",
    "print(distance_list)\n",
    "min_dist = distance_list.index(min(distance_list)) #le minimum des valeurs indexé dans la distance_list#\n",
    "\n",
    "\n",
    "points[min_dist]\n"
   ]
  },
  {
   "cell_type": "code",
   "execution_count": 117,
   "metadata": {},
   "outputs": [
    {
     "ename": "TypeError",
     "evalue": "'>=' not supported between instances of 'list' and 'int'",
     "output_type": "error",
     "traceback": [
      "\u001b[0;31m---------------------------------------------------------------------------\u001b[0m",
      "\u001b[0;31mTypeError\u001b[0m                                 Traceback (most recent call last)",
      "\u001b[0;32m<ipython-input-117-1bdff7e607fc>\u001b[0m in \u001b[0;36m<module>\u001b[0;34m\u001b[0m\n\u001b[1;32m     10\u001b[0m \u001b[0;34m\u001b[0m\u001b[0m\n\u001b[1;32m     11\u001b[0m \u001b[0;32mfor\u001b[0m \u001b[0marrows_out\u001b[0m \u001b[0;32min\u001b[0m \u001b[0mdistance_list\u001b[0m\u001b[0;34m:\u001b[0m\u001b[0;34m\u001b[0m\u001b[0;34m\u001b[0m\u001b[0m\n\u001b[0;32m---> 12\u001b[0;31m     \u001b[0;32mif\u001b[0m \u001b[0mdistance_list\u001b[0m \u001b[0;34m>=\u001b[0m \u001b[0;36m9\u001b[0m\u001b[0;34m:\u001b[0m\u001b[0;34m\u001b[0m\u001b[0;34m\u001b[0m\u001b[0m\n\u001b[0m\u001b[1;32m     13\u001b[0m         \u001b[0marrows_out\u001b[0m \u001b[0;34m+=\u001b[0m \u001b[0;36m1\u001b[0m\u001b[0;34m\u001b[0m\u001b[0;34m\u001b[0m\u001b[0m\n\u001b[1;32m     14\u001b[0m \u001b[0;34m\u001b[0m\u001b[0m\n",
      "\u001b[0;31mTypeError\u001b[0m: '>=' not supported between instances of 'list' and 'int'"
     ]
    }
   ],
   "source": [
    "# COMBIEN DE FLECHES A RAMASSER EN DEHORS DU PERIMETRE > 9\n",
    "# Toutes les flèches en dehors du cercle > //\n",
    "\n",
    "# 4 If the target has a radius of 9, calculate the number of arrows that \n",
    "# must be picked up in the forest.\n",
    "\n",
    "#arrows_out = distance_list.apprend(9)\n",
    "\n",
    "rayon = 9\n",
    "arrows_out = 0\n",
    "\n",
    "#fonction distance à utiliser\n",
    "\n",
    "for arrows_out in :\n",
    "    if distance_list >= 9:\n",
    "        arrows_out += 1\n",
    "\n",
    "\n",
    "#if arrows_out in range(len(distance_list)):\n",
    "#distance_list[pos] > 9\n",
    "#print(arrows_out) :"
   ]
  },
  {
   "cell_type": "code",
   "execution_count": null,
   "metadata": {},
   "outputs": [],
   "source": []
  }
 ],
 "metadata": {
  "kernelspec": {
   "display_name": "Python 3",
   "language": "python",
   "name": "python3"
  },
  "language_info": {
   "codemirror_mode": {
    "name": "ipython",
    "version": 3
   },
   "file_extension": ".py",
   "mimetype": "text/x-python",
   "name": "python",
   "nbconvert_exporter": "python",
   "pygments_lexer": "ipython3",
   "version": "3.7.3"
  }
 },
 "nbformat": 4,
 "nbformat_minor": 2
}
