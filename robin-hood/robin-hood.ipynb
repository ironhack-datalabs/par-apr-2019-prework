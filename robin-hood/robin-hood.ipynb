{
 "cells": [
  {
   "cell_type": "markdown",
   "metadata": {},
   "source": [
    "# Robin Hood:\n",
    "We are in a competition to win the archery contest in Sherwood. With our bow and arrows we shoot on a target and try to hit as close as possible to the center.\n",
    "\n",
    "The center of the target is represented by the values (0, 0) on the coordinate axes.\n",
    "\n",
    "![](images/arrows.jpg)\n",
    "\n",
    "## Goals:\n",
    "* data structures: lists, sets, tuples\n",
    "* logical operators: if-elif-else\n",
    "* loop: while/for\n",
    "* minimum (optional sorting)\n",
    "\n",
    "## Description:\n",
    "In the 2-dimensional space, a point can be defined by a pair of values that correspond to the horizontal coordinate (x) and the vertical coordinate (y). The space can be divided into 4 zones (quadrants): Q1, Q2, Q3, Q4. Whose single point of union is the point (0, 0).\n",
    "\n",
    "If a point is in Q1 both its x coordinate and the y are positive. I leave a link to wikipedia to familiarize yourself with these quadrants.\n",
    "\n",
    "https://en.wikipedia.org/wiki/Cartesian_coordinate_system\n",
    "\n",
    "https://en.wikipedia.org/wiki/Euclidean_distance\n",
    "\n",
    "## Shots\n",
    "```\n",
    "points = [(4, 5), (-0, 2), (4, 7), (1, -3), (3, -2), (4, 5),\n",
    "          (3, 2), (5, 7), (-5, 7), (2, 2), (-4, 5), (0, -2),\n",
    "          (-4, 7), (-1, 3), (-3, 2), (-4, -5), (-3, 2),\n",
    "          (5, 7), (5, 7), (2, 2), (9, 9), (-8, -9)]\n",
    "```\n",
    "\n",
    "## Tasks\n",
    "1. Robin Hood is famous for hitting an arrow with another arrow. Did you get it?\n",
    "2. Calculate how many arrows have fallen in each quadrant.\n",
    "3. Find the point closest to the center. Calculate its distance to the center. \n",
    "4. If the target has a radius of 9, calculate the number of arrows that must be picked up in the forest."
   ]
  },
  {
   "cell_type": "code",
   "execution_count": 1,
   "metadata": {},
   "outputs": [],
   "source": [
    "# Variables\n",
    "\n",
    "points = [(4, 5), (-0, 2), (4, 7), (1, -3), (3, -2), (4, 5),\n",
    "          (3, 2), (5, 7), (-5, 7), (2, 2), (-4, 5), (0, -2),\n",
    "          (-4, 7), (-1, 3), (-3, 2), (-4, -5), (-3, 2),\n",
    "          (5, 7), (5, 7), (2, 2), (9, 9), (-8, -9)]"
   ]
  },
  {
   "cell_type": "code",
   "execution_count": 3,
   "metadata": {},
   "outputs": [
    {
     "name": "stdout",
     "output_type": "stream",
     "text": [
      "Nb of arrows drawn: 22\n",
      "Nb of arrows on another: 5\n"
     ]
    }
   ],
   "source": [
    "# 1. Robin Hood is famous for hitting an arrow with another arrow. Did you get it?\n",
    "\n",
    "uniques = set(points)\n",
    "print(\"Nb of arrows drawn:\",len(points))\n",
    "print(\"Nb of arrows on another:\",len(points)-len(uniques))"
   ]
  },
  {
   "cell_type": "code",
   "execution_count": 8,
   "metadata": {},
   "outputs": [
    {
     "data": {
      "text/plain": [
       "[(1, (-4, 5)),\n",
       " (1, (4, 7)),\n",
       " (1, (3, 2)),\n",
       " (2, (4, 5)),\n",
       " (1, (-1, 3)),\n",
       " (3, (5, 7)),\n",
       " (1, (9, 9)),\n",
       " (1, (3, -2)),\n",
       " (1, (-5, 7)),\n",
       " (2, (-3, 2)),\n",
       " (1, (0, -2)),\n",
       " (1, (-4, -5)),\n",
       " (2, (2, 2)),\n",
       " (1, (-8, -9)),\n",
       " (1, (1, -3)),\n",
       " (1, (-4, 7)),\n",
       " (1, (0, 2))]"
      ]
     },
     "execution_count": 8,
     "metadata": {},
     "output_type": "execute_result"
    }
   ],
   "source": [
    "# nb of arrows and coordinates of corresponding arrows \n",
    "[(points.count(i),i) for i in uniques]"
   ]
  },
  {
   "cell_type": "code",
   "execution_count": 9,
   "metadata": {},
   "outputs": [
    {
     "name": "stdout",
     "output_type": "stream",
     "text": [
      "11 arrows in first quadrant\n",
      "6 arrows in second quadrant\n",
      "2 arrows in third quadrant\n",
      "3 arrows in fourth quadrant\n"
     ]
    }
   ],
   "source": [
    "# 2. Calculate how many arrows have fallen in each quadrant.\n",
    "\n",
    "Q1=0\n",
    "Q2=0\n",
    "Q3=0\n",
    "Q4=0\n",
    "\n",
    "for point in points:\n",
    "    if (point[0]>=0) & (point[1]>=0):\n",
    "        Q1 += 1\n",
    "    if (point[0]<0) & (point[1]>=0):\n",
    "        Q2 += 1\n",
    "    if (point[0]<0) & (point[1]<0):\n",
    "        Q3 += 1\n",
    "    if (point[0]>=0) & (point[1]<0):\n",
    "        Q4 += 1\n",
    "        \n",
    "print(Q1,\"arrows in first quadrant\")\n",
    "print(Q2,\"arrows in second quadrant\")\n",
    "print(Q3,\"arrows in third quadrant\")\n",
    "print(Q4,\"arrows in fourth quadrant\")"
   ]
  },
  {
   "cell_type": "code",
   "execution_count": 11,
   "metadata": {},
   "outputs": [
    {
     "name": "stdout",
     "output_type": "stream",
     "text": [
      "Closest point to the center (0, -2)\n"
     ]
    }
   ],
   "source": [
    "# 3. Find the point closest to the center. Calculate its distance to the center\n",
    "# Defining a function that calculates the distance to the center can help.\n",
    "\n",
    "from math import *\n",
    "\n",
    "def d_origin(x,y):\n",
    "    return sqrt(x**2+y**2)\n",
    "\n",
    "\n",
    "points = [(4, 5), (-0, 2), (4, 7), (1, -3), (3, -2), (4, 5),\n",
    "          (3, 2), (5, 7), (-5, 7), (2, 2), (-4, 5), (0, -2),\n",
    "          (-4, 7), (-1, 3), (-3, 2), (-4, -5), (-3, 2),\n",
    "          (5, 7), (5, 7), (2, 2), (9, 9), (-8, -9)]\n",
    "value = 0\n",
    "d=[]\n",
    "\n",
    "for point in points:\n",
    "    value=d_origin(point[0],point[1])\n",
    "    d.append(value)\n",
    "\n",
    "    #pas la meilleure solution car le dictionnaire ne peux avoir une clé qu'une seule fois\n",
    "point_dist={}\n",
    "\n",
    "for i in range(0,len(points)):\n",
    "    point_dist[d[i]]=points[i]\n",
    "\n",
    "print(\"Closest point to the center\",point_dist[min(d)])"
   ]
  },
  {
   "cell_type": "code",
   "execution_count": 20,
   "metadata": {},
   "outputs": [
    {
     "data": {
      "text/plain": [
       "{6.4031242374328485: (-4, -5),\n",
       " 2.0: (0, -2),\n",
       " 8.06225774829855: (-4, 7),\n",
       " 3.1622776601683795: (-1, 3),\n",
       " 3.605551275463989: (-3, 2),\n",
       " 8.602325267042627: (5, 7),\n",
       " 2.8284271247461903: (2, 2),\n",
       " 12.727922061357855: (9, 9),\n",
       " 12.041594578792296: (-8, -9)}"
      ]
     },
     "execution_count": 20,
     "metadata": {},
     "output_type": "execute_result"
    }
   ],
   "source": [
    "point_dist"
   ]
  },
  {
   "cell_type": "code",
   "execution_count": 17,
   "metadata": {},
   "outputs": [
    {
     "data": {
      "text/plain": [
       "2.0"
      ]
     },
     "execution_count": 17,
     "metadata": {},
     "output_type": "execute_result"
    }
   ],
   "source": [
    "dist=[d_origin(point[0],point[1]) for point in points]\n",
    "min(dist)"
   ]
  },
  {
   "cell_type": "code",
   "execution_count": 26,
   "metadata": {},
   "outputs": [
    {
     "data": {
      "text/plain": [
       "[(0, 2), (0, -2)]"
      ]
     },
     "execution_count": 26,
     "metadata": {},
     "output_type": "execute_result"
    }
   ],
   "source": [
    "#dist.count(min(dist)) <-- How many occurrence of min distance?\n",
    "#coordinates of points with minimal distance to the center\n",
    "[(x,y) for x,y in points if d_origin(x,y)==min(dist)]"
   ]
  },
  {
   "cell_type": "code",
   "execution_count": 6,
   "metadata": {},
   "outputs": [
    {
     "name": "stdout",
     "output_type": "stream",
     "text": [
      "2 arrows to pick up in the forest\n"
     ]
    }
   ],
   "source": [
    "# 4. If the target has a radius of 9, calculate the number of arrows that \n",
    "# must be picked up in the forest.\n",
    "\n",
    "to_pick_up = 0\n",
    "radius = 9\n",
    "max_distance_from_center = d_origin(radius,0)\n",
    "\n",
    "for distance in d:\n",
    "    if distance>=max_distance_from_center:\n",
    "        to_pick_up += 1\n",
    "\n",
    "print(to_pick_up,\"arrows to pick up in the forest\")"
   ]
  }
 ],
 "metadata": {
  "kernelspec": {
   "display_name": "Python 3",
   "language": "python",
   "name": "python3"
  },
  "language_info": {
   "codemirror_mode": {
    "name": "ipython",
    "version": 3
   },
   "file_extension": ".py",
   "mimetype": "text/x-python",
   "name": "python",
   "nbconvert_exporter": "python",
   "pygments_lexer": "ipython3",
   "version": "3.7.3"
  }
 },
 "nbformat": 4,
 "nbformat_minor": 2
}
