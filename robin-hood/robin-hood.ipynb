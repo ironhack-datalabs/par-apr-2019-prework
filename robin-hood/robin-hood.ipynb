{
 "cells": [
  {
   "cell_type": "markdown",
   "metadata": {},
   "source": [
    "# Robin Hood:\n",
    "We are in a competition to win the archery contest in Sherwood. With our bow and arrows we shoot on a target and try to hit as close as possible to the center.\n",
    "\n",
    "The center of the target is represented by the values (0, 0) on the coordinate axes.\n",
    "\n",
    "![](images/arrows.jpg)\n",
    "\n",
    "## Goals:\n",
    "* data structures: lists, sets, tuples\n",
    "* logical operators: if-elif-else\n",
    "* loop: while/for\n",
    "* minimum (optional sorting)\n",
    "\n",
    "## Description:\n",
    "In the 2-dimensional space, a point can be defined by a pair of values that correspond to the horizontal coordinate (x) and the vertical coordinate (y). The space can be divided into 4 zones (quadrants): Q1, Q2, Q3, Q4. Whose single point of union is the point (0, 0).\n",
    "\n",
    "If a point is in Q1 both its x coordinate and the y are positive. I leave a link to wikipedia to familiarize yourself with these quadrants.\n",
    "\n",
    "https://en.wikipedia.org/wiki/Cartesian_coordinate_system\n",
    "\n",
    "https://en.wikipedia.org/wiki/Euclidean_distance\n",
    "\n",
    "## Shots\n",
    "```\n",
    "points = [(4, 5), (-0, 2), (4, 7), (1, -3), (3, -2), (4, 5),\n",
    "          (3, 2), (5, 7), (-5, 7), (2, 2), (-4, 5), (0, -2),\n",
    "          (-4, 7), (-1, 3), (-3, 2), (-4, -5), (-3, 2),\n",
    "          (5, 7), (5, 7), (2, 2), (9, 9), (-8, -9)]\n",
    "```\n",
    "\n",
    "## Tasks\n",
    "1. Robin Hood is famous for hitting an arrow with another arrow. Did you get it?\n",
    "2. Calculate how many arrows have fallen in each quadrant.\n",
    "3. Find the point closest to the center. Calculate its distance to the center. \n",
    "4. If the target has a radius of 9, calculate the number of arrows that must be picked up in the forest."
   ]
  },
  {
   "cell_type": "code",
   "execution_count": 1,
   "metadata": {},
   "outputs": [],
   "source": [
    "# Variables\n",
    "\n",
    "points = [(4, 5), (-0, 2), (4, 7), (1, -3), (3, -2), (4, 5),\n",
    "          (3, 2), (5, 7), (-5, 7), (2, 2), (-4, 5), (0, -2),\n",
    "          (-4, 7), (-1, 3), (-3, 2), (-4, -5), (-3, 2),\n",
    "          (5, 7), (5, 7), (2, 2), (9, 9), (-8, -9)]"
   ]
  },
  {
   "cell_type": "code",
   "execution_count": 2,
   "metadata": {},
   "outputs": [
    {
     "name": "stdout",
     "output_type": "stream",
     "text": [
      "Yes, Robin Hood was famous for splitting his own arrows,which means he would hit exactly the same spot more than once\n"
     ]
    }
   ],
   "source": [
    "# 1. Robin Hood is famous for hitting an arrow with another arrow. Did you get it?\n",
    "\n",
    "print(\"Yes, Robin Hood was famous for splitting his own arrows,\\\n",
    "which means he would hit exactly the same spot more than once\")"
   ]
  },
  {
   "cell_type": "code",
   "execution_count": 3,
   "metadata": {},
   "outputs": [
    {
     "name": "stdout",
     "output_type": "stream",
     "text": [
      " Q1: 16 \n",
      " Q2: 1 \n",
      " Q3: 4 \n",
      " Q4: 1\n"
     ]
    }
   ],
   "source": [
    "# 2. Calculate how many arrows have fallen in each quadrant.\n",
    "\n",
    "q_1 = 0 # x + y\n",
    "q_2 = 0 # -x + y\n",
    "q_3 = 0 # -x - y\n",
    "q_4 = 0 # x - y \n",
    "\n",
    "for coordinate in points:\n",
    "    if coordinate[0] and coordinate[1] >= 0:\n",
    "        q_1 += 1\n",
    "    elif coordinate[0] <= 0 and coordinate[1] >= 0:\n",
    "        q_2 +=1\n",
    "    elif coordinate[0] and coordinate[1] <= 0:\n",
    "        q_3 += 1\n",
    "    else:\n",
    "    #elif coordinate[0] >= 0 and coordinate[1] <= 0:\n",
    "        q_4 += 1\n",
    "\n",
    "print(' Q1:', q_1, '\\n', \n",
    "      'Q2:', q_2, '\\n', \n",
    "      'Q3:', q_3, '\\n', \n",
    "      'Q4:', q_4)"
   ]
  },
  {
   "cell_type": "code",
   "execution_count": 4,
   "metadata": {},
   "outputs": [
    {
     "name": "stdout",
     "output_type": "stream",
     "text": [
      "Arrow/s closest to the center: [(0, 2), (0, -2)] with the distance to center: 2.0\n"
     ]
    }
   ],
   "source": [
    "# 3. Find the point closest to the center. Calculate its distance to the center\n",
    "# Defining a function that calculates the distance to the center can help.\n",
    "\n",
    "def distance_to_center(arrows):\n",
    "    distances = []\n",
    "    arrows_closest = []\n",
    "    for coordinate in arrows:\n",
    "        distance = (abs(coordinate[0])**2 + abs(coordinate[1]**2))**0.5\n",
    "        distances.append(distance)\n",
    "    for d in range(len(distances)):\n",
    "        if distances[d] == min(distances):\n",
    "            arrows_closest.append(arrows[d])\n",
    "    return print('Arrow/s closest to the center:', arrows_closest, 'with the distance to center:', min(distances))\n",
    "\n",
    "distance_to_center(points)"
   ]
  },
  {
   "cell_type": "code",
   "execution_count": 6,
   "metadata": {},
   "outputs": [
    {
     "name": "stdout",
     "output_type": "stream",
     "text": [
      "Number of arrows to be picked up in the forest: 0\n"
     ]
    }
   ],
   "source": [
    "# 4. If the target has a radius of 9, calculate the number of arrows that \n",
    "# must be picked up in the forest. \n",
    "\n",
    "forest = 0\n",
    "for i in points:\n",
    "    if i[0] > 9 or i[1] > 9:\n",
    "        forest += 1\n",
    "\n",
    "print('Number of arrows to be picked up in the forest:' , forest)"
   ]
  },
  {
   "cell_type": "code",
   "execution_count": null,
   "metadata": {},
   "outputs": [],
   "source": []
  }
 ],
 "metadata": {
  "kernelspec": {
   "display_name": "Python 3",
   "language": "python",
   "name": "python3"
  },
  "language_info": {
   "codemirror_mode": {
    "name": "ipython",
    "version": 3
   },
   "file_extension": ".py",
   "mimetype": "text/x-python",
   "name": "python",
   "nbconvert_exporter": "python",
   "pygments_lexer": "ipython3",
   "version": "3.7.3"
  }
 },
 "nbformat": 4,
 "nbformat_minor": 2
}
