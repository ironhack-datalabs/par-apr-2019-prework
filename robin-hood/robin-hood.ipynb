{
 "cells": [
  {
   "cell_type": "markdown",
   "metadata": {},
   "source": [
    "# Robin Hood:\n",
    "We are in a competition to win the archery contest in Sherwood. With our bow and arrows we shoot on a target and try to hit as close as possible to the center.\n",
    "\n",
    "The center of the target is represented by the values (0, 0) on the coordinate axes.\n",
    "\n",
    "![](images/arrows.jpg)\n",
    "\n",
    "## Goals:\n",
    "* data structures: lists, sets, tuples\n",
    "* logical operators: if-elif-else\n",
    "* loop: while/for\n",
    "* minimum (optional sorting)\n",
    "\n",
    "## Description:\n",
    "In the 2-dimensional space, a point can be defined by a pair of values that correspond to the horizontal coordinate (x) and the vertical coordinate (y). The space can be divided into 4 zones (quadrants): Q1, Q2, Q3, Q4. Whose single point of union is the point (0, 0).\n",
    "\n",
    "If a point is in Q1 both its x coordinate and the y are positive. I leave a link to wikipedia to familiarize yourself with these quadrants.\n",
    "\n",
    "https://en.wikipedia.org/wiki/Cartesian_coordinate_system\n",
    "\n",
    "https://en.wikipedia.org/wiki/Euclidean_distance\n",
    "\n",
    "## Shots\n",
    "```\n",
    "points = [(4, 5), (-0, 2), (4, 7), (1, -3), (3, -2), (4, 5),\n",
    "          (3, 2), (5, 7), (-5, 7), (2, 2), (-4, 5), (0, -2),\n",
    "          (-4, 7), (-1, 3), (-3, 2), (-4, -5), (-3, 2),\n",
    "          (5, 7), (5, 7), (2, 2), (9, 9), (-8, -9)]\n",
    "```\n",
    "\n",
    "## Tasks\n",
    "1. Robin Hood is famous for hitting an arrow with another arrow. Did you get it?\n",
    "2. Calculate how many arrows have fallen in each quadrant.\n",
    "3. Find the point closest to the center. Calculate its distance to the center. \n",
    "4. If the target has a radius of 9, calculate the number of arrows that must be picked up in the forest."
   ]
  },
  {
   "cell_type": "code",
   "execution_count": 2,
   "metadata": {},
   "outputs": [],
   "source": [
    "# Variables\n",
    "\n",
    "points = [(4, 5), (-0, 2), (4, 7), (1, -3), (3, -2), (4, 5),\n",
    "          (3, 2), (5, 7), (-5, 7), (2, 2), (-4, 5), (0, -2),\n",
    "          (-4, 7), (-1, 3), (-3, 2), (-4, -5), (-3, 2),\n",
    "          (5, 7), (5, 7), (2, 2), (9, 9), (-8, -9)]\n",
    "\n",
    "Q1=0\n",
    "Q2=0\n",
    "Q3=0\n",
    "Q4=0\n"
   ]
  },
  {
   "cell_type": "code",
   "execution_count": 11,
   "metadata": {},
   "outputs": [
    {
     "name": "stdout",
     "output_type": "stream",
     "text": [
      "Robin Hood hit an arrow immediately with another arrow at: (5, 7)\n",
      "Cible (4, 5)\n",
      "Cible (5, 7)\n",
      "Cible (-3, 2)\n",
      "Cible (2, 2)\n"
     ]
    },
    {
     "data": {
      "text/plain": [
       "[[(4, 5), 2, 'fois'],\n",
       " [(5, 7), 3, 'fois'],\n",
       " [(-3, 2), 2, 'fois'],\n",
       " [(2, 2), 2, 'fois']]"
      ]
     },
     "execution_count": 11,
     "metadata": {},
     "output_type": "execute_result"
    }
   ],
   "source": [
    "# 1. Robin Hood is famous for hitting an arrow with another arrow. Did you get it?\n",
    "\n",
    "i=0\n",
    "while i < len(points)-1:\n",
    "    if points[i] == points[i+1]:\n",
    "        print(\"Robin Hood hit an arrow immediately with another arrow at:\", points[i])        \n",
    "    i += 1\n",
    "    \n",
    "unique = set(points)\n",
    "for i in unique:\n",
    "    count = points.count(i)\n",
    "    if count > 1:\n",
    "        print(\"Cible\", i)\n",
    "\n",
    "unique = set(points)\n",
    "[[i,points.count(i)] for i in unique if points.count(i)>1]\n"
   ]
  },
  {
   "cell_type": "code",
   "execution_count": 6,
   "metadata": {},
   "outputs": [
    {
     "name": "stdout",
     "output_type": "stream",
     "text": [
      "Number of fallen arrows in quadrant Q1: 10\n",
      "Number of fallen arrows in quadrant Q2: 7\n",
      "Number of fallen arrows in quadrant Q3: 3\n",
      "Number of fallen arrows in quadrant Q4: 2\n"
     ]
    }
   ],
   "source": [
    "# 2. Calculate how many arrows have fallen in each quadrant.\n",
    "\n",
    "for i in range(len(points)):\n",
    "    if points[i][0] > 0:\n",
    "        if points[i][1] > 0:\n",
    "            Q1 += 1\n",
    "            #print(\"Q1\", Q1)\n",
    "        else :\n",
    "            Q4 += 1\n",
    "            #print(\"Q4\", Q4)\n",
    "    else :\n",
    "        if points[i][1] > 0:\n",
    "            Q2 += 1\n",
    "            #print(\"Q2\", Q2)\n",
    "        else :\n",
    "            Q3 += 1\n",
    "            #print(\"Q3\", Q3)\n",
    "\n",
    "print(\"Number of fallen arrows in quadrant Q1:\", Q1)\n",
    "print(\"Number of fallen arrows in quadrant Q2:\", Q2)\n",
    "print(\"Number of fallen arrows in quadrant Q3:\", Q3)\n",
    "print(\"Number of fallen arrows in quadrant Q4:\", Q4)\n",
    "\n"
   ]
  },
  {
   "cell_type": "code",
   "execution_count": 7,
   "metadata": {},
   "outputs": [
    {
     "name": "stdout",
     "output_type": "stream",
     "text": [
      "Closest distance to the center: 2.0\n",
      "Closest point to the center: (0, 2)\n",
      "Closest point to the center: (0, -2)\n"
     ]
    }
   ],
   "source": [
    "# 3. Find the point closest to the center. Calculate its distance to the center\n",
    "# Defining a function that calculates the distance to the center can help.\n",
    "\n",
    "def calc_distance(arrow_coord):\n",
    "    d = ((arrow_coord[0])**2 + (arrow_coord[1])**2)**(0.5)  \n",
    "    return d\n",
    "\n",
    "dist=[]\n",
    "for i in range(len(points)):\n",
    "    dist.append(calc_distance(points[i]))\n",
    "print(\"Closest distance to the center:\", min(dist))\n",
    "\n",
    "for i in range(len(points)):\n",
    "    if calc_distance(points[i]) == min(dist):\n",
    "        print(\"Closest point to the center:\", points[i])\n",
    " \n"
   ]
  },
  {
   "cell_type": "code",
   "execution_count": 8,
   "metadata": {},
   "outputs": [
    {
     "name": "stdout",
     "output_type": "stream",
     "text": [
      "Number of arrows that must be picked up if radius is 9: 2\n"
     ]
    }
   ],
   "source": [
    "# 4. If the target has a radius of 9, calculate the number of arrows that \n",
    "# must be picked up in the forest.\n",
    "\n",
    "n=0    \n",
    "for i in range(len(points)):\n",
    "    if calc_distance(points[i]) > 9:\n",
    "        n += 1\n",
    "print(\"Number of arrows that must be picked up if radius is 9:\",n)     "
   ]
  },
  {
   "cell_type": "code",
   "execution_count": null,
   "metadata": {},
   "outputs": [],
   "source": []
  }
 ],
 "metadata": {
  "kernelspec": {
   "display_name": "Python 3",
   "language": "python",
   "name": "python3"
  },
  "language_info": {
   "codemirror_mode": {
    "name": "ipython",
    "version": 3
   },
   "file_extension": ".py",
   "mimetype": "text/x-python",
   "name": "python",
   "nbconvert_exporter": "python",
   "pygments_lexer": "ipython3",
   "version": "3.7.3"
  }
 },
 "nbformat": 4,
 "nbformat_minor": 2
}
