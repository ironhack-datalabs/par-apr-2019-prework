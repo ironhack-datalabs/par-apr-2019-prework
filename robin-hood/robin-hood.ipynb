{
 "cells": [
  {
   "cell_type": "markdown",
   "metadata": {},
   "source": [
    "# Robin Hood:\n",
    "We are in a competition to win the archery contest in Sherwood. With our bow and arrows we shoot on a target and try to hit as close as possible to the center.\n",
    "\n",
    "The center of the target is represented by the values (0, 0) on the coordinate axes.\n",
    "\n",
    "![](images/arrows.jpg)\n",
    "\n",
    "## Goals:\n",
    "* data structures: lists, sets, tuples\n",
    "* logical operators: if-elif-else\n",
    "* loop: while/for\n",
    "* minimum (optional sorting)\n",
    "\n",
    "## Description:\n",
    "In the 2-dimensional space, a point can be defined by a pair of values that correspond to the horizontal coordinate (x) and the vertical coordinate (y). The space can be divided into 4 zones (quadrants): Q1, Q2, Q3, Q4. Whose single point of union is the point (0, 0).\n",
    "\n",
    "If a point is in Q1 both its x coordinate and the y are positive. I leave a link to wikipedia to familiarize yourself with these quadrants.\n",
    "\n",
    "https://en.wikipedia.org/wiki/Cartesian_coordinate_system\n",
    "\n",
    "https://en.wikipedia.org/wiki/Euclidean_distance\n",
    "\n",
    "## Shots\n",
    "```\n",
    "points = [(4, 5), (-0, 2), (4, 7), (1, -3), (3, -2), (4, 5),\n",
    "          (3, 2), (5, 7), (-5, 7), (2, 2), (-4, 5), (0, -2),\n",
    "          (-4, 7), (-1, 3), (-3, 2), (-4, -5), (-3, 2),\n",
    "          (5, 7), (5, 7), (2, 2), (9, 9), (-8, -9)]\n",
    "```\n",
    "\n",
    "## Tasks\n",
    "1. Robin Hood is famous for hitting an arrow with another arrow. Did you get it?\n",
    "2. Calculate how many arrows have fallen in each quadrant.\n",
    "3. Find the point closest to the center. Calculate its distance to the center. \n",
    "4. If the target has a radius of 9, calculate the number of arrows that must be picked up in the forest."
   ]
  },
  {
   "cell_type": "code",
   "execution_count": 1,
   "metadata": {},
   "outputs": [],
   "source": [
    "# Variables\n",
    "\n",
    "points = [(4, 5), (-0, 2), (4, 7), (1, -3), (3, -2), (4, 5),\n",
    "          (3, 2), (5, 7), (-5, 7), (2, 2), (-4, 5), (0, -2),\n",
    "          (-4, 7), (-1, 3), (-3, 2), (-4, -5), (-3, 2),\n",
    "          (5, 7), (5, 7), (2, 2), (9, 9), (-8, -9)]"
   ]
  },
  {
   "cell_type": "code",
   "execution_count": 5,
   "metadata": {},
   "outputs": [],
   "source": [
    "# 1. Robin Hood is famous for hitting an arrow with another arrow. Did you get it?\n",
    "\n",
    "# Got it!\n"
   ]
  },
  {
   "cell_type": "code",
   "execution_count": 11,
   "metadata": {},
   "outputs": [
    {
     "name": "stdout",
     "output_type": "stream",
     "text": [
      "[(-8, -9), (-5, 7), (-4, -5), (-4, 5), (-4, 7), (-3, 2), (-3, 2), (-1, 3), (0, -2), (0, 2), (1, -3), (2, 2), (2, 2), (3, -2), (3, 2), (4, 5), (4, 5), (4, 7), (5, 7), (5, 7), (5, 7), (9, 9)]\n"
     ]
    },
    {
     "ename": "TypeError",
     "evalue": "can only concatenate tuple (not \"int\") to tuple",
     "output_type": "error",
     "traceback": [
      "\u001b[0;31m---------------------------------------------------------------------------\u001b[0m",
      "\u001b[0;31mTypeError\u001b[0m                                 Traceback (most recent call last)",
      "\u001b[0;32m<ipython-input-11-b430d3fb4942>\u001b[0m in \u001b[0;36m<module>\u001b[0;34m\u001b[0m\n\u001b[1;32m     15\u001b[0m \u001b[0;32mfor\u001b[0m \u001b[0mi\u001b[0m \u001b[0;32min\u001b[0m \u001b[0mpoints\u001b[0m\u001b[0;34m:\u001b[0m\u001b[0;34m\u001b[0m\u001b[0;34m\u001b[0m\u001b[0m\n\u001b[1;32m     16\u001b[0m     \u001b[0mlist\u001b[0m\u001b[0;34m(\u001b[0m\u001b[0mi\u001b[0m\u001b[0;34m)\u001b[0m\u001b[0;34m\u001b[0m\u001b[0;34m\u001b[0m\u001b[0m\n\u001b[0;32m---> 17\u001b[0;31m     \u001b[0;32mif\u001b[0m \u001b[0mi\u001b[0m\u001b[0;34m[\u001b[0m\u001b[0;36m0\u001b[0m\u001b[0;34m]\u001b[0m \u001b[0;34m>\u001b[0m \u001b[0;34m(\u001b[0m\u001b[0mi\u001b[0m\u001b[0;34m+\u001b[0m\u001b[0;36m1\u001b[0m\u001b[0;34m)\u001b[0m\u001b[0;34m[\u001b[0m\u001b[0;36m0\u001b[0m\u001b[0;34m]\u001b[0m\u001b[0;34m:\u001b[0m\u001b[0;34m\u001b[0m\u001b[0;34m\u001b[0m\u001b[0m\n\u001b[0m\u001b[1;32m     18\u001b[0m         \u001b[0mfallen_arrows\u001b[0m\u001b[0;34m.\u001b[0m\u001b[0mappend\u001b[0m\u001b[0;34m(\u001b[0m\u001b[0mi\u001b[0m\u001b[0;34m)\u001b[0m\u001b[0;34m\u001b[0m\u001b[0;34m\u001b[0m\u001b[0m\n\u001b[1;32m     19\u001b[0m     \u001b[0;32melse\u001b[0m\u001b[0;34m:\u001b[0m\u001b[0;34m\u001b[0m\u001b[0;34m\u001b[0m\u001b[0m\n",
      "\u001b[0;31mTypeError\u001b[0m: can only concatenate tuple (not \"int\") to tuple"
     ]
    }
   ],
   "source": [
    "# 2. Calculate how many arrows have fallen in each quadrant.\n",
    "\n",
    "points = [(4, 5), (-0, 2), (4, 7), (1, -3), (3, -2), (4, 5),\n",
    "          (3, 2), (5, 7), (-5, 7), (2, 2), (-4, 5), (0, -2),\n",
    "          (-4, 7), (-1, 3), (-3, 2), (-4, -5), (-3, 2),\n",
    "          (5, 7), (5, 7), (2, 2), (9, 9), (-8, -9)]\n",
    "\n",
    "#Let's sort the list\n",
    "points.sort()\n",
    "print(points)\n",
    "\n",
    "total_arrows = []\n",
    "fallen_arrows = []\n",
    "\n",
    "for i in points:\n",
    "    list(i)\n",
    "    if i[0] == (i+1)[0] & i[1]==(i+1)[1]:\n",
    "        tuple(i)\n",
    "        fallen_arrows.append(i)\n",
    "    else:\n",
    "        tuple(i)\n",
    "        total_arrows.append(i)\n",
    "        \n",
    "print(fallen_arrows)\n",
    "print(total_arrows)\n",
    "\n",
    "\n",
    "\n",
    "fallen_arrows = [(-4, 5),(-3, 2),(2, 2),(4, 5),(5, 7),(5, 7)]\n",
    "\n",
    "quadrant1 = []\n",
    "quadrant2 = []\n",
    "quadrant3 = []\n",
    "quadrant4 = []\n",
    "\n",
    "for i in fallen_arrows:\n",
    "    if i[0]>0 & i[1]>0:\n",
    "        quadrant1.append(fallen_arrow[i])\n",
    "    elif i[0]<0 & i[1]>0:  \n",
    "        quadrant2.append(fallen_arrow[i])\n",
    "    elif i[0]<0 & i[1]<0:\n",
    "        quadrant3.append(fallen_arrow[i])\n",
    "    else:\n",
    "        quadrant4.append(fallen_arrow[i])\n",
    "        \n",
    "print('The number of fallen arrows in Q1:',len(quadrant1))\n",
    "print('The number of fallen arrows in Q2:',len(quadrant2))\n",
    "print('The number of fallen arrows in Q3:',len(quadrant3))\n",
    "print('The number of fallen arrows in Q4:',len(quadrant4))\n",
    "\n"
   ]
  },
  {
   "cell_type": "code",
   "execution_count": 24,
   "metadata": {},
   "outputs": [
    {
     "name": "stdout",
     "output_type": "stream",
     "text": [
      "(-8, -9)\n",
      "12.041594578792296\n",
      "[12.041594578792296]\n",
      "(-5, 7)\n",
      "8.602325267042627\n",
      "[8.602325267042627, 12.041594578792296]\n",
      "(-4, 5)\n",
      "6.4031242374328485\n",
      "[6.4031242374328485, 8.602325267042627, 12.041594578792296]\n",
      "(-4, 7)\n",
      "8.06225774829855\n",
      "[6.4031242374328485, 8.06225774829855, 8.602325267042627, 12.041594578792296]\n",
      "(-3, 2)\n",
      "3.605551275463989\n",
      "[3.605551275463989, 6.4031242374328485, 8.06225774829855, 8.602325267042627, 12.041594578792296]\n",
      "(-1, 3)\n",
      "3.1622776601683795\n",
      "[3.1622776601683795, 3.605551275463989, 6.4031242374328485, 8.06225774829855, 8.602325267042627, 12.041594578792296]\n",
      "(0, -2)\n",
      "2.0\n",
      "[2.0, 3.1622776601683795, 3.605551275463989, 6.4031242374328485, 8.06225774829855, 8.602325267042627, 12.041594578792296]\n",
      "(0, 2)\n",
      "2.0\n",
      "[2.0, 2.0, 3.1622776601683795, 3.605551275463989, 6.4031242374328485, 8.06225774829855, 8.602325267042627, 12.041594578792296]\n",
      "(1, -3)\n",
      "3.1622776601683795\n",
      "[2.0, 2.0, 3.1622776601683795, 3.1622776601683795, 3.605551275463989, 6.4031242374328485, 8.06225774829855, 8.602325267042627, 12.041594578792296]\n",
      "(2, 2)\n",
      "2.8284271247461903\n",
      "[2.0, 2.0, 2.8284271247461903, 3.1622776601683795, 3.1622776601683795, 3.605551275463989, 6.4031242374328485, 8.06225774829855, 8.602325267042627, 12.041594578792296]\n",
      "(3, -2)\n",
      "3.605551275463989\n",
      "[2.0, 2.0, 2.8284271247461903, 3.1622776601683795, 3.1622776601683795, 3.605551275463989, 3.605551275463989, 6.4031242374328485, 8.06225774829855, 8.602325267042627, 12.041594578792296]\n",
      "(3, 2)\n",
      "3.605551275463989\n",
      "[2.0, 2.0, 2.8284271247461903, 3.1622776601683795, 3.1622776601683795, 3.605551275463989, 3.605551275463989, 3.605551275463989, 6.4031242374328485, 8.06225774829855, 8.602325267042627, 12.041594578792296]\n",
      "(4, 5)\n",
      "6.4031242374328485\n",
      "[2.0, 2.0, 2.8284271247461903, 3.1622776601683795, 3.1622776601683795, 3.605551275463989, 3.605551275463989, 3.605551275463989, 6.4031242374328485, 6.4031242374328485, 8.06225774829855, 8.602325267042627, 12.041594578792296]\n",
      "(4, 7)\n",
      "8.06225774829855\n",
      "[2.0, 2.0, 2.8284271247461903, 3.1622776601683795, 3.1622776601683795, 3.605551275463989, 3.605551275463989, 3.605551275463989, 6.4031242374328485, 6.4031242374328485, 8.06225774829855, 8.06225774829855, 8.602325267042627, 12.041594578792296]\n",
      "(5, 7)\n",
      "8.602325267042627\n",
      "[2.0, 2.0, 2.8284271247461903, 3.1622776601683795, 3.1622776601683795, 3.605551275463989, 3.605551275463989, 3.605551275463989, 6.4031242374328485, 6.4031242374328485, 8.06225774829855, 8.06225774829855, 8.602325267042627, 8.602325267042627, 12.041594578792296]\n",
      "(9, 9)\n",
      "12.727922061357855\n",
      "[2.0, 2.0, 2.8284271247461903, 3.1622776601683795, 3.1622776601683795, 3.605551275463989, 3.605551275463989, 3.605551275463989, 6.4031242374328485, 6.4031242374328485, 8.06225774829855, 8.06225774829855, 8.602325267042627, 8.602325267042627, 12.041594578792296, 12.727922061357855]\n",
      "The point closest to center is: 2.0\n",
      "The closest points to the center are:(0, -2) and (0, 2)\n"
     ]
    }
   ],
   "source": [
    "# 3. Find the point closest to the center. Calculate its distance to the center\n",
    "# Defining a function that calculates the distance to the center can help.\n",
    "\n",
    "total_arrows = [(-8, -9), (-5, 7), (-4, 5), (-4, 7), (-3, 2), (-1, 3), (0, -2), (0, 2), (1, -3), (2, 2), (3, -2), (3, 2), (4, 5), (4, 7), (5, 7), (9, 9)] \n",
    "\n",
    "distance = 0\n",
    "list_distance = []\n",
    "\n",
    "import math\n",
    "\n",
    "for i in total_arrows:\n",
    "    print(i)\n",
    "    distance = math.sqrt(i[0]**2 + i[1]**2)\n",
    "    print(distance)\n",
    "    list_distance.append(distance)\n",
    "    list_distance.sort()\n",
    "    print(list_distance)\n",
    "    \n",
    "print('The point closest to center is:',min(list_distance))\n",
    "print ('The closest points to the center are:(0, -2) and (0, 2)')\n",
    "\n"
   ]
  },
  {
   "cell_type": "code",
   "execution_count": 28,
   "metadata": {},
   "outputs": [
    {
     "name": "stdout",
     "output_type": "stream",
     "text": [
      "The number of arrows picked in the forest is 2\n"
     ]
    }
   ],
   "source": [
    "# 4. If the target has a radius of 9, calculate the number of arrows that \n",
    "# must be picked up in the forest.\n",
    "\n",
    "arrows_in_forest = []\n",
    "\n",
    "for i in list_distance:\n",
    "    if i>9:\n",
    "        arrows_in_forest.append(i)\n",
    "#print(arrows_in_forest)\n",
    "print('The number of arrows picked in the forest is',len(arrows_in_forest))\n",
    "\n"
   ]
  },
  {
   "cell_type": "code",
   "execution_count": null,
   "metadata": {},
   "outputs": [],
   "source": []
  },
  {
   "cell_type": "code",
   "execution_count": null,
   "metadata": {},
   "outputs": [],
   "source": []
  },
  {
   "cell_type": "code",
   "execution_count": null,
   "metadata": {},
   "outputs": [],
   "source": []
  }
 ],
 "metadata": {
  "kernelspec": {
   "display_name": "Python 3",
   "language": "python",
   "name": "python3"
  },
  "language_info": {
   "codemirror_mode": {
    "name": "ipython",
    "version": 3
   },
   "file_extension": ".py",
   "mimetype": "text/x-python",
   "name": "python",
   "nbconvert_exporter": "python",
   "pygments_lexer": "ipython3",
   "version": "3.7.3"
  }
 },
 "nbformat": 4,
 "nbformat_minor": 2
}
