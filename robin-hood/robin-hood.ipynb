{
 "cells": [
  {
   "cell_type": "markdown",
   "metadata": {},
   "source": [
    "# Robin Hood:\n",
    "We are in a competition to win the archery contest in Sherwood. With our bow and arrows we shoot on a target and try to hit as close as possible to the center.\n",
    "\n",
    "The center of the target is represented by the values (0, 0) on the coordinate axes.\n",
    "\n",
    "![](images/arrows.jpg)\n",
    "\n",
    "## Goals:\n",
    "* data structures: lists, sets, tuples\n",
    "* logical operators: if-elif-else\n",
    "* loop: while/for\n",
    "* minimum (optional sorting)\n",
    "\n",
    "## Description:\n",
    "In the 2-dimensional space, a point can be defined by a pair of values that correspond to the horizontal coordinate (x) and the vertical coordinate (y). The space can be divided into 4 zones (quadrants): Q1, Q2, Q3, Q4. Whose single point of union is the point (0, 0).\n",
    "\n",
    "If a point is in Q1 both its x coordinate and the y are positive. I leave a link to wikipedia to familiarize yourself with these quadrants.\n",
    "\n",
    "https://en.wikipedia.org/wiki/Cartesian_coordinate_system\n",
    "\n",
    "https://en.wikipedia.org/wiki/Euclidean_distance\n",
    "\n",
    "## Shots\n",
    "```\n",
    "points = [(4, 5), (-0, 2), (4, 7), (1, -3), (3, -2), (4, 5),\n",
    "          (3, 2), (5, 7), (-5, 7), (2, 2), (-4, 5), (0, -2),\n",
    "          (-4, 7), (-1, 3), (-3, 2), (-4, -5), (-3, 2),\n",
    "          (5, 7), (5, 7), (2, 2), (9, 9), (-8, -9)]\n",
    "```\n",
    "\n",
    "## Tasks\n",
    "1. Robin Hood is famous for hitting an arrow with another arrow. Did you get it?\n",
    "2. Calculate how many arrows have fallen in each quadrant.\n",
    "3. Find the point closest to the center. Calculate its distance to the center. \n",
    "4. If the target has a radius of 9, calculate the number of arrows that must be picked up in the forest."
   ]
  },
  {
   "cell_type": "code",
   "execution_count": 1,
   "metadata": {},
   "outputs": [],
   "source": [
    "# Variables\n",
    "\n",
    "points = [(4, 5), (-0, 2), (4, 7), (1, -3), (3, -2), (4, 5),\n",
    "          (3, 2), (5, 7), (-5, 7), (2, 2), (-4, 5), (0, -2),\n",
    "          (-4, 7), (-1, 3), (-3, 2), (-4, -5), (-3, 2),\n",
    "          (5, 7), (5, 7), (2, 2), (9, 9), (-8, -9)]"
   ]
  },
  {
   "cell_type": "code",
   "execution_count": 1,
   "metadata": {},
   "outputs": [
    {
     "name": "stdout",
     "output_type": "stream",
     "text": [
      "22\n"
     ]
    }
   ],
   "source": [
    "# Variables\n",
    "\n",
    "points = [(4, 5), (-0, 2), (4, 7), (1, -3), (3, -2), (4, 5),\n",
    "          (3, 2), (5, 7), (-5, 7), (2, 2), (-4, 5), (0, -2),\n",
    "          (-4, 7), (-1, 3), (-3, 2), (-4, -5), (-3, 2),\n",
    "          (5, 7), (5, 7), (2, 2), (9, 9), (-8, -9)]\n",
    "\n",
    "# 1. Robin Hood is famous for hitting an arrow with another arrow. Did you get it?\n",
    "hits=len(points)\n",
    "\n",
    "print(hits)\n"
   ]
  },
  {
   "cell_type": "code",
   "execution_count": 3,
   "metadata": {},
   "outputs": [
    {
     "name": "stdout",
     "output_type": "stream",
     "text": [
      "No Quadrante #1:  10\n",
      "No Quadrante #2:  6\n",
      "No Quadrante #3:  2\n",
      "No Quadrante #4:  2\n"
     ]
    }
   ],
   "source": [
    "points = [(4, 5), (-0, 2), (4, 7), (1, -3), (3, -2), (4, 5),\n",
    "          (3, 2), (5, 7), (-5, 7), (2, 2), (-4, 5), (0, -2),\n",
    "          (-4, 7), (-1, 3), (-3, 2), (-4, -5), (-3, 2),\n",
    "          (5, 7), (5, 7), (2, 2), (9, 9), (-8, -9)]\n",
    "\n",
    "# 2. Calculate how many arrows have fallen in each quadrant.\n",
    "count_q1=0\n",
    "count_q2=0\n",
    "count_q3=0\n",
    "count_q4=0\n",
    "\n",
    "def whichQuadrant(x,y):\n",
    "    if x>0 and y>0:\n",
    "        return 1\n",
    "    elif x<0 and y>0:\n",
    "        return 2\n",
    "    elif x<0 and y<0:\n",
    "        return 3\n",
    "    elif x>0 and y<0:\n",
    "        return 4\n",
    "\n",
    "\n",
    "for point in points:\n",
    "    x=point[0]\n",
    "    y=point[-1]    \n",
    "    where_quadrant=whichQuadrant(x,y)\n",
    "    if  where_quadrant==1:\n",
    "        count_q1+=1\n",
    "    elif where_quadrant==2:\n",
    "        count_q2+=1\n",
    "    elif where_quadrant==3:\n",
    "        count_q3+=1\n",
    "    elif where_quadrant==4:\n",
    "        count_q4+=1\n",
    "\n",
    "print(\"No Quadrante #1: \",count_q1)\n",
    "print(\"No Quadrante #2: \",count_q2)\n",
    "print(\"No Quadrante #3: \",count_q3)\n",
    "print(\"No Quadrante #4: \",count_q4)\n",
    "\n"
   ]
  },
  {
   "cell_type": "code",
   "execution_count": 5,
   "metadata": {},
   "outputs": [
    {
     "name": "stdout",
     "output_type": "stream",
     "text": [
      "(0, -1)\n"
     ]
    }
   ],
   "source": [
    "# 3. Find the point closest to the center. Calculate its distance to the center\n",
    "# Defining a function that calculates the distance to the center can help.\n",
    "\n",
    "points = [(4, 5), (-0, 2), (4, 7), (1, -3), (3, -2), (4, 5),\n",
    "          (3, 2), (5, 7), (-5, 7),(0,-1), (2, 2), (-4, 5), (0, -2),\n",
    "          (-4, 7), (-1, 3), (-3, 2), (-4, -5), (-3, 2),\n",
    "          (5, 7), (5, 7), (2, 2), (9, 9), (-8, -9)]\n",
    "best_x=points[0][0] #initial value obtained inside first tuple\n",
    "best_y=points[0][-1]#initial value obtained inside first tuple\n",
    "best_point=points[0]#initial value is the first tuple\n",
    "\n",
    "def howFar(x_point,y_point):\n",
    "    absolute_x=abs(x_point)\n",
    "    absolute_y=abs(y_point)\n",
    "    result=absolute_x+absolute_y\n",
    "    return result\n",
    "\n",
    "for point in points:\n",
    "    current_point=point\n",
    "    current_x=point[0]\n",
    "    current_y=point[-1]    \n",
    "    distance_current_point=howFar(current_x,current_y)\n",
    "    distance_best_point=howFar(best_x,best_y)\n",
    "    if distance_current_point<= distance_best_point:\n",
    "        best_x=current_x\n",
    "        best_y=current_y\n",
    "        best_point=current_point\n",
    "    else:\n",
    "        pass\n",
    "  \n",
    "\n",
    "print(best_point)\n"
   ]
  },
  {
   "cell_type": "code",
   "execution_count": 6,
   "metadata": {},
   "outputs": [
    {
     "name": "stdout",
     "output_type": "stream",
     "text": [
      "2\n"
     ]
    }
   ],
   "source": [
    "# 4. If the target has a radius of 9, calculate the number of arrows that \n",
    "# must be picked up in the forest.\n",
    "\n",
    "points = [(4, 5), (-0, 2), (4, 7), (1, -3), (3, -2), (4, 5),\n",
    "          (3, 2), (5, 7), (-5, 7),(0,-1), (2, 2), (-4, 5), (0, -2),\n",
    "          (-4, 7), (-1, 3), (-3, 2), (-4, -5), (-3, 2),\n",
    "          (5, 7), (5, 7), (2, 2), (9, 9), (-8, -9)]\n",
    "\n",
    "radius=9\n",
    "count_arrows_out=0\n",
    "\n",
    "def hipotenuse(a,b):\n",
    "   c=((a**2)+(b**2))**(1/2)\n",
    "   return c\n",
    "\n",
    "\n",
    "for point in points:\n",
    "    x_now=point[0]\n",
    "    y_now=point[-1]\n",
    "    if hipotenuse(x_now,y_now)>radius:\n",
    "        count_arrows_out+=1\n",
    "    else:\n",
    "        pass\n",
    "\n",
    "print(count_arrows_out)\n"
   ]
  },
  {
   "cell_type": "code",
   "execution_count": null,
   "metadata": {},
   "outputs": [],
   "source": []
  }
 ],
 "metadata": {
  "kernelspec": {
   "display_name": "Python 3",
   "language": "python",
   "name": "python3"
  },
  "language_info": {
   "codemirror_mode": {
    "name": "ipython",
    "version": 3
   },
   "file_extension": ".py",
   "mimetype": "text/x-python",
   "name": "python",
   "nbconvert_exporter": "python",
   "pygments_lexer": "ipython3",
   "version": "3.7.3"
  }
 },
 "nbformat": 4,
 "nbformat_minor": 2
}
