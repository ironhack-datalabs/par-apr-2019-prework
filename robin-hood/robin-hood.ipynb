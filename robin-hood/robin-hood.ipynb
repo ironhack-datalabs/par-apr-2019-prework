{
 "cells": [
  {
   "cell_type": "markdown",
   "metadata": {},
   "source": [
    "# Robin Hood:\n",
    "We are in a competition to win the archery contest in Sherwood. With our bow and arrows we shoot on a target and try to hit as close as possible to the center.\n",
    "\n",
    "The center of the target is represented by the values (0, 0) on the coordinate axes.\n",
    "\n",
    "![](images/arrows.jpg)\n",
    "\n",
    "## Goals:\n",
    "* data structures: lists, sets, tuples\n",
    "* logical operators: if-elif-else\n",
    "* loop: while/for\n",
    "* minimum (optional sorting)\n",
    "\n",
    "## Description:\n",
    "In the 2-dimensional space, a point can be defined by a pair of values that correspond to the horizontal coordinate (x) and the vertical coordinate (y). The space can be divided into 4 zones (quadrants): Q1, Q2, Q3, Q4. Whose single point of union is the point (0, 0).\n",
    "\n",
    "If a point is in Q1 both its x coordinate and the y are positive. I leave a link to wikipedia to familiarize yourself with these quadrants.\n",
    "\n",
    "https://en.wikipedia.org/wiki/Cartesian_coordinate_system\n",
    "\n",
    "https://en.wikipedia.org/wiki/Euclidean_distance\n",
    "\n",
    "## Shots\n",
    "```\n",
    "points = [(4, 5), (-0, 2), (4, 7), (1, -3), (3, -2), (4, 5),\n",
    "          (3, 2), (5, 7), (-5, 7), (2, 2), (-4, 5), (0, -2),\n",
    "          (-4, 7), (-1, 3), (-3, 2), (-4, -5), (-3, 2),\n",
    "          (5, 7), (5, 7), (2, 2), (9, 9), (-8, -9)]\n",
    "```\n",
    "\n",
    "## Tasks\n",
    "1. Robin Hood is famous for hitting an arrow with another arrow. Did you get it?\n",
    "2. Calculate how many arrows have fallen in each quadrant.\n",
    "3. Find the point closest to the center. Calculate its distance to the center. \n",
    "4. If the target has a radius of 9, calculate the number of arrows that must be picked up in the forest."
   ]
  },
  {
   "cell_type": "code",
   "execution_count": 3,
   "metadata": {},
   "outputs": [
    {
     "name": "stdout",
     "output_type": "stream",
     "text": [
      "Q1: [(4, 5), (4, 7), (4, 5), (3, 2), (5, 7), (2, 2), (5, 7), (5, 7), (2, 2), (9, 9)] Nb of arrow: 10\n",
      "Q2: [(-5, 7), (-4, 5), (-4, 7), (-1, 3), (-3, 2), (-3, 2)] Nb of arrow: 6\n",
      "Q3: [(-4, -5), (-8, -9)] Nb of arrow: 2\n",
      "Q4: [(0, 2), (1, -3), (3, -2), (0, -2)] Nb of arrow: 4\n"
     ]
    }
   ],
   "source": [
    "# Variables\n",
    "\n",
    "points = [(4, 5), (-0, 2), (4, 7), (1, -3), (3, -2), (4, 5),\n",
    "          (3, 2), (5, 7), (-5, 7), (2, 2), (-4, 5), (0, -2),\n",
    "          (-4, 7), (-1, 3), (-3, 2), (-4, -5), (-3, 2),\n",
    "          (5, 7), (5, 7), (2, 2), (9, 9), (-8, -9)]\n",
    "Q1 = []\n",
    "Q2 = []\n",
    "Q3 = []\n",
    "Q4 = []\n",
    "for d in points:\n",
    "    x = d[0]\n",
    "    y = d[-1]\n",
    "    d=(x,y)\n",
    "    if x >0 and y>0: #I (+,+)\n",
    "        Q1.append(d)\n",
    "    elif x <0 and y>0: # II (−,+) \n",
    "        Q2.append(d)\n",
    "    elif x <0 and y<0: # III (−,−)\n",
    "        Q3.append(d)\n",
    "    else : # and IV (+,−).\n",
    "        Q4.append(d)\n",
    "print('Q1:',Q1,'Nb of arrow:',len(Q1))\n",
    "print('Q2:',Q2,'Nb of arrow:',len(Q2))\n",
    "print('Q3:',Q3,'Nb of arrow:',len(Q3))\n",
    "print('Q4:',Q4,'Nb of arrow:',len(Q4))"
   ]
  },
  {
   "cell_type": "code",
   "execution_count": null,
   "metadata": {},
   "outputs": [],
   "source": []
  },
  {
   "cell_type": "code",
   "execution_count": 4,
   "metadata": {},
   "outputs": [
    {
     "name": "stdout",
     "output_type": "stream",
     "text": [
      "{(4, 5), (5, 7), (-3, 2), (2, 2)}\n"
     ]
    }
   ],
   "source": [
    "# 1. Robin Hood is famous for hitting an arrow with another arrow. Did you get it?\n",
    "for d in points:\n",
    "    dupes = {x for n, x in enumerate(points) if x in points[:n]}\n",
    "print(dupes) # [[1], [3]] \n"
   ]
  },
  {
   "cell_type": "code",
   "execution_count": 5,
   "metadata": {},
   "outputs": [
    {
     "name": "stdout",
     "output_type": "stream",
     "text": [
      "Nb of arrow for Q1: 10 for Q2 : 6 for Q3: 2 for Q4: 4\n"
     ]
    }
   ],
   "source": [
    "# 2. Calculate how many arrows have fallen in each quadrant.\n",
    "print('Nb of arrow for Q1:',len(Q1),'for Q2 :',len(Q2),'for Q3:',len(Q3),'for Q4:',len(Q4))"
   ]
  },
  {
   "cell_type": "code",
   "execution_count": 8,
   "metadata": {},
   "outputs": [
    {
     "name": "stdout",
     "output_type": "stream",
     "text": [
      "Calcul la distance entre deux points Q1:  2.8284271247461903\n",
      "Calcul la distance entre deux points Q2:  3.1622776601683795\n",
      "Calcul la distance entre deux points Q3:  6.4031242374328485\n",
      "Calcul la distance entre deux points Q4:  2.0\n"
     ]
    }
   ],
   "source": [
    "# 3. Find the point closest to the center. Calculate its distance to the center\n",
    "# Defining a function that calculates the distance to the center can help.\n",
    "from math import sqrt\n",
    "\n",
    "def Sqr(a):\n",
    "    return a*a \n",
    "    \n",
    "def Distance(c,d):#car on calcule la distance par rapport au centre x1=0 et y1=0\n",
    "    dis_euc=sqrt(Sqr(d-0)+Sqr(c-0))\n",
    "    return (dis_euc)\n",
    "\n",
    "list_dis_euc1=[]\n",
    "list_dis_euc2=[]\n",
    "list_dis_euc3=[]\n",
    "list_dis_euc4=[]\n",
    "\n",
    "for a in Q1:\n",
    "    x1 = a[0]\n",
    "    y1 = a[-1]   \n",
    "    list_dis_euc1.append(Distance(x1,y1))\n",
    "    min_dis_euc1=min(list_dis_euc1)\n",
    "\n",
    "for a in (Q2):\n",
    "    x2 = a[0]\n",
    "    y2 = a[-1]   \n",
    "    list_dis_euc2.append(Distance(x2,y2))\n",
    "    min_dis_euc2=min(list_dis_euc2)\n",
    "\n",
    "for a in (Q3):\n",
    "    x3 = a[0]\n",
    "    y3 = a[-1]   \n",
    "    list_dis_euc3.append(Distance(x3,y3))\n",
    "    min_dis_euc3=min(list_dis_euc3)\n",
    "\n",
    "for a in (Q4):\n",
    "    x4 = a[0]\n",
    "    y4 = a[-1]   \n",
    "    list_dis_euc4.append(Distance(x4,y4))\n",
    "    min_dis_euc4=min(list_dis_euc4)\n",
    "\n",
    "\n",
    "print(\"Calcul la distance entre deux points Q1: \",min_dis_euc1) \n",
    "print(\"Calcul la distance entre deux points Q2: \",min_dis_euc2)\n",
    "print(\"Calcul la distance entre deux points Q3: \",min_dis_euc3)\n",
    "print(\"Calcul la distance entre deux points Q4: \",min_dis_euc4)"
   ]
  },
  {
   "cell_type": "code",
   "execution_count": 24,
   "metadata": {},
   "outputs": [
    {
     "name": "stdout",
     "output_type": "stream",
     "text": [
      "Number of arrows that must be picked up in the forest : 2\n"
     ]
    }
   ],
   "source": [
    "# 4. If the target has a radius of 9, calculate the number of arrows that \n",
    "# must be picked up in the forest.\n",
    "count=0\n",
    "for d in points:\n",
    "    x = d[0]\n",
    "    y = d[-1]\n",
    "    target=(x*x)+(y*y)\n",
    "    if target > 81:\n",
    "        count+=1   \n",
    "print(\"Number of arrows that must be picked up in the forest :\",count)"
   ]
  },
  {
   "cell_type": "code",
   "execution_count": null,
   "metadata": {},
   "outputs": [],
   "source": []
  }
 ],
 "metadata": {
  "kernelspec": {
   "display_name": "Python 3",
   "language": "python",
   "name": "python3"
  },
  "language_info": {
   "codemirror_mode": {
    "name": "ipython",
    "version": 3
   },
   "file_extension": ".py",
   "mimetype": "text/x-python",
   "name": "python",
   "nbconvert_exporter": "python",
   "pygments_lexer": "ipython3",
   "version": "3.7.3"
  }
 },
 "nbformat": 4,
 "nbformat_minor": 2
}
