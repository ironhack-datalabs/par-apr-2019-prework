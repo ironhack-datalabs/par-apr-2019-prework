{
 "cells": [
  {
   "cell_type": "markdown",
   "metadata": {},
   "source": [
    "# Robin Hood:\n",
    "We are in a competition to win the archery contest in Sherwood. With our bow and arrows we shoot on a target and try to hit as close as possible to the center.\n",
    "\n",
    "The center of the target is represented by the values (0, 0) on the coordinate axes.\n",
    "\n",
    "![](images/arrows.jpg)\n",
    "\n",
    "## Goals:\n",
    "* data structures: lists, sets, tuples\n",
    "* logical operators: if-elif-else\n",
    "* loop: while/for\n",
    "* minimum (optional sorting)\n",
    "\n",
    "## Description:\n",
    "In the 2-dimensional space, a point can be defined by a pair of values that correspond to the horizontal coordinate (x) and the vertical coordinate (y). The space can be divided into 4 zones (quadrants): Q1, Q2, Q3, Q4. Whose single point of union is the point (0, 0).\n",
    "\n",
    "If a point is in Q1 both its x coordinate and the y are positive. I leave a link to wikipedia to familiarize yourself with these quadrants.\n",
    "\n",
    "https://en.wikipedia.org/wiki/Cartesian_coordinate_system\n",
    "\n",
    "https://en.wikipedia.org/wiki/Euclidean_distance\n",
    "\n",
    "## Shots\n",
    "```\n",
    "points = [(4, 5), (-0, 2), (4, 7), (1, -3), (3, -2), (4, 5),\n",
    "          (3, 2), (5, 7), (-5, 7), (2, 2), (-4, 5), (0, -2),\n",
    "          (-4, 7), (-1, 3), (-3, 2), (-4, -5), (-3, 2),\n",
    "          (5, 7), (5, 7), (2, 2), (9, 9), (-8, -9)]\n",
    "```\n",
    "\n",
    "## Tasks\n",
    "1. Robin Hood is famous for hitting an arrow with another arrow. Did you get it?\n",
    "2. Calculate how many arrows have fallen in each quadrant.\n",
    "3. Find the point closest to the center. Calculate its distance to the center. \n",
    "4. If the target has a radius of 9, calculate the number of arrows that must be picked up in the forest."
   ]
  },
  {
   "cell_type": "code",
   "execution_count": 1,
   "metadata": {},
   "outputs": [],
   "source": [
    "# Variables\n",
    "\n",
    "points = [(4, 5), (-0, 2), (4, 7), (1, -3), (3, -2), (4, 5),\n",
    "          (3, 2), (5, 7), (-5, 7), (2, 2), (-4, 5), (0, -2),\n",
    "          (-4, 7), (-1, 3), (-3, 2), (-4, -5), (-3, 2),\n",
    "          (5, 7), (5, 7), (2, 2), (9, 9), (-8, -9)]"
   ]
  },
  {
   "cell_type": "code",
   "execution_count": 5,
   "metadata": {},
   "outputs": [
    {
     "name": "stdout",
     "output_type": "stream",
     "text": [
      "[(-3, 2), (2, 2), (4, 5), (5, 7)]\n"
     ]
    }
   ],
   "source": [
    "# 1. Robin Hood is famous for hitting an arrow with another arrow. Did you get it?\n",
    "\n",
    "unique_targets = sorted(set(points))\n",
    "\n",
    "duplicate_list = []\n",
    "\n",
    "for i in range(len(unique_targets)):\n",
    "    if points.count(unique_targets[i]) > 1:\n",
    "        duplicate_list.append(unique_targets[i])\n",
    "\n",
    "print(duplicate_list)"
   ]
  },
  {
   "cell_type": "code",
   "execution_count": 4,
   "metadata": {},
   "outputs": [
    {
     "name": "stdout",
     "output_type": "stream",
     "text": [
      "There are 10 arrows in Q1.\n",
      "There are 6 arrows in Q2.\n",
      "There are 2 arrows in Q3.\n",
      "There are 4 arrows in Q4.\n"
     ]
    }
   ],
   "source": [
    "# 2. Calculate how many arrows have fallen in each quadrant.\n",
    "\n",
    "arrows = 0\n",
    "\n",
    "Q1 = []\n",
    "Q2 = []\n",
    "Q3 = []\n",
    "Q4 = []\n",
    "\n",
    "for x, y in points:\n",
    "    if x > 0 and y > 0:\n",
    "        Q1.append(arrows)\n",
    "    elif x < 0 and y > 0:\n",
    "        Q2.append(arrows)\n",
    "    elif x < 0 and y < 0:\n",
    "        Q3.append(arrows)\n",
    "    else:\n",
    "        Q4.append(arrows)\n",
    "print(\"There are\", len(Q1), \"arrows in Q1.\")\n",
    "print(\"There are\", len(Q2), \"arrows in Q2.\")\n",
    "print(\"There are\", len(Q3), \"arrows in Q3.\")\n",
    "print(\"There are\", len(Q4), \"arrows in Q4.\")\n"
   ]
  },
  {
   "cell_type": "code",
   "execution_count": 6,
   "metadata": {},
   "outputs": [
    {
     "name": "stdout",
     "output_type": "stream",
     "text": [
      "(0, -2)\n",
      "2.0\n"
     ]
    }
   ],
   "source": [
    "# 3. Find the point closest to the center. Calculate its distance to the center\n",
    "# Defining a function that calculates the distance to the center can help.\n",
    "\n",
    "min_value = 0\n",
    "\n",
    "closest_point_to_center = min([x for x in points if x[0] == min_value]) \\\n",
    "                          and min([y for y in points if y[0] == min_value])\n",
    "\n",
    "print(closest_point_to_center)\n",
    "\n",
    "#DISTANCE CALCULTATION\n",
    "\n",
    "import math\n",
    "\n",
    "p1 = [0, 0]\n",
    "p2 = [0, -2]\n",
    "distance = math.sqrt(((p1[0]-p2[0])**2)+((p1[1]-p2[1])**2))\n",
    "\n",
    "print(distance)\n"
   ]
  },
  {
   "cell_type": "code",
   "execution_count": 7,
   "metadata": {},
   "outputs": [
    {
     "name": "stdout",
     "output_type": "stream",
     "text": [
      "Enter radius of circle: 9\n",
      "Area of Circle = 254.34\n"
     ]
    }
   ],
   "source": [
    "# 4. If the target has a radius of 9, calculate the number of arrows that \n",
    "# must be picked up in the forest.\n",
    "\n",
    "rad = input(\"Enter radius of circle: \")\n",
    "if rad == 'x':\n",
    "    exit()\n",
    "else:\n",
    "    radius = float(rad)\n",
    "    area = 3.14 * radius * radius\n",
    "    print(\"Area of Circle = %0.2f\" %area)\n"
   ]
  },
  {
   "cell_type": "code",
   "execution_count": 10,
   "metadata": {},
   "outputs": [
    {
     "name": "stdout",
     "output_type": "stream",
     "text": [
      "Nombre de flèches hors de la cible : 2\n"
     ]
    }
   ],
   "source": [
    "c = 0\n",
    "\n",
    "for (a,b) in points:\n",
    "    distance = math.sqrt((a ** 2) + (b ** 2))\n",
    "\n",
    "    if distance > radius:\n",
    "\n",
    "        c+=1\n",
    "\n",
    "print(\"Nombre de flèches hors de la cible : {}\".format(c))"
   ]
  },
  {
   "cell_type": "code",
   "execution_count": null,
   "metadata": {},
   "outputs": [],
   "source": []
  }
 ],
 "metadata": {
  "kernelspec": {
   "display_name": "Python 3",
   "language": "python",
   "name": "python3"
  },
  "language_info": {
   "codemirror_mode": {
    "name": "ipython",
    "version": 3
   },
   "file_extension": ".py",
   "mimetype": "text/x-python",
   "name": "python",
   "nbconvert_exporter": "python",
   "pygments_lexer": "ipython3",
   "version": "3.6.5"
  }
 },
 "nbformat": 4,
 "nbformat_minor": 2
}
