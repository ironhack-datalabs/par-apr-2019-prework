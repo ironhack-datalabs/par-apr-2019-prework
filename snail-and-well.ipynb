{
 "cells": [
  {
   "cell_type": "markdown",
   "metadata": {},
   "source": [
    "# Snail and well\n",
    "\n",
    "A snail falls at the bottom of a 125 cm well. Each day the snail rises 30 cm. But at night, while sleeping, slides 20 cm because the walls are wet. How many days does it take to escape from the well?\n",
    "\n",
    "TIP: http://puzzles.nigelcoldwell.co.uk/sixtytwo.htm"
   ]
  },
  {
   "cell_type": "markdown",
   "metadata": {},
   "source": [
    "## Solución"
   ]
  },
  {
   "cell_type": "code",
   "execution_count": null,
   "metadata": {},
   "outputs": [],
   "source": [
    "# Assign problem data to variables with representative names\n",
    "# well height, daily advance, night retreat, accumulated distance\n",
    "height=125\n",
    "daily_advance=30\n",
    "night_retreat=20\n",
    "accumulated_distance=0\n",
    "days=0\n",
    "\n",
    "# Assign 0 to the variable that represents the solution\n",
    "accumulated_distance=0\n",
    "days=0\n",
    "\n",
    "# Write the code that solves the problem\n",
    "height=125\n",
    "daily_advance=30\n",
    "night_retreat=20\n",
    "accumulated_distance = 0\n",
    "accumulated_distance_day=0\n",
    "days=0\n",
    "\n",
    "\n",
    "while accumulated_distance_day< 125:\n",
    "    if days == 0:\n",
    "        accumulated_distance_day = 0\n",
    "        accumulated_distance = 0\n",
    "    else:\n",
    "        accumulated_distance = accumulated_distance + daily_advance - night_retreat\n",
    "        accumulated_distance_day = accumulated_distance + daily_advance\n",
    "    days +=1\n",
    "print('Days needed: ', days)\n",
    "    \n",
    "\n",
    "# Print the result with print('Days =', days)\n"
   ]
  },
  {
   "cell_type": "markdown",
   "metadata": {},
   "source": [
    "## Goals\n",
    "\n",
    "1. Treatment of variables\n",
    "2. Use of loop **while**\n",
    "3. Use of conditional **if-else**\n",
    "4. Print in console"
   ]
  },
  {
   "cell_type": "code",
   "execution_count": null,
   "metadata": {},
   "outputs": [],
   "source": []
  },
  {
   "cell_type": "code",
   "execution_count": null,
   "metadata": {},
   "outputs": [],
   "source": []
  },
  {
   "cell_type": "code",
   "execution_count": null,
   "metadata": {},
   "outputs": [],
   "source": []
  },
  {
   "cell_type": "markdown",
   "metadata": {},
   "source": [
    "## Bonus\n",
    "The distance traveled by the snail is now defined by a list.\n",
    "```\n",
    "advance_cm = [30, 21, 33, 77, 44, 45, 23, 45, 12, 34, 55]\n",
    "```\n",
    "How long does it take to raise the well?\n",
    "\n",
    "What is its maximum displacement in one day? And its minimum?\n",
    "\n",
    "What is its average speed during the day?\n",
    "\n",
    "What is the standard deviation of its displacement during the day?"
   ]
  },
  {
   "cell_type": "code",
   "execution_count": null,
   "metadata": {},
   "outputs": [],
   "source": [
    "# Assign problem data to variables with representative names\n",
    "# well height, daily advance, night retreat, accumulated distance\n",
    "advance_cm = [30,21,33,77,44,45,23,45,12,34,55]\n",
    "height=125\n",
    "accumulated_distance=0\n",
    "daily_advance = 0\n",
    "\n",
    "\n",
    "# Assign 0 to the variable that represents the solution\n",
    "days=0\n",
    "\n",
    "# Write the code that solves the problem\n",
    "for daily_advance in advance_cm:\n",
    "    days += 1\n",
    "    accumulated_distance = += daily_advance\n",
    "    print (accumulated_distance)\n",
    "    \n",
    "\n",
    "# Print the result with print('Days =', days)\n",
    "\n",
    "if accumulated_distance == 125:\n",
    "    print(\"days\", days)\n",
    "# What is its maximum displacement in a day? And its minimum?\n",
    "max(advance_cm)\n",
    "min(advance_cm)\n",
    "\n",
    "\n",
    "# What is its average progress?\n",
    "average_progress = sum(advanced_cm)/len(advanced_cm)\n",
    "print(average_progress)\n",
    "# What is the standard deviation of your displacement during the day?\n",
    "import statistics as s\n",
    "\n",
    "StDEV_displacement_day = s.stdev(advance_cm)\n",
    "print (\"The standard deviation of displacement during the day is\",stDEV_displacement_day)"
   ]
  },
  {
   "cell_type": "code",
   "execution_count": null,
   "metadata": {},
   "outputs": [],
   "source": [
    "advance_cm = [30,21,33,77,44,45,23,45,12,34,55]\n",
    "\n",
    "import statistics as s\n",
    "\n",
    "StDEV_displacement_day = s.stdev(advance_cm)\n",
    "print (\"The standard deviation of displacement during the day is\",StDEV_displacement_day)"
   ]
  },
  {
   "cell_type": "code",
   "execution_count": null,
   "metadata": {},
   "outputs": [],
   "source": []
  },
  {
   "cell_type": "code",
   "execution_count": null,
   "metadata": {},
   "outputs": [],
   "source": []
  }
 ],
 "metadata": {
  "kernelspec": {
   "display_name": "Python 3",
   "language": "python",
   "name": "python3"
  },
  "language_info": {
   "codemirror_mode": {
    "name": "ipython",
    "version": 3
   },
   "file_extension": ".py",
   "mimetype": "text/x-python",
   "name": "python",
   "nbconvert_exporter": "python",
   "pygments_lexer": "ipython3",
   "version": "3.7.3"
  }
 },
 "nbformat": 4,
 "nbformat_minor": 2
}
