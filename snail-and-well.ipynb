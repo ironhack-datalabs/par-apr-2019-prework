{
 "cells": [
  {
   "cell_type": "markdown",
   "metadata": {},
   "source": [
    "# Snail and well\n",
    "\n",
    "A snail falls at the bottom of a 125 cm well. Each day the snail rises 30 cm. But at night, while sleeping, slides 20 cm because the walls are wet. How many days does it take to escape from the well?\n",
    "\n",
    "TIP: http://puzzles.nigelcoldwell.co.uk/sixtytwo.htm"
   ]
  },
  {
   "cell_type": "markdown",
   "metadata": {},
   "source": [
    "## Solución"
   ]
  },
  {
   "cell_type": "code",
   "execution_count": 81,
   "metadata": {},
   "outputs": [
    {
     "name": "stdout",
     "output_type": "stream",
     "text": [
      "Advanced distance= 10 cm\n",
      "Snail has completed: 1 day(s)\n",
      "Advanced distance= 20 cm\n",
      "Snail has completed: 2 day(s)\n",
      "Advanced distance= 30 cm\n",
      "Snail has completed: 3 day(s)\n",
      "Advanced distance= 40 cm\n",
      "Snail has completed: 4 day(s)\n",
      "Advanced distance= 50 cm\n",
      "Snail has completed: 5 day(s)\n",
      "Advanced distance= 60 cm\n",
      "Snail has completed: 6 day(s)\n",
      "Advanced distance= 70 cm\n",
      "Snail has completed: 7 day(s)\n",
      "Advanced distance= 80 cm\n",
      "Snail has completed: 8 day(s)\n",
      "Advanced distance= 90 cm\n",
      "Snail has completed: 9 day(s)\n",
      "Advanced distance= 100 cm\n",
      "Snail has completed: 10 day(s)\n",
      "Advanced distance= 110 cm\n",
      "Snail has completed: 11 day(s)\n",
      "Advanced distance= 120 cm\n",
      "Snail has completed: 12 day(s)\n",
      "Advanced distance= 130 cm\n",
      "\n",
      "Max displacement in a day= 77 cm\n",
      "\n",
      "Min displacement in a day= 12 cm\n",
      "\n",
      "Average progress= 38 cm\n",
      "\n",
      "Standard Deviaton= 17.996969441850734\n"
     ]
    }
   ],
   "source": [
    "# Assign problem data to variables with representative names\n",
    "# well height, daily advance, night retreat, accumulated distance\n",
    "import statistics\n",
    "\n",
    "well_hgh = 125\n",
    "daily_adv = 30\n",
    "night_rt = -20\n",
    "total_adv = 0\n",
    "accum_dis = daily_adv + night_rt\n",
    "snail_in = True\n",
    "# Assign 0 to the variable that represents the solution\n",
    "days = int(0)\n",
    "# Write the code that solves the problem\n",
    "while  snail_in:\n",
    "        total_adv += accum_dis\n",
    "        days +=1\n",
    "        print(\"Advanced distance=\",total_adv,\"cm\")\n",
    "        if (total_adv > well_hgh):\n",
    "            snail_in = False\n",
    "        else:\n",
    "            print(\"Snail has completed:\",days,\"day(s)\")\n",
    "            \n",
    "# What is its maximum displacement in a day? And its minimum?\n",
    "advance_cm = [30, 21, 33, 77, 44, 45, 23, 45, 12, 34, 55]\n",
    "print (\"\\nMax displacement in a day=\",max(advance_cm),\"cm\")\n",
    "print (\"\\nMin displacement in a day=\",min(advance_cm),\"cm\")\n",
    "\n",
    "# What is its average progress?\n",
    "print (\"\\nAverage progress=\",int(sum(advance_cm)/len(advance_cm)),\"cm\")\n",
    "\n",
    "# What is the standard deviation of your displacement during the day?\n",
    "print (\"\\nStandard Deviaton=\",statistics.stdev(advance_cm))"
   ]
  },
  {
   "cell_type": "markdown",
   "metadata": {},
   "source": [
    "## Goals\n",
    "\n",
    "1. Treatment of variables\n",
    "2. Use of loop **while**\n",
    "3. Use of conditional **if-else**\n",
    "4. Print in console"
   ]
  },
  {
   "cell_type": "markdown",
   "metadata": {},
   "source": [
    "## Bonus\n",
    "The distance traveled by the snail is now defined by a list.\n",
    "```\n",
    "advance_cm = [30, 21, 33, 77, 44, 45, 23, 45, 12, 34, 55]\n",
    "```\n",
    "How long does it take to raise the well?\n",
    "\n",
    "What is its maximum displacement in one day? And its minimum?\n",
    "\n",
    "What is its average speed during the day?\n",
    "\n",
    "What is the standard deviation of its displacement during the day?"
   ]
  }
 ],
 "metadata": {
  "kernelspec": {
   "display_name": "Python 3",
   "language": "python",
   "name": "python3"
  },
  "language_info": {
   "codemirror_mode": {
    "name": "ipython",
    "version": 3
   },
   "file_extension": ".py",
   "mimetype": "text/x-python",
   "name": "python",
   "nbconvert_exporter": "python",
   "pygments_lexer": "ipython3",
   "version": "3.7.4"
  }
 },
 "nbformat": 4,
 "nbformat_minor": 2
}
