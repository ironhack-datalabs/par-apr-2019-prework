{
 "cells": [
  {
   "cell_type": "markdown",
   "metadata": {},
   "source": [
    "# Rock Paper Scissors\n",
    "\n",
    "Let's play the famous game against our computer.\n",
    "\n",
    "https://en.wikipedia.org/wiki/Rock%E2%80%93paper%E2%80%93scissors\n",
    "\n",
    "The use of functions is recommended\n",
    "\n",
    "## Goals\n",
    "1. Use of loop\n",
    "2. Data capture by console\n",
    "3. Use if-elif-else\n",
    "4. Use of try-except\n",
    "5. Definition of functions. Modular programming\n",
    "6. Logical operators.\n",
    "7. Print\n",
    "8. Import modules"
   ]
  },
  {
   "cell_type": "markdown",
   "metadata": {},
   "source": [
    "Import the choice function of the random module\n",
    " https://stackoverflow.com/questions/306400/how-to-randomly-select-an-item-from-a-list"
   ]
  },
  {
   "cell_type": "code",
   "execution_count": 1,
   "metadata": {},
   "outputs": [],
   "source": [
    "import random"
   ]
  },
  {
   "cell_type": "markdown",
   "metadata": {},
   "source": [
    "Assign to a list the 3 possible options: 'stone', 'paper' or 'scissors'."
   ]
  },
  {
   "cell_type": "code",
   "execution_count": 2,
   "metadata": {},
   "outputs": [],
   "source": [
    "choices = [\"stone\",\"paper\",\"scissors\"]"
   ]
  },
  {
   "cell_type": "code",
   "execution_count": 3,
   "metadata": {},
   "outputs": [
    {
     "data": {
      "text/plain": [
       "['stone', 'paper', 'scissors']"
      ]
     },
     "execution_count": 3,
     "metadata": {},
     "output_type": "execute_result"
    }
   ],
   "source": [
    "choices"
   ]
  },
  {
   "cell_type": "markdown",
   "metadata": {},
   "source": [
    "Assign a variable to the maximum number of games: 1, 3, 5, etc ..."
   ]
  },
  {
   "cell_type": "code",
   "execution_count": 4,
   "metadata": {},
   "outputs": [],
   "source": [
    "maximum_number_of_games = 5"
   ]
  },
  {
   "cell_type": "markdown",
   "metadata": {},
   "source": [
    "Assign a variable to the number of games a player must win to win.Preferably the value will be based on the number of maximum games"
   ]
  },
  {
   "cell_type": "code",
   "execution_count": 5,
   "metadata": {},
   "outputs": [],
   "source": [
    "number_of_wins = 3"
   ]
  },
  {
   "cell_type": "markdown",
   "metadata": {},
   "source": [
    "Define a function that randomly returns one of the 3 options.This will correspond to the play of the machine. Totally random."
   ]
  },
  {
   "cell_type": "code",
   "execution_count": 6,
   "metadata": {},
   "outputs": [],
   "source": [
    "def randomChoice(list_choices):\n",
    "    result_random_choice = random.choices(list_choices)\n",
    "    result_this_function = str(result_random_choice[0]) #changes value to string type\n",
    "    return result_this_function"
   ]
  },
  {
   "cell_type": "code",
   "execution_count": 7,
   "metadata": {},
   "outputs": [
    {
     "data": {
      "text/plain": [
       "'stone'"
      ]
     },
     "execution_count": 7,
     "metadata": {},
     "output_type": "execute_result"
    }
   ],
   "source": [
    "randomChoice(choices)"
   ]
  },
  {
   "cell_type": "markdown",
   "metadata": {},
   "source": [
    "Define a function that asks your choice: 'stone', 'paper' or 'scissors'\n",
    "you should only allow one of the 3 options. This is defensive programming.\n",
    "If it is not stone, paper or scissors keep asking until it is."
   ]
  },
  {
   "cell_type": "code",
   "execution_count": 8,
   "metadata": {},
   "outputs": [],
   "source": [
    "def askChoice():\n",
    "    players_choice = input(\"Please type exactally your choose:\\n stone\\n paper\\n scissors\\n your pick:\")\n",
    "    list_options = [\"stone\",\"paper\",\"scissors\"]\n",
    "    while players_choice not in list_options:\n",
    "        print(\"\\nthis is not a valid option, please insert correct answer\")\n",
    "        players_choice = input(\"Please type exactally your choose:\\n stone\\n paper\\n scissors\")\n",
    "       \n",
    "    if players_choice == \"stone\":\n",
    "        return \"stone\"\n",
    "    elif players_choice == \"paper\":\n",
    "        return \"paper\"\n",
    "    elif players_choice == \"scissors\":\n",
    "        return \"scissors\""
   ]
  },
  {
   "cell_type": "markdown",
   "metadata": {},
   "source": [
    "Define a function that resolves a combat.\n",
    "Returns 0 if there is a tie, 1 if the machine wins, 2 if the human player wins"
   ]
  },
  {
   "cell_type": "code",
   "execution_count": 9,
   "metadata": {},
   "outputs": [],
   "source": [
    "def battleJankenpo():\n",
    "    player_choice_ = askChoice()\n",
    "    machine_choice = randomChoice(choices)\n",
    "    #game conditions\n",
    "    if player_choice_ == \"stone\" and  machine_choice == \"scissors\":\n",
    "        return 2\n",
    "    elif player_choice_ == \"stone\" and machine_choice == \"paper\":\n",
    "        return 1\n",
    "    elif player_choice_ == \"scissors\" and machine_choice == \"paper\":\n",
    "        return 2\n",
    "    elif player_choice_ == \"scissors\" and machine_choice == \"stone\":\n",
    "        return 1\n",
    "    elif player_choice_ == \"paper\" and machine_choice == \"stone\":\n",
    "        return 2\n",
    "    elif player_choice_ == \"paper\" and machine_choice == \"scissors\":\n",
    "        return 1\n",
    "    elif player_choice_ == machine_choice:\n",
    "        return 0"
   ]
  },
  {
   "cell_type": "code",
   "execution_count": 14,
   "metadata": {},
   "outputs": [
    {
     "name": "stdout",
     "output_type": "stream",
     "text": [
      "Please type exactally your choose:\n",
      " stone\n",
      " paper\n",
      " scissors\n",
      " your pick:scissors\n"
     ]
    },
    {
     "data": {
      "text/plain": [
       "0"
      ]
     },
     "execution_count": 14,
     "metadata": {},
     "output_type": "execute_result"
    }
   ],
   "source": [
    "battleJankenpo()"
   ]
  },
  {
   "cell_type": "markdown",
   "metadata": {},
   "source": [
    "Create two variables that accumulate the wins of each participant"
   ]
  },
  {
   "cell_type": "code",
   "execution_count": 15,
   "metadata": {},
   "outputs": [],
   "source": [
    "accumulated_players_wins = 0\n",
    "accumulated_machine_wins = 0"
   ]
  },
  {
   "cell_type": "markdown",
   "metadata": {},
   "source": [
    "Create a loop that iterates while no player reaches the minimum of wins necessary to win. \n",
    "Inside the loop solves the play of the machine and ask the player's. Compare them and update the value of the variables\n",
    "that accumulate the wins of each participant."
   ]
  },
  {
   "cell_type": "code",
   "execution_count": null,
   "metadata": {},
   "outputs": [
    {
     "name": "stdout",
     "output_type": "stream",
     "text": [
      "Please type exactally your choose:\n",
      " stone\n",
      " paper\n",
      " scissors\n",
      " your pick:stone\n"
     ]
    }
   ],
   "source": [
    "for round in range(maximum_number_of_games):\n",
    "    result_of_this_match = battleJankenpo()\n",
    "    while accumulated_players_wins < number_of_wins or accumulated_machine_wins < number_of_wins:\n",
    "        if result_of_this_match == 2:\n",
    "            accumulated_players_wins+= 1\n",
    "        elif result_of_this_match == 1:\n",
    "            accumulated_machine_wins += 1\n",
    "        elif result_of_this_match == 0:\n",
    "            pass"
   ]
  },
  {
   "cell_type": "markdown",
   "metadata": {},
   "source": [
    "Print by console the winner of the game based on who has more accumulated wins"
   ]
  },
  {
   "cell_type": "code",
   "execution_count": null,
   "metadata": {},
   "outputs": [],
   "source": [
    "if accumulated_players_wins > accumulated_machine_wins:\n",
    "    print(\"The winner is THE PLAYER\")\n",
    "elif accumulated_players_wins < accumulated_machine_wins:\n",
    "    print(\"The winner is THE MACHINE\")\n",
    "else:\n",
    "    print(\"DRAW\")"
   ]
  },
  {
   "cell_type": "markdown",
   "metadata": {},
   "source": [
    "# Bonus: Stone, paper, scissors, lizard, spock\n",
    "\n",
    "Now the improvement begins.\n",
    "\n",
    "![](images/rpsls.jpg)\n",
    "\n",
    "\n",
    "http://www.samkass.com/theories/RPSSL.html\n",
    "\n",
    "You are asked to impliment some improvements with respect to the simple previous game. In addition, the number of games (which must be ODD) will be requested per console until a valid number is entered.\n",
    "\n",
    "Improvements:\n",
    "* 5 options: stone, paper, scissors, lizard, spock\n",
    "* The number of games is requested per console\n",
    "Tip: Reuse code that you already use. If you have programmed intelligently, the bonus are simple modifications to the original game."
   ]
  },
  {
   "cell_type": "code",
   "execution_count": 13,
   "metadata": {},
   "outputs": [],
   "source": [
    "# Import the choice function of the random module\n",
    "\n",
    "\n",
    "# Define a function that asks for an odd number on the keyboard, until it is not valid\n",
    "# will keep asking\n",
    "\n",
    "\n",
    "# Assign a list of 5 possible options.\n",
    "\n",
    "\n",
    "# Assign a variable to the maximum number of games: 1, 3, 5, etc ...\n",
    "# This time the previously defined function is used\n",
    "\n",
    "\n",
    "# Assign a variable to the number of games a player must win to win.\n",
    "# Preferably the value will be based on the number of maximum games\n",
    "\n",
    "\n",
    "# Define a function that randomly returns one of the 5 options.\n",
    "# This will correspond to the play of the machine. Totally random.\n",
    "\n",
    "\n",
    "# Define a function that asks your choice between 5\n",
    "# you should only allow one of the 5 options. This is defensive programming.\n",
    "# If it is not valid, keep asking until it is valid.\n",
    "\n",
    "\n",
    "# Define a function that resolves a combat.\n",
    "# Returns 0 if there is a tie, 1 if the machine wins, 2 if the human player wins\n",
    "# Now there are more options\n",
    " \n",
    "\n",
    "    \n",
    "# Define a function that shows the choice of each player and the state of the game\n",
    "# This function should be used every time accumulated points are updated\n",
    "\n",
    "    \n",
    "# Create two variables that accumulate the wins of each participant\n",
    "\n",
    "# Create a loop that iterates while no player reaches the minimum of wins\n",
    "# necessary to win. Inside the loop solves the play of the\n",
    "# machine and ask the player's. Compare them and update the value of the variables\n",
    "# that accumulate the wins of each participant.\n",
    "\n",
    "    \n",
    "    \n",
    "# Print by console the winner of the game based on who has more accumulated wins\n",
    "\n"
   ]
  },
  {
   "cell_type": "code",
   "execution_count": null,
   "metadata": {},
   "outputs": [],
   "source": []
  },
  {
   "cell_type": "code",
   "execution_count": null,
   "metadata": {},
   "outputs": [],
   "source": []
  },
  {
   "cell_type": "code",
   "execution_count": null,
   "metadata": {},
   "outputs": [],
   "source": []
  },
  {
   "cell_type": "code",
   "execution_count": null,
   "metadata": {},
   "outputs": [],
   "source": []
  }
 ],
 "metadata": {
  "kernelspec": {
   "display_name": "Python 3",
   "language": "python",
   "name": "python3"
  },
  "language_info": {
   "codemirror_mode": {
    "name": "ipython",
    "version": 3
   },
   "file_extension": ".py",
   "mimetype": "text/x-python",
   "name": "python",
   "nbconvert_exporter": "python",
   "pygments_lexer": "ipython3",
   "version": "3.7.1"
  }
 },
 "nbformat": 4,
 "nbformat_minor": 2
}
