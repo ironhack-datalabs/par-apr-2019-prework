{
 "cells": [
  {
   "cell_type": "markdown",
   "metadata": {},
   "source": [
    "# Bus\n",
    "\n",
    "This bus has a passenger entry and exit control system to monitor the number of occupants it carries and thus detect when there is too high a capacity.\n",
    "\n",
    "At each stop the entry and exit of passengers is represented by a tuple consisting of two integer numbers.\n",
    "```\n",
    "bus_stop = (in, out)\n",
    "```\n",
    "The succession of stops is represented by a list of these tuples.\n",
    "```\n",
    "stops = [(in1, out1), (in2, out2), (in3, out3), (in4, out4)]\n",
    "```\n",
    "\n",
    "## Goals:\n",
    "* lists, tuples\n",
    "* while/for loops\n",
    "* minimum, maximum, length\n",
    "* average, standard deviation\n",
    "\n",
    "## Tasks\n",
    "1. Calculate the number of stops.\n",
    "2. Assign to a variable a list whose elements are the number of passengers at each stop (in-out),\n",
    "3. Find the maximum occupation of the bus.\n",
    "4. Calculate the average occupation. And the standard deviation.\n"
   ]
  },
  {
   "cell_type": "code",
   "execution_count": 21,
   "metadata": {},
   "outputs": [],
   "source": [
    "# variables\n",
    "\n",
    "bus_stop1 = (12,0)\n",
    "bus_stop2 = (3,4)\n",
    "bus_stop3 = (5,4)\n",
    "bus_stop4 = (6,6)\n",
    "       \n",
    "    "
   ]
  },
  {
   "cell_type": "code",
   "execution_count": 22,
   "metadata": {},
   "outputs": [
    {
     "name": "stdout",
     "output_type": "stream",
     "text": [
      "The number of bus stops is 4\n"
     ]
    }
   ],
   "source": [
    "# 1. Calculate the number of stops.\n",
    "       \n",
    "\n",
    "bus_stops = [(12,0),(3,4),(5,4),(6,6)]\n",
    "\n",
    "print(\"The number of bus stops is\", len(bus_stops))\n",
    "\n",
    "\n",
    "\n"
   ]
  },
  {
   "cell_type": "code",
   "execution_count": 112,
   "metadata": {},
   "outputs": [
    {
     "name": "stdout",
     "output_type": "stream",
     "text": [
      "[12, 11, 12, 12]\n"
     ]
    }
   ],
   "source": [
    "# 2. Assign a variable a list whose elements are the number of passengers in each stop: \n",
    "# Each item depends on the previous item in the list + in - out.\n",
    "\n",
    "bus_stops = [(12,0),(3,4),(5,4),(6,6)]\n",
    "nmbr = 0\n",
    "bus_passengers = []\n",
    "for var in bus_stops:\n",
    "    nmbr = nmbr + var[0] - var[1]\n",
    "    bus_passengers.append(nmbr)\n",
    "print(bus_passengers)\n",
    "  "
   ]
  },
  {
   "cell_type": "code",
   "execution_count": 113,
   "metadata": {},
   "outputs": [
    {
     "data": {
      "text/plain": [
       "12"
      ]
     },
     "execution_count": 113,
     "metadata": {},
     "output_type": "execute_result"
    }
   ],
   "source": [
    "# 3. Find the maximum occupation of the bus.\n",
    "\n",
    "max(bus_passengers)"
   ]
  },
  {
   "cell_type": "code",
   "execution_count": 114,
   "metadata": {},
   "outputs": [
    {
     "name": "stdout",
     "output_type": "stream",
     "text": [
      "11.75\n",
      "0.5\n"
     ]
    }
   ],
   "source": [
    "# 4. Calculate the average occupation. And the standard deviation.\n",
    "import statistics as s\n",
    "average_occupation = s.mean(bus_passengers)\n",
    "print(average_occupation)\n",
    "standard_deviation = s.stdev(bus_passengers)\n",
    "print(standard_deviation)\n"
   ]
  },
  {
   "cell_type": "code",
   "execution_count": null,
   "metadata": {},
   "outputs": [],
   "source": []
  }
 ],
 "metadata": {
  "kernelspec": {
   "display_name": "Python 3",
   "language": "python",
   "name": "python3"
  },
  "language_info": {
   "codemirror_mode": {
    "name": "ipython",
    "version": 3
   },
   "file_extension": ".py",
   "mimetype": "text/x-python",
   "name": "python",
   "nbconvert_exporter": "python",
   "pygments_lexer": "ipython3",
   "version": "3.7.3"
  }
 },
 "nbformat": 4,
 "nbformat_minor": 2
}
